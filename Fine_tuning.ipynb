{
  "cells": [
    {
      "cell_type": "markdown",
      "metadata": {
        "id": "view-in-github",
        "colab_type": "text"
      },
      "source": [
        "<a href=\"https://colab.research.google.com/github/wenny380/NlP/blob/main/Fine_tuning.ipynb\" target=\"_parent\"><img src=\"https://colab.research.google.com/assets/colab-badge.svg\" alt=\"Open In Colab\"/></a>"
      ]
    },
    {
      "cell_type": "code",
      "execution_count": 1,
      "metadata": {
        "colab": {
          "base_uri": "https://localhost:8080/"
        },
        "collapsed": true,
        "id": "9EhWoZef-X8u",
        "outputId": "44868009-df23-4ffa-b2c6-408396773393"
      },
      "outputs": [
        {
          "output_type": "stream",
          "name": "stdout",
          "text": [
            "Collecting accelerate\n",
            "  Downloading accelerate-0.30.1-py3-none-any.whl (302 kB)\n",
            "\u001b[2K     \u001b[90m━━━━━━━━━━━━━━━━━━━━━━━━━━━━━━━━━━━━━━━━\u001b[0m \u001b[32m302.6/302.6 kB\u001b[0m \u001b[31m4.1 MB/s\u001b[0m eta \u001b[36m0:00:00\u001b[0m\n",
            "\u001b[?25hRequirement already satisfied: numpy>=1.17 in /usr/local/lib/python3.10/dist-packages (from accelerate) (1.25.2)\n",
            "Requirement already satisfied: packaging>=20.0 in /usr/local/lib/python3.10/dist-packages (from accelerate) (24.0)\n",
            "Requirement already satisfied: psutil in /usr/local/lib/python3.10/dist-packages (from accelerate) (5.9.5)\n",
            "Requirement already satisfied: pyyaml in /usr/local/lib/python3.10/dist-packages (from accelerate) (6.0.1)\n",
            "Requirement already satisfied: torch>=1.10.0 in /usr/local/lib/python3.10/dist-packages (from accelerate) (2.2.1+cu121)\n",
            "Requirement already satisfied: huggingface-hub in /usr/local/lib/python3.10/dist-packages (from accelerate) (0.20.3)\n",
            "Requirement already satisfied: safetensors>=0.3.1 in /usr/local/lib/python3.10/dist-packages (from accelerate) (0.4.3)\n",
            "Requirement already satisfied: filelock in /usr/local/lib/python3.10/dist-packages (from torch>=1.10.0->accelerate) (3.14.0)\n",
            "Requirement already satisfied: typing-extensions>=4.8.0 in /usr/local/lib/python3.10/dist-packages (from torch>=1.10.0->accelerate) (4.11.0)\n",
            "Requirement already satisfied: sympy in /usr/local/lib/python3.10/dist-packages (from torch>=1.10.0->accelerate) (1.12)\n",
            "Requirement already satisfied: networkx in /usr/local/lib/python3.10/dist-packages (from torch>=1.10.0->accelerate) (3.3)\n",
            "Requirement already satisfied: jinja2 in /usr/local/lib/python3.10/dist-packages (from torch>=1.10.0->accelerate) (3.1.4)\n",
            "Requirement already satisfied: fsspec in /usr/local/lib/python3.10/dist-packages (from torch>=1.10.0->accelerate) (2023.6.0)\n",
            "Collecting nvidia-cuda-nvrtc-cu12==12.1.105 (from torch>=1.10.0->accelerate)\n",
            "  Using cached nvidia_cuda_nvrtc_cu12-12.1.105-py3-none-manylinux1_x86_64.whl (23.7 MB)\n",
            "Collecting nvidia-cuda-runtime-cu12==12.1.105 (from torch>=1.10.0->accelerate)\n",
            "  Using cached nvidia_cuda_runtime_cu12-12.1.105-py3-none-manylinux1_x86_64.whl (823 kB)\n",
            "Collecting nvidia-cuda-cupti-cu12==12.1.105 (from torch>=1.10.0->accelerate)\n",
            "  Using cached nvidia_cuda_cupti_cu12-12.1.105-py3-none-manylinux1_x86_64.whl (14.1 MB)\n",
            "Collecting nvidia-cudnn-cu12==8.9.2.26 (from torch>=1.10.0->accelerate)\n",
            "  Using cached nvidia_cudnn_cu12-8.9.2.26-py3-none-manylinux1_x86_64.whl (731.7 MB)\n",
            "Collecting nvidia-cublas-cu12==12.1.3.1 (from torch>=1.10.0->accelerate)\n",
            "  Using cached nvidia_cublas_cu12-12.1.3.1-py3-none-manylinux1_x86_64.whl (410.6 MB)\n",
            "Collecting nvidia-cufft-cu12==11.0.2.54 (from torch>=1.10.0->accelerate)\n",
            "  Using cached nvidia_cufft_cu12-11.0.2.54-py3-none-manylinux1_x86_64.whl (121.6 MB)\n",
            "Collecting nvidia-curand-cu12==10.3.2.106 (from torch>=1.10.0->accelerate)\n",
            "  Using cached nvidia_curand_cu12-10.3.2.106-py3-none-manylinux1_x86_64.whl (56.5 MB)\n",
            "Collecting nvidia-cusolver-cu12==11.4.5.107 (from torch>=1.10.0->accelerate)\n",
            "  Using cached nvidia_cusolver_cu12-11.4.5.107-py3-none-manylinux1_x86_64.whl (124.2 MB)\n",
            "Collecting nvidia-cusparse-cu12==12.1.0.106 (from torch>=1.10.0->accelerate)\n",
            "  Using cached nvidia_cusparse_cu12-12.1.0.106-py3-none-manylinux1_x86_64.whl (196.0 MB)\n",
            "Collecting nvidia-nccl-cu12==2.19.3 (from torch>=1.10.0->accelerate)\n",
            "  Using cached nvidia_nccl_cu12-2.19.3-py3-none-manylinux1_x86_64.whl (166.0 MB)\n",
            "Collecting nvidia-nvtx-cu12==12.1.105 (from torch>=1.10.0->accelerate)\n",
            "  Using cached nvidia_nvtx_cu12-12.1.105-py3-none-manylinux1_x86_64.whl (99 kB)\n",
            "Requirement already satisfied: triton==2.2.0 in /usr/local/lib/python3.10/dist-packages (from torch>=1.10.0->accelerate) (2.2.0)\n",
            "Collecting nvidia-nvjitlink-cu12 (from nvidia-cusolver-cu12==11.4.5.107->torch>=1.10.0->accelerate)\n",
            "  Using cached nvidia_nvjitlink_cu12-12.4.127-py3-none-manylinux2014_x86_64.whl (21.1 MB)\n",
            "Requirement already satisfied: requests in /usr/local/lib/python3.10/dist-packages (from huggingface-hub->accelerate) (2.31.0)\n",
            "Requirement already satisfied: tqdm>=4.42.1 in /usr/local/lib/python3.10/dist-packages (from huggingface-hub->accelerate) (4.66.4)\n",
            "Requirement already satisfied: MarkupSafe>=2.0 in /usr/local/lib/python3.10/dist-packages (from jinja2->torch>=1.10.0->accelerate) (2.1.5)\n",
            "Requirement already satisfied: charset-normalizer<4,>=2 in /usr/local/lib/python3.10/dist-packages (from requests->huggingface-hub->accelerate) (3.3.2)\n",
            "Requirement already satisfied: idna<4,>=2.5 in /usr/local/lib/python3.10/dist-packages (from requests->huggingface-hub->accelerate) (3.7)\n",
            "Requirement already satisfied: urllib3<3,>=1.21.1 in /usr/local/lib/python3.10/dist-packages (from requests->huggingface-hub->accelerate) (2.0.7)\n",
            "Requirement already satisfied: certifi>=2017.4.17 in /usr/local/lib/python3.10/dist-packages (from requests->huggingface-hub->accelerate) (2024.2.2)\n",
            "Requirement already satisfied: mpmath>=0.19 in /usr/local/lib/python3.10/dist-packages (from sympy->torch>=1.10.0->accelerate) (1.3.0)\n",
            "Installing collected packages: nvidia-nvtx-cu12, nvidia-nvjitlink-cu12, nvidia-nccl-cu12, nvidia-curand-cu12, nvidia-cufft-cu12, nvidia-cuda-runtime-cu12, nvidia-cuda-nvrtc-cu12, nvidia-cuda-cupti-cu12, nvidia-cublas-cu12, nvidia-cusparse-cu12, nvidia-cudnn-cu12, nvidia-cusolver-cu12, accelerate\n",
            "Successfully installed accelerate-0.30.1 nvidia-cublas-cu12-12.1.3.1 nvidia-cuda-cupti-cu12-12.1.105 nvidia-cuda-nvrtc-cu12-12.1.105 nvidia-cuda-runtime-cu12-12.1.105 nvidia-cudnn-cu12-8.9.2.26 nvidia-cufft-cu12-11.0.2.54 nvidia-curand-cu12-10.3.2.106 nvidia-cusolver-cu12-11.4.5.107 nvidia-cusparse-cu12-12.1.0.106 nvidia-nccl-cu12-2.19.3 nvidia-nvjitlink-cu12-12.4.127 nvidia-nvtx-cu12-12.1.105\n",
            "Requirement already satisfied: transformers in /usr/local/lib/python3.10/dist-packages (4.40.2)\n",
            "Requirement already satisfied: filelock in /usr/local/lib/python3.10/dist-packages (from transformers) (3.14.0)\n",
            "Requirement already satisfied: huggingface-hub<1.0,>=0.19.3 in /usr/local/lib/python3.10/dist-packages (from transformers) (0.20.3)\n",
            "Requirement already satisfied: numpy>=1.17 in /usr/local/lib/python3.10/dist-packages (from transformers) (1.25.2)\n",
            "Requirement already satisfied: packaging>=20.0 in /usr/local/lib/python3.10/dist-packages (from transformers) (24.0)\n",
            "Requirement already satisfied: pyyaml>=5.1 in /usr/local/lib/python3.10/dist-packages (from transformers) (6.0.1)\n",
            "Requirement already satisfied: regex!=2019.12.17 in /usr/local/lib/python3.10/dist-packages (from transformers) (2023.12.25)\n",
            "Requirement already satisfied: requests in /usr/local/lib/python3.10/dist-packages (from transformers) (2.31.0)\n",
            "Requirement already satisfied: tokenizers<0.20,>=0.19 in /usr/local/lib/python3.10/dist-packages (from transformers) (0.19.1)\n",
            "Requirement already satisfied: safetensors>=0.4.1 in /usr/local/lib/python3.10/dist-packages (from transformers) (0.4.3)\n",
            "Requirement already satisfied: tqdm>=4.27 in /usr/local/lib/python3.10/dist-packages (from transformers) (4.66.4)\n",
            "Requirement already satisfied: fsspec>=2023.5.0 in /usr/local/lib/python3.10/dist-packages (from huggingface-hub<1.0,>=0.19.3->transformers) (2023.6.0)\n",
            "Requirement already satisfied: typing-extensions>=3.7.4.3 in /usr/local/lib/python3.10/dist-packages (from huggingface-hub<1.0,>=0.19.3->transformers) (4.11.0)\n",
            "Requirement already satisfied: charset-normalizer<4,>=2 in /usr/local/lib/python3.10/dist-packages (from requests->transformers) (3.3.2)\n",
            "Requirement already satisfied: idna<4,>=2.5 in /usr/local/lib/python3.10/dist-packages (from requests->transformers) (3.7)\n",
            "Requirement already satisfied: urllib3<3,>=1.21.1 in /usr/local/lib/python3.10/dist-packages (from requests->transformers) (2.0.7)\n",
            "Requirement already satisfied: certifi>=2017.4.17 in /usr/local/lib/python3.10/dist-packages (from requests->transformers) (2024.2.2)\n",
            "Collecting datasets\n",
            "  Downloading datasets-2.19.1-py3-none-any.whl (542 kB)\n",
            "\u001b[2K     \u001b[90m━━━━━━━━━━━━━━━━━━━━━━━━━━━━━━━━━━━━━━━━\u001b[0m \u001b[32m542.0/542.0 kB\u001b[0m \u001b[31m9.0 MB/s\u001b[0m eta \u001b[36m0:00:00\u001b[0m\n",
            "\u001b[?25hRequirement already satisfied: filelock in /usr/local/lib/python3.10/dist-packages (from datasets) (3.14.0)\n",
            "Requirement already satisfied: numpy>=1.17 in /usr/local/lib/python3.10/dist-packages (from datasets) (1.25.2)\n",
            "Requirement already satisfied: pyarrow>=12.0.0 in /usr/local/lib/python3.10/dist-packages (from datasets) (14.0.2)\n",
            "Requirement already satisfied: pyarrow-hotfix in /usr/local/lib/python3.10/dist-packages (from datasets) (0.6)\n",
            "Collecting dill<0.3.9,>=0.3.0 (from datasets)\n",
            "  Downloading dill-0.3.8-py3-none-any.whl (116 kB)\n",
            "\u001b[2K     \u001b[90m━━━━━━━━━━━━━━━━━━━━━━━━━━━━━━━━━━━━━━━━\u001b[0m \u001b[32m116.3/116.3 kB\u001b[0m \u001b[31m14.4 MB/s\u001b[0m eta \u001b[36m0:00:00\u001b[0m\n",
            "\u001b[?25hRequirement already satisfied: pandas in /usr/local/lib/python3.10/dist-packages (from datasets) (2.0.3)\n",
            "Requirement already satisfied: requests>=2.19.0 in /usr/local/lib/python3.10/dist-packages (from datasets) (2.31.0)\n",
            "Requirement already satisfied: tqdm>=4.62.1 in /usr/local/lib/python3.10/dist-packages (from datasets) (4.66.4)\n",
            "Collecting xxhash (from datasets)\n",
            "  Downloading xxhash-3.4.1-cp310-cp310-manylinux_2_17_x86_64.manylinux2014_x86_64.whl (194 kB)\n",
            "\u001b[2K     \u001b[90m━━━━━━━━━━━━━━━━━━━━━━━━━━━━━━━━━━━━━━━━\u001b[0m \u001b[32m194.1/194.1 kB\u001b[0m \u001b[31m15.1 MB/s\u001b[0m eta \u001b[36m0:00:00\u001b[0m\n",
            "\u001b[?25hCollecting multiprocess (from datasets)\n",
            "  Downloading multiprocess-0.70.16-py310-none-any.whl (134 kB)\n",
            "\u001b[2K     \u001b[90m━━━━━━━━━━━━━━━━━━━━━━━━━━━━━━━━━━━━━━━━\u001b[0m \u001b[32m134.8/134.8 kB\u001b[0m \u001b[31m12.4 MB/s\u001b[0m eta \u001b[36m0:00:00\u001b[0m\n",
            "\u001b[?25hRequirement already satisfied: fsspec[http]<=2024.3.1,>=2023.1.0 in /usr/local/lib/python3.10/dist-packages (from datasets) (2023.6.0)\n",
            "Requirement already satisfied: aiohttp in /usr/local/lib/python3.10/dist-packages (from datasets) (3.9.5)\n",
            "Collecting huggingface-hub>=0.21.2 (from datasets)\n",
            "  Downloading huggingface_hub-0.23.0-py3-none-any.whl (401 kB)\n",
            "\u001b[2K     \u001b[90m━━━━━━━━━━━━━━━━━━━━━━━━━━━━━━━━━━━━━━━━\u001b[0m \u001b[32m401.2/401.2 kB\u001b[0m \u001b[31m12.8 MB/s\u001b[0m eta \u001b[36m0:00:00\u001b[0m\n",
            "\u001b[?25hRequirement already satisfied: packaging in /usr/local/lib/python3.10/dist-packages (from datasets) (24.0)\n",
            "Requirement already satisfied: pyyaml>=5.1 in /usr/local/lib/python3.10/dist-packages (from datasets) (6.0.1)\n",
            "Requirement already satisfied: aiosignal>=1.1.2 in /usr/local/lib/python3.10/dist-packages (from aiohttp->datasets) (1.3.1)\n",
            "Requirement already satisfied: attrs>=17.3.0 in /usr/local/lib/python3.10/dist-packages (from aiohttp->datasets) (23.2.0)\n",
            "Requirement already satisfied: frozenlist>=1.1.1 in /usr/local/lib/python3.10/dist-packages (from aiohttp->datasets) (1.4.1)\n",
            "Requirement already satisfied: multidict<7.0,>=4.5 in /usr/local/lib/python3.10/dist-packages (from aiohttp->datasets) (6.0.5)\n",
            "Requirement already satisfied: yarl<2.0,>=1.0 in /usr/local/lib/python3.10/dist-packages (from aiohttp->datasets) (1.9.4)\n",
            "Requirement already satisfied: async-timeout<5.0,>=4.0 in /usr/local/lib/python3.10/dist-packages (from aiohttp->datasets) (4.0.3)\n",
            "Requirement already satisfied: typing-extensions>=3.7.4.3 in /usr/local/lib/python3.10/dist-packages (from huggingface-hub>=0.21.2->datasets) (4.11.0)\n",
            "Requirement already satisfied: charset-normalizer<4,>=2 in /usr/local/lib/python3.10/dist-packages (from requests>=2.19.0->datasets) (3.3.2)\n",
            "Requirement already satisfied: idna<4,>=2.5 in /usr/local/lib/python3.10/dist-packages (from requests>=2.19.0->datasets) (3.7)\n",
            "Requirement already satisfied: urllib3<3,>=1.21.1 in /usr/local/lib/python3.10/dist-packages (from requests>=2.19.0->datasets) (2.0.7)\n",
            "Requirement already satisfied: certifi>=2017.4.17 in /usr/local/lib/python3.10/dist-packages (from requests>=2.19.0->datasets) (2024.2.2)\n",
            "Requirement already satisfied: python-dateutil>=2.8.2 in /usr/local/lib/python3.10/dist-packages (from pandas->datasets) (2.8.2)\n",
            "Requirement already satisfied: pytz>=2020.1 in /usr/local/lib/python3.10/dist-packages (from pandas->datasets) (2023.4)\n",
            "Requirement already satisfied: tzdata>=2022.1 in /usr/local/lib/python3.10/dist-packages (from pandas->datasets) (2024.1)\n",
            "Requirement already satisfied: six>=1.5 in /usr/local/lib/python3.10/dist-packages (from python-dateutil>=2.8.2->pandas->datasets) (1.16.0)\n",
            "Installing collected packages: xxhash, dill, multiprocess, huggingface-hub, datasets\n",
            "  Attempting uninstall: huggingface-hub\n",
            "    Found existing installation: huggingface-hub 0.20.3\n",
            "    Uninstalling huggingface-hub-0.20.3:\n",
            "      Successfully uninstalled huggingface-hub-0.20.3\n",
            "Successfully installed datasets-2.19.1 dill-0.3.8 huggingface-hub-0.23.0 multiprocess-0.70.16 xxhash-3.4.1\n",
            "Collecting rouge\n",
            "  Downloading rouge-1.0.1-py3-none-any.whl (13 kB)\n",
            "Requirement already satisfied: six in /usr/local/lib/python3.10/dist-packages (from rouge) (1.16.0)\n",
            "Installing collected packages: rouge\n",
            "Successfully installed rouge-1.0.1\n",
            "\u001b[2K     \u001b[90m━━━━━━━━━━━━━━━━━━━━━━━━━━━━━━━━━━━━━━━━\u001b[0m \u001b[32m84.1/84.1 kB\u001b[0m \u001b[31m3.3 MB/s\u001b[0m eta \u001b[36m0:00:00\u001b[0m\n",
            "\u001b[?25h  Preparing metadata (setup.py) ... \u001b[?25l\u001b[?25hdone\n",
            "  Building wheel for rouge_score (setup.py) ... \u001b[?25l\u001b[?25hdone\n",
            "Collecting bert-score\n",
            "  Downloading bert_score-0.3.13-py3-none-any.whl (61 kB)\n",
            "\u001b[2K     \u001b[90m━━━━━━━━━━━━━━━━━━━━━━━━━━━━━━━━━━━━━━━━\u001b[0m \u001b[32m61.1/61.1 kB\u001b[0m \u001b[31m2.5 MB/s\u001b[0m eta \u001b[36m0:00:00\u001b[0m\n",
            "\u001b[?25hRequirement already satisfied: torch>=1.0.0 in /usr/local/lib/python3.10/dist-packages (from bert-score) (2.2.1+cu121)\n",
            "Requirement already satisfied: pandas>=1.0.1 in /usr/local/lib/python3.10/dist-packages (from bert-score) (2.0.3)\n",
            "Requirement already satisfied: transformers>=3.0.0 in /usr/local/lib/python3.10/dist-packages (from bert-score) (4.40.2)\n",
            "Requirement already satisfied: numpy in /usr/local/lib/python3.10/dist-packages (from bert-score) (1.25.2)\n",
            "Requirement already satisfied: requests in /usr/local/lib/python3.10/dist-packages (from bert-score) (2.31.0)\n",
            "Requirement already satisfied: tqdm>=4.31.1 in /usr/local/lib/python3.10/dist-packages (from bert-score) (4.66.4)\n",
            "Requirement already satisfied: matplotlib in /usr/local/lib/python3.10/dist-packages (from bert-score) (3.7.1)\n",
            "Requirement already satisfied: packaging>=20.9 in /usr/local/lib/python3.10/dist-packages (from bert-score) (24.0)\n",
            "Requirement already satisfied: python-dateutil>=2.8.2 in /usr/local/lib/python3.10/dist-packages (from pandas>=1.0.1->bert-score) (2.8.2)\n",
            "Requirement already satisfied: pytz>=2020.1 in /usr/local/lib/python3.10/dist-packages (from pandas>=1.0.1->bert-score) (2023.4)\n",
            "Requirement already satisfied: tzdata>=2022.1 in /usr/local/lib/python3.10/dist-packages (from pandas>=1.0.1->bert-score) (2024.1)\n",
            "Requirement already satisfied: filelock in /usr/local/lib/python3.10/dist-packages (from torch>=1.0.0->bert-score) (3.14.0)\n",
            "Requirement already satisfied: typing-extensions>=4.8.0 in /usr/local/lib/python3.10/dist-packages (from torch>=1.0.0->bert-score) (4.11.0)\n",
            "Requirement already satisfied: sympy in /usr/local/lib/python3.10/dist-packages (from torch>=1.0.0->bert-score) (1.12)\n",
            "Requirement already satisfied: networkx in /usr/local/lib/python3.10/dist-packages (from torch>=1.0.0->bert-score) (3.3)\n",
            "Requirement already satisfied: jinja2 in /usr/local/lib/python3.10/dist-packages (from torch>=1.0.0->bert-score) (3.1.4)\n",
            "Requirement already satisfied: fsspec in /usr/local/lib/python3.10/dist-packages (from torch>=1.0.0->bert-score) (2023.6.0)\n",
            "Requirement already satisfied: nvidia-cuda-nvrtc-cu12==12.1.105 in /usr/local/lib/python3.10/dist-packages (from torch>=1.0.0->bert-score) (12.1.105)\n",
            "Requirement already satisfied: nvidia-cuda-runtime-cu12==12.1.105 in /usr/local/lib/python3.10/dist-packages (from torch>=1.0.0->bert-score) (12.1.105)\n",
            "Requirement already satisfied: nvidia-cuda-cupti-cu12==12.1.105 in /usr/local/lib/python3.10/dist-packages (from torch>=1.0.0->bert-score) (12.1.105)\n",
            "Requirement already satisfied: nvidia-cudnn-cu12==8.9.2.26 in /usr/local/lib/python3.10/dist-packages (from torch>=1.0.0->bert-score) (8.9.2.26)\n",
            "Requirement already satisfied: nvidia-cublas-cu12==12.1.3.1 in /usr/local/lib/python3.10/dist-packages (from torch>=1.0.0->bert-score) (12.1.3.1)\n",
            "Requirement already satisfied: nvidia-cufft-cu12==11.0.2.54 in /usr/local/lib/python3.10/dist-packages (from torch>=1.0.0->bert-score) (11.0.2.54)\n",
            "Requirement already satisfied: nvidia-curand-cu12==10.3.2.106 in /usr/local/lib/python3.10/dist-packages (from torch>=1.0.0->bert-score) (10.3.2.106)\n",
            "Requirement already satisfied: nvidia-cusolver-cu12==11.4.5.107 in /usr/local/lib/python3.10/dist-packages (from torch>=1.0.0->bert-score) (11.4.5.107)\n",
            "Requirement already satisfied: nvidia-cusparse-cu12==12.1.0.106 in /usr/local/lib/python3.10/dist-packages (from torch>=1.0.0->bert-score) (12.1.0.106)\n",
            "Requirement already satisfied: nvidia-nccl-cu12==2.19.3 in /usr/local/lib/python3.10/dist-packages (from torch>=1.0.0->bert-score) (2.19.3)\n",
            "Requirement already satisfied: nvidia-nvtx-cu12==12.1.105 in /usr/local/lib/python3.10/dist-packages (from torch>=1.0.0->bert-score) (12.1.105)\n",
            "Requirement already satisfied: triton==2.2.0 in /usr/local/lib/python3.10/dist-packages (from torch>=1.0.0->bert-score) (2.2.0)\n",
            "Requirement already satisfied: nvidia-nvjitlink-cu12 in /usr/local/lib/python3.10/dist-packages (from nvidia-cusolver-cu12==11.4.5.107->torch>=1.0.0->bert-score) (12.4.127)\n",
            "Requirement already satisfied: huggingface-hub<1.0,>=0.19.3 in /usr/local/lib/python3.10/dist-packages (from transformers>=3.0.0->bert-score) (0.23.0)\n",
            "Requirement already satisfied: pyyaml>=5.1 in /usr/local/lib/python3.10/dist-packages (from transformers>=3.0.0->bert-score) (6.0.1)\n",
            "Requirement already satisfied: regex!=2019.12.17 in /usr/local/lib/python3.10/dist-packages (from transformers>=3.0.0->bert-score) (2023.12.25)\n",
            "Requirement already satisfied: tokenizers<0.20,>=0.19 in /usr/local/lib/python3.10/dist-packages (from transformers>=3.0.0->bert-score) (0.19.1)\n",
            "Requirement already satisfied: safetensors>=0.4.1 in /usr/local/lib/python3.10/dist-packages (from transformers>=3.0.0->bert-score) (0.4.3)\n",
            "Requirement already satisfied: contourpy>=1.0.1 in /usr/local/lib/python3.10/dist-packages (from matplotlib->bert-score) (1.2.1)\n",
            "Requirement already satisfied: cycler>=0.10 in /usr/local/lib/python3.10/dist-packages (from matplotlib->bert-score) (0.12.1)\n",
            "Requirement already satisfied: fonttools>=4.22.0 in /usr/local/lib/python3.10/dist-packages (from matplotlib->bert-score) (4.51.0)\n",
            "Requirement already satisfied: kiwisolver>=1.0.1 in /usr/local/lib/python3.10/dist-packages (from matplotlib->bert-score) (1.4.5)\n",
            "Requirement already satisfied: pillow>=6.2.0 in /usr/local/lib/python3.10/dist-packages (from matplotlib->bert-score) (9.4.0)\n",
            "Requirement already satisfied: pyparsing>=2.3.1 in /usr/local/lib/python3.10/dist-packages (from matplotlib->bert-score) (3.1.2)\n",
            "Requirement already satisfied: charset-normalizer<4,>=2 in /usr/local/lib/python3.10/dist-packages (from requests->bert-score) (3.3.2)\n",
            "Requirement already satisfied: idna<4,>=2.5 in /usr/local/lib/python3.10/dist-packages (from requests->bert-score) (3.7)\n",
            "Requirement already satisfied: urllib3<3,>=1.21.1 in /usr/local/lib/python3.10/dist-packages (from requests->bert-score) (2.0.7)\n",
            "Requirement already satisfied: certifi>=2017.4.17 in /usr/local/lib/python3.10/dist-packages (from requests->bert-score) (2024.2.2)\n",
            "Requirement already satisfied: six>=1.5 in /usr/local/lib/python3.10/dist-packages (from python-dateutil>=2.8.2->pandas>=1.0.1->bert-score) (1.16.0)\n",
            "Requirement already satisfied: MarkupSafe>=2.0 in /usr/local/lib/python3.10/dist-packages (from jinja2->torch>=1.0.0->bert-score) (2.1.5)\n",
            "Requirement already satisfied: mpmath>=0.19 in /usr/local/lib/python3.10/dist-packages (from sympy->torch>=1.0.0->bert-score) (1.3.0)\n",
            "Installing collected packages: bert-score\n",
            "Successfully installed bert-score-0.3.13\n"
          ]
        }
      ],
      "source": [
        "#!pip install transformers\n",
        "!pip install accelerate\n",
        "!pip install transformers\n",
        "!pip install datasets\n",
        "!pip install rouge\n",
        "!pip install -q evaluate rouge_score\n",
        "!pip install bert-score\n"
      ],
      "id": "9EhWoZef-X8u"
    },
    {
      "cell_type": "markdown",
      "metadata": {
        "id": "uumcErs2-X80"
      },
      "source": [
        "## Part 1: Finetuning\n",
        "\n",
        "For your projects, you are much more likely to want to finetune a pretrained model. This is a little bit more involved, but is still quite easy."
      ],
      "id": "uumcErs2-X80"
    },
    {
      "cell_type": "markdown",
      "metadata": {
        "id": "WDdGp4Ua-X81"
      },
      "source": [
        "### 2.1 Loading in a dataset\n",
        "\n",
        "In addition to having models, the [the hub](https://huggingface.co/datasets) also has datasets."
      ],
      "id": "WDdGp4Ua-X81"
    },
    {
      "cell_type": "code",
      "execution_count": 15,
      "metadata": {
        "id": "OTsW-Wwi-X81"
      },
      "outputs": [],
      "source": [
        "from datasets import load_dataset, DatasetDict\n",
        "\n",
        "#DataLoader(zip(list1, list2))\n",
        "\n",
        "billsum_dataset = load_dataset(\"lighteval/legal_summarization\",\"BillSum\")\n",
        "\n",
        "\n"
      ],
      "id": "OTsW-Wwi-X81"
    },
    {
      "cell_type": "code",
      "source": [
        "def truncate(example):\n",
        "    return {\n",
        "        'article': \" \".join(example['article'].split()[:200]),\n",
        "        'summary': \" \".join(example['summary'].split()[:100])\n",
        "    }\n",
        "\n",
        "\n",
        "# Take 128 random examples for train and 32 validation\n",
        "billsum_dataset_2 = DatasetDict(\n",
        "    train=billsum_dataset['train'].shuffle(seed=1111).select(range(128)),\n",
        "    test=billsum_dataset['train'].shuffle(seed=1111).select(range(128, 160)),\n",
        ")"
      ],
      "metadata": {
        "id": "T5eGeK6JZvsW"
      },
      "id": "T5eGeK6JZvsW",
      "execution_count": 17,
      "outputs": []
    },
    {
      "cell_type": "code",
      "execution_count": 18,
      "metadata": {
        "colab": {
          "base_uri": "https://localhost:8080/"
        },
        "id": "vCaX-gNo0OEV",
        "outputId": "f93dc3d9-0667-498b-af5d-94359f9ba7e3"
      },
      "outputs": [
        {
          "output_type": "execute_result",
          "data": {
            "text/plain": [
              "DatasetDict({\n",
              "    train: Dataset({\n",
              "        features: ['article', 'summary'],\n",
              "        num_rows: 128\n",
              "    })\n",
              "    test: Dataset({\n",
              "        features: ['article', 'summary'],\n",
              "        num_rows: 32\n",
              "    })\n",
              "})"
            ]
          },
          "metadata": {},
          "execution_count": 18
        }
      ],
      "source": [
        "billsum_dataset_2\n"
      ],
      "id": "vCaX-gNo0OEV"
    },
    {
      "cell_type": "code",
      "execution_count": 19,
      "metadata": {
        "id": "bBS4c44A-X82",
        "outputId": "41f00500-2f0d-4ec8-f8cd-a68bec96a1b2",
        "colab": {
          "base_uri": "https://localhost:8080/"
        }
      },
      "outputs": [
        {
          "output_type": "execute_result",
          "data": {
            "text/plain": [
              "{'article': [\"SECTION 1. SHORT TITLE. This Act may be cited as the ``Educational Quality Index Act of 1994''. SEC. 2. FINDINGS. The Congress finds that-- (1) cohort default rates alone do not indicate the quality of an educational institution; (2) for the purpose of evaluating performance of an institution of higher education, the population which that institution serves should be taken into account; (3) schools whose students are from less affluent backgrounds have more difficulty with cohort default rate standards; (4) use of the cohort default rates as a determinant for participation in Federal student loan programs has kept technical and vocational school operators from opening schools in impoverished areas; (5) many individuals living in impoverished areas have been effectively denied an opportunity to access technical and vocational higher education; and (6) the performance of a technical or vocational institution of higher education can be measured by objective data concerning the outcome from the perspective of the student. SEC. 3. USE OF EDUCATIONAL QUALITY IN INSTITUTIONAL ELIGIBILITY FOR GUARANTEED STUDENT LOAN PROGRAM. Section 435(a) of the Higher Education Act of 1965 (20 U.S.C. 1085(a)) is amended-- (1) in paragraph (1), by striking ``paragraph (2)'' and inserting ``paragraphs (2) and (4)''; (2) in paragraph (2), by striking ``An institution'' and inserting ``Except as provided in paragraph (4), an institution''; (3) by adding at the end the following new paragraph: ``(4) Ineligibility based on educational quality index.-- ``(A) Use of index in place of cohort default rate.--A proprietary institution of higher education (as such term is defined in section 481(b)) shall not be subject to ineligibility determinations under paragraph (2), but shall be subject to such determinations on the basis of the educational quality index prescribed under this paragraph. ``(B) Prescription of index.--The Secretary of Education shall by regulation prescribe an educational quality index for the purpose of evaluating the programs of proprietary institutions of higher education. Such index shall be equal to the sum of the following component indexes: ``(i) A placement rate index which shall be based on the percentage of students who are employed in the field for which the institution has trained them. ``(ii) A Pell grant eligibility index equal to (I) the percentage of enrolled students who are eligible for Pell grants, minus (II) the national average percentage of students who are so eligible at all institutions of higher education, divided by (III) four. ``(iii) An index based on the institution's cohort default rate (as determined under subsection (m)). ``(iv) A successful completion index which shall be based on graduation rates (as determined for purposes of section 484(a)(1)(C)), or on certification or licensure rates (if available). ``(C) Contents of regulations.--The regulations prescribed by the Secretary under subparagraph (B) shall-- ``(i) define the minimum aggregate score that an proprietary institution of higher education must achieve, as a sum of the 4 indexes established under clauses (i), (ii), and (iii) of such subparagraph, in order for the institution to remain eligible to participate in the programs under this part; ``(ii) provide that the weights to be attributed to such 4 indexes for purposes of aggregating such score shall require that, of the maximum possible aggregate score-- ``(I) 37.5 percent shall be attributed to the index described in subparagraph (B)(i); ``(II) 25 percent shall be attributed to subparagraph (B)(ii); ``(III) 25 percent shall be attributed to subparagraph (B)(iii); and ``(IV) 12.5 percent shall be attributed to subparagraph (B)(iv); and ``(iii) establish the procedures for the determination of scores for individual institutions, and for the resolution of disputes concerning such scores.''. SEC. 4. USE OF EDUCATIONAL QUALITY INDEX IN PROGRAM INTEGRITY REVIEWS. (a) State Review Entity Criteria.--Section 494C(a)(1) of the Higher Education Act of 1965 (20 U.S.C. 1099a-3(a)(1)) is amended by inserting before the period the following: ``or, in the case of a proprietary institution of higher education, an educational quality index score that does not equal or exceed the minimum established by the Secretary under section 435(a)(4)(B)(i)''. (b) Program Review.--Section 498A(a)(2)(A) of such Act (20 U.S.C. 1099c-1(a)(2)(A)) is amended by inserting before the semicolon the following: ``or, in the case of a proprietary institution of higher education, an educational quality index score that does not equal or exceed the minimum established by the Secretary under section 435(a)(4)(B)(i)''.\",\n",
              "  \"SECTION 1. SHORT TITLE. This Act may be cited as the ``Financial Aid Accountability and Transparency Act of 2007''. SEC. 2. ACCOUNTABILITY AND TRANSPARENCY. Title I of the Higher Education Act of 1965 (20 U.S.C. 1001 et seq.) is amended by adding at the end the following: ``PART E--INSTITUTIONAL REQUIREMENTS RELATED TO STUDENT LOANS ``SEC. 151. DEFINITIONS. ``In this part: ``(1) Agent.--The term `agent', when used with respect to an institution of higher education, means an organization such as an alumni association or booster club. ``(2) Lender.-- ``(A) In general.--The term `lender'-- ``(i) means a creditor, except that such term shall not include an issuer of credit under a residential mortgage transaction; and ``(ii) includes an agent of a lender. ``(B) Incorporation of tila definitions.--The terms `creditor' and `residential mortgage transaction' have the meanings given such terms in section 103 of the Truth in Lending Act (15 U.S.C. 1602). ``(3) Loan.-- ``(A) Student loan.--The term `student loan' means-- ``(i) any Federal student loan; or ``(ii) a private educational loan. ``(B) Federal student loan.--The term `Federal student loan' means any loan made, insured, or guaranteed under title IV of this Act. ``(C) Federal direct loan.--The term `Federal Direct loan' means any loan made under part D of title IV of this Act. ``(D) Private educational loan.--The term `private educational loan' means a private loan provided by a lender that-- ``(i) is not made, insured, or guaranteed under title IV; and ``(ii) is issued by a lender for postsecondary educational expenses to a student, or the parent of the student, regardless of whether the loan is provided through the educational institution that the student attends or directly to the student or parent from the lender. ``(4) Postsecondary educational expenses.--The term `postsecondary educational expenses' means any of the expenses that are included as part of a student's cost of attendance, as defined under section 472. ``(5) Recommend.--An institution shall be considered to recommend any lender if the institution communicates to any student or parent of any student any recommendation, referral, promotion, or endorsement of any lender or the loan products of any lender. ``SEC. 152. RECOMMENDED LENDERS. ``No institution of higher education or agent of an institution of higher education may recommend any lender unless-- ``(1) the institution has adopted a formal written policy concerning the procedures and criteria by which the institution will select lenders for inclusion in or exclusion from those recommendations; ``(2) the policy, procedures, and criteria adopted by the institution are disclosed in accordance with section 153(a); and ``(3) if the institution recommends-- ``(A) any lender for making a Federal student loan, other than a Federal Direct loan, the institution recommends a minimum of 3 eligible lenders (as that term is defined in section 435) that are not affiliated lenders (as determined in accordance with regulations of the Secretary) for making such loans; and ``(B) any lender for making a private educational loan, the institution recommends a minimum of 3 lenders that are not affiliated lenders (as so determined) for making such loans. ``SEC. 153. DISCLOSURES. ``(a) Lender Recommendations.--An institution of higher education shall disclose, on its website and in the informational materials listed in subsection (d), the policy, procedures, and criteria that the institution has adopted in accordance with section 152(1), and the process by which the institution adopted such policy, procedures, and criteria. ``(b) Model Disclosure Form for Loan Options.-- ``(1) Requirement.--The Secretary shall develop and prescribe an easy-to-read model disclosure form that will provide students with the relevant information about the terms and conditions for both Federal loans and private educational loans for use by both institutions of higher education and lenders. ``(2) Consultation.--In developing the model disclosure forms required by this subsection, the Secretary shall consult with-- ``(A) students; ``(B) representatives from institutions of higher education, including financial aid administrators, registrars, business officers, and student affairs officials; ``(C) lenders; ``(D) loan servicers; and ``(E) guaranty agencies. ``(3) Information on federal student loans.--The model disclosure forms under this subsection with respect to Federal student loans shall include at a minimum the following information with respect to loans provided through each lender recommended by the institution and, in the case of a Federal Direct loan, with respect to loans provided through the institution: ``(A) the interest rate of the loan; ``(B) any fees associated with the loan; ``(C) the repayment terms available on the loan; ``(D) the opportunity for deferment or forbearance with the loan, including whether the loan payments can be deferred if the student is in school; and ``(E) contact information for the lender. ``(4) Information on private educational loans.--The model disclosure forms under this subsection with respect to private educational loans shall include at a minimum the following information with respect to loans made by each lender recommended by the institution: ``(A) the method of determining the interest rate of the loan; ``(B) types of repayment plans that are available; ``(C) whether, and under what conditions, early repayment may be available without penalty; ``(D) other borrower benefits such as in-school deferments; ``(E) late payment penalties; and ``(F) such other information as the Secretary may require. ``(5) Deadline.--The model disclosure forms required by this subsection shall be developed and prescribed within one year after the date of enactment of the Financial Aid Accountability and Transparency Act of 2007. ``(c) Disclosures by Institutions of Higher Education.--An institution of higher education that participates in the Federal student loan programs under part B of title IV of this Act, or any institution that recommends any lender of private educational loans for its students, shall disclose, on its website and in the informational materials described in subsection (e)-- ``(1) a statement that-- ``(A) indicates that students are not limited to or required to use the lenders the institutions recommends; and ``(B) the institution is required to process the documents required to obtain a loan from any eligible lender the student selects; ``(2) at a minimum, all of the information provided by the model disclosure form prescribed under subsection (b) with respect to any lender recommended by the institution for Federal student loans and, as applicable, private educational loans; ``(3) disclose the maximum amount of Federal grant and loan aid available to students in an easy-to-understand format; and ``(4) the institution's cost of attendance (as determined under section 472). ``(d) Disclosures for Federal Direct Loans.--An institution of higher education that participates in the Federal Direct loan program shall disclose, on its website and in the informational materials described in subsection (e), the information required under paragraphs (2), (3), and (4) of subsection (c), and the policies, procedures, and criteria the institution used to make the determination to participate in such Federal Direct loan program. ``(e) Informational Materials.--The informational materials described in this subsection are any publications, mailings, or electronic messages or media distributed to prospective or current students that describe, discuss, or relate to the financial aid opportunities available to students at an institution of higher education. ``SEC. 154. CODE OF CONDUCT. ``(a) Code of Conduct Required.--Each institution of higher education that participates in the Federal student loan program or has students that obtain private educational loans shall-- ``(1) develop a code of conduct in accordance with subsection (b) with which its employees, trustees, and directors are required to comply with respect to student loans; ``(2) publish the code of conduct prominently on its website; and ``(3) administer and enforce such code in accordance with the requirements of this section. ``(b) Contents of Code.-- ``(1) In general.--The code required by this section shall contain a limitation on the acceptance of gifts, payments, or other financial benefits (including the opportunity to purchase stock) provided to officers and employees of the institution (and, when appropriate, family members of such officers and employees) by any lender or guaranty agency that present or may present a conflict of interest or the appearance of a conflict of interest with the responsibilities of such officer or employee with respect to student loans or other financial aid. ``(2) Fees from lenders for service prohibited.--The code required by this section shall prohibit any officer or employee who is employed in the financial aid office of the institution, or who otherwise has responsibilities with respect to student loans or other financial aid, from accepting from any lender or affiliate of any lender any fee, payment, or other financial benefit (including the opportunity to purchase stock) as compensation for consulting services, serving on an advisory council, or otherwise advising such lender or affiliate. ``(3) Permitted exclusions from gift limitations.--An institution may exclude from treatment as a gift, payment, or other financial benefit under the code of conduct required by this section-- ``(A) standard informational material related to a loan, such as a brochure; ``(B) reimbursement for necessary transportation, lodging, and related expenses (including food and refreshments) for travel to a meeting in connection with serving on an advisory council, if such reimbursement is for travel for a period not exceeding 2 days and 1 night for each such meeting; ``(C) training or informational material furnished to an officer, employee, or agent of an institution as an integral part of a training session or through participation in an advisory council that is designed to improve the lender's service to the institution, if such training or participation contributes to the professional development of the employee or agent of the institution; and ``(D) favorable terms, conditions, and borrower benefits on an educational loan provided to a student, or a parent of a student, employed by the covered institution. ``(c) Training and Compliance.--An institution of higher education shall administer and enforce a code of conduct required by this section by, at a minimum, requiring all of its officers and employees with responsibilities with respect to student loans or other financial aid to obtain training annually in compliance with the code. ``(d) Ban on Education Loan Arrangements.--An institution of higher education shall be prohibited from entering into an education loan arrangement. For purposes of this section, an education loan arrangement is an arrangement between an institution of higher education (or an agent of the institution) and a lender under which-- ``(1) a lender provides or issues student loans to students attending the institution or to parents of such students; ``(2) the institution recommends the lender or the loan products of the lender; and ``(3) the lender pays a fee or provides other material benefits to the institution or officers, employees, or agents of the institution. ``(e) Ban on Staffing Assistance.-- ``(1) Prohibition.--An institution of higher education shall be prohibited from requesting or accepting from any lender any assistance with call center staffing or financial aid office staffing. ``(2) Certain assistance permitted.--Nothing in paragraph (1) shall be construed to prohibit an institution from requesting or accepting assistance from a lender related to-- ``(A) professional development training for financial aid administrators; or ``(B) providing educational counseling materials, financial literacy materials, or debt management materials to borrowers, provided that such materials disclose to borrowers the identification of any lender that assisted in preparing or providing such materials. ``SEC. 155. RULE OF CONSTRUCTION. ``Nothing in this part shall be construed to prohibit an institution of higher education from negotiating with lenders for reduced interest rates or fees on student loans for students or parents.''. SEC. 3. DISCLOSURES REQUIRED FOR PRIVATE EDUCATIONAL LOANS. (a) In General.--Section 128 of the Truth in Lending Act (15 U.S.C. 1638) is amended by adding at the end the following new subsection: ``(e) Disclosures Required for Private Educational Loans.-- ``(1) In general.--In addition to any other disclosures required under this chapter with respect to a consumer credit transaction, a creditor shall provide any consumer with the following information, and obtain the acknowledgment of the consumer under paragraph (3), before executing any contract or agreement between the creditor and the consumer relating to any extension of credit consisting of or involving a private educational loan: ``(A) The consumer may qualify for Federal financial assistance for education through a program under title IV of the Higher Education Act of 1965 (20 U.S.C. 1070 et seq.). ``(B) In many cases, a Federal student loan may provide the consumer with more beneficial terms and conditions , including a lower annual percentage rate and fewer and lower fees, than private educational loans. ``(C) The consumer may obtain additional information concerning such Federal financial assistance at the website of the Department of Education. ``(2) Clear and conspicuous disclosure.--The disclosure required under paragraph (1) shall be placed in a conspicuous and prominent location on or with any written application, solicitation, or other document or paper relating to any extension of credit consisting of or involving a private educational loan for which such disclosure is required. ``(3) Written acknowledgment of receipt.--In each case in which a disclosure is provided pursuant to paragraph (1), a creditor shall obtain a written acknowledgment from the consumer that the consumer has read and understood the disclosure. ``(4) Definitions.--For purposes of this subsection, the terms `Federal student loan' and `private educational loan' have the same meanings as in section 151 of the Higher Education Act of 1965. ``(5) Regulations.--In prescribing regulations to implement this subsection, the Board shall consult with the Secretary of Education.''. (b) Effective Date.--The amendments made by subsection (a) shall apply with respect to any credit consisting of or involving a private educational loan that is extended pursuant to a contract or agreement entered into after July 1, 2007.\"],\n",
              " 'summary': ['Educational Quality Index Act of 1994 - Amends the Higher Education Act of 1965 to substitute evaluations of educational quality for cohort default rates in eligibility determinations for proprietary institutions of higher education under the Federal student loan insurance program of the Federal Family Education Loan Program (guaranteed student loans). Revises program integrity reviews provisions to include such educational quality index for proprietary institutions.',\n",
              "  \"Financial Aid Accountability and Transparency Act of 2007 - Amends the Higher Education Act of 1965 to prohibit an institution of higher education (IHE) from recommending student loan providers unless it has a formal written recommendation policy, publicizes such policy, and recommends a minimum of three unaffiliated lenders. Requires IHEs to disclose to students: (1) that they cannot limit students to recommended lenders and must process the loan documents of any eligible lender; (2) the maximum federal grant and loan aid available; and (3) the cost of attendance. Directs the Secretary of Education to develop and prescribe an easy-to-read model disclosure form for use by IHEs and lenders in providing relevant and specified minimum information to students concerning the terms of federal and private student loans. Requires IHEs to develop, publicize, and enforce codes of conduct for their employees, trustees, and directors prohibiting the acceptance of certain financial benefits or fees from student loan providers or guarantors. Bans IHEs from: (1) entering into educational loan arrangements that involve lender payments for recommended lender status; or (2) requesting or accepting lender assistance with call center or financial aid office staffing. Amends the Truth in Lending Act to require private educational loan providers to inform consumers, before such loans are executed, that they may qualify for federal educational assistance, that federal student loans may have more beneficial terms than private loans, and that they may obtain additional information concerning such assistance from the Department of Education's website.\"]}"
            ]
          },
          "metadata": {},
          "execution_count": 19
        }
      ],
      "source": [
        "billsum_dataset_2 ['train'][:2]"
      ],
      "id": "bBS4c44A-X82"
    },
    {
      "cell_type": "code",
      "execution_count": 29,
      "metadata": {
        "id": "3bjqop3N-X8_"
      },
      "outputs": [],
      "source": [
        "def preprocess_function(examples):\n",
        "  #add summarize so that the t5-small model know the task\n",
        "    #max_input_length = max(len(tokenizer.encode(example['article'])) for example in examples)\n",
        "    #max_target_length = max(len(tokenizer.encode(example['summary'])) for example in examples)\n",
        "\n",
        "    inputs = [\"summarize: \" + text for text in examples[\"article\"]]\n",
        "    model_inputs = tokenizer(inputs, max_length=1024, truncation=True, padding=\"max_length\")\n",
        "\n",
        "    labels = tokenizer(text_target=examples[\"summary\"], max_length=128, truncation=True, padding=\"max_length\")\n",
        "\n",
        "    # Assigns the tokenized labels to the 'labels' field of model_inputs.\n",
        "    model_inputs[\"labels\"] = labels[\"input_ids\"]\n",
        "    model_inputs[\"decoder_input_ids\"] = labels[\"input_ids\"]\n",
        "\n",
        "    # Returns the prepared inputs and labels as a single dictionary, ready for training.\n",
        "    return model_inputs"
      ],
      "id": "3bjqop3N-X8_"
    },
    {
      "cell_type": "code",
      "source": [
        "from transformers import AutoTokenizer, T5Model\n",
        "tokenizer = AutoTokenizer.from_pretrained(\"t5-small\")\n",
        "\n",
        "\"\"\"inputs = [\"summarize: \" + text for text in example[\"article\"]]\n",
        "tokenized_billsum = billsum_dataset_2.map(\n",
        "    lambda example: tokenizer(inputs, padding=true, truncation=True),\n",
        "    batched=True,\n",
        "    batch_size=16\n",
        ")\"\"\"\n",
        "\n",
        "tokenized_billsum = billsum_dataset_2 .map(preprocess_function, batched=True)\n",
        "#tokenized_billsum = tokenized_billsum.remove_columns([\"article\"])\n",
        "#tokenized_billsum = tokenized_billsum.remove_columns([\"summary\"])\n",
        "tokenized_billsum.set_format(\"torch\")"
      ],
      "metadata": {
        "colab": {
          "base_uri": "https://localhost:8080/",
          "height": 104,
          "referenced_widgets": [
            "c1e5900b7f6f4ef79cfe4d8f4e2342ce",
            "dd2115870e1d486e9ad3a0a2c87cf304",
            "0350dabcf77e4b53ade7aa463a13cf68",
            "25be99d1b9c74ca49a97d3cff8049ff9",
            "b6aea0356c2147bf97d6122978eeece6",
            "75753f2556074f9b9d024fdaf9c5acd5",
            "426f2ae664834d0c910576b7be9fca70",
            "2beba4f819bd4720b1ad65df8060cb45",
            "64522a69cf9943c785622f3a93222221",
            "5e3113b57fab40cbbff2757b11c579ba",
            "e0767bb8528f41e999242f72c8d86d98"
          ]
        },
        "id": "ezJbrgX63tGj",
        "outputId": "bd1b8ccb-2780-44d1-881f-194d5314d66e"
      },
      "id": "ezJbrgX63tGj",
      "execution_count": 47,
      "outputs": [
        {
          "output_type": "stream",
          "name": "stderr",
          "text": [
            "/usr/local/lib/python3.10/dist-packages/huggingface_hub/file_download.py:1132: FutureWarning: `resume_download` is deprecated and will be removed in version 1.0.0. Downloads always resume when possible. If you want to force a new download, use `force_download=True`.\n",
            "  warnings.warn(\n"
          ]
        },
        {
          "output_type": "display_data",
          "data": {
            "text/plain": [
              "Map:   0%|          | 0/32 [00:00<?, ? examples/s]"
            ],
            "application/vnd.jupyter.widget-view+json": {
              "version_major": 2,
              "version_minor": 0,
              "model_id": "c1e5900b7f6f4ef79cfe4d8f4e2342ce"
            }
          },
          "metadata": {}
        }
      ]
    },
    {
      "cell_type": "code",
      "source": [
        "tokenized_billsum['train'][0:2]"
      ],
      "metadata": {
        "colab": {
          "base_uri": "https://localhost:8080/"
        },
        "id": "FdtuAL_1r0gI",
        "outputId": "e07bc3e3-8027-4e56-d3d9-35886a6fd570"
      },
      "id": "FdtuAL_1r0gI",
      "execution_count": 48,
      "outputs": [
        {
          "output_type": "execute_result",
          "data": {
            "text/plain": [
              "{'article': [\"SECTION 1. SHORT TITLE. This Act may be cited as the ``Educational Quality Index Act of 1994''. SEC. 2. FINDINGS. The Congress finds that-- (1) cohort default rates alone do not indicate the quality of an educational institution; (2) for the purpose of evaluating performance of an institution of higher education, the population which that institution serves should be taken into account; (3) schools whose students are from less affluent backgrounds have more difficulty with cohort default rate standards; (4) use of the cohort default rates as a determinant for participation in Federal student loan programs has kept technical and vocational school operators from opening schools in impoverished areas; (5) many individuals living in impoverished areas have been effectively denied an opportunity to access technical and vocational higher education; and (6) the performance of a technical or vocational institution of higher education can be measured by objective data concerning the outcome from the perspective of the student. SEC. 3. USE OF EDUCATIONAL QUALITY IN INSTITUTIONAL ELIGIBILITY FOR GUARANTEED STUDENT LOAN PROGRAM. Section 435(a) of the Higher Education Act of 1965 (20 U.S.C. 1085(a)) is amended-- (1) in paragraph (1), by striking ``paragraph (2)'' and inserting ``paragraphs (2) and (4)''; (2) in paragraph (2), by striking ``An institution'' and inserting ``Except as provided in paragraph (4), an institution''; (3) by adding at the end the following new paragraph: ``(4) Ineligibility based on educational quality index.-- ``(A) Use of index in place of cohort default rate.--A proprietary institution of higher education (as such term is defined in section 481(b)) shall not be subject to ineligibility determinations under paragraph (2), but shall be subject to such determinations on the basis of the educational quality index prescribed under this paragraph. ``(B) Prescription of index.--The Secretary of Education shall by regulation prescribe an educational quality index for the purpose of evaluating the programs of proprietary institutions of higher education. Such index shall be equal to the sum of the following component indexes: ``(i) A placement rate index which shall be based on the percentage of students who are employed in the field for which the institution has trained them. ``(ii) A Pell grant eligibility index equal to (I) the percentage of enrolled students who are eligible for Pell grants, minus (II) the national average percentage of students who are so eligible at all institutions of higher education, divided by (III) four. ``(iii) An index based on the institution's cohort default rate (as determined under subsection (m)). ``(iv) A successful completion index which shall be based on graduation rates (as determined for purposes of section 484(a)(1)(C)), or on certification or licensure rates (if available). ``(C) Contents of regulations.--The regulations prescribed by the Secretary under subparagraph (B) shall-- ``(i) define the minimum aggregate score that an proprietary institution of higher education must achieve, as a sum of the 4 indexes established under clauses (i), (ii), and (iii) of such subparagraph, in order for the institution to remain eligible to participate in the programs under this part; ``(ii) provide that the weights to be attributed to such 4 indexes for purposes of aggregating such score shall require that, of the maximum possible aggregate score-- ``(I) 37.5 percent shall be attributed to the index described in subparagraph (B)(i); ``(II) 25 percent shall be attributed to subparagraph (B)(ii); ``(III) 25 percent shall be attributed to subparagraph (B)(iii); and ``(IV) 12.5 percent shall be attributed to subparagraph (B)(iv); and ``(iii) establish the procedures for the determination of scores for individual institutions, and for the resolution of disputes concerning such scores.''. SEC. 4. USE OF EDUCATIONAL QUALITY INDEX IN PROGRAM INTEGRITY REVIEWS. (a) State Review Entity Criteria.--Section 494C(a)(1) of the Higher Education Act of 1965 (20 U.S.C. 1099a-3(a)(1)) is amended by inserting before the period the following: ``or, in the case of a proprietary institution of higher education, an educational quality index score that does not equal or exceed the minimum established by the Secretary under section 435(a)(4)(B)(i)''. (b) Program Review.--Section 498A(a)(2)(A) of such Act (20 U.S.C. 1099c-1(a)(2)(A)) is amended by inserting before the semicolon the following: ``or, in the case of a proprietary institution of higher education, an educational quality index score that does not equal or exceed the minimum established by the Secretary under section 435(a)(4)(B)(i)''.\",\n",
              "  \"SECTION 1. SHORT TITLE. This Act may be cited as the ``Financial Aid Accountability and Transparency Act of 2007''. SEC. 2. ACCOUNTABILITY AND TRANSPARENCY. Title I of the Higher Education Act of 1965 (20 U.S.C. 1001 et seq.) is amended by adding at the end the following: ``PART E--INSTITUTIONAL REQUIREMENTS RELATED TO STUDENT LOANS ``SEC. 151. DEFINITIONS. ``In this part: ``(1) Agent.--The term `agent', when used with respect to an institution of higher education, means an organization such as an alumni association or booster club. ``(2) Lender.-- ``(A) In general.--The term `lender'-- ``(i) means a creditor, except that such term shall not include an issuer of credit under a residential mortgage transaction; and ``(ii) includes an agent of a lender. ``(B) Incorporation of tila definitions.--The terms `creditor' and `residential mortgage transaction' have the meanings given such terms in section 103 of the Truth in Lending Act (15 U.S.C. 1602). ``(3) Loan.-- ``(A) Student loan.--The term `student loan' means-- ``(i) any Federal student loan; or ``(ii) a private educational loan. ``(B) Federal student loan.--The term `Federal student loan' means any loan made, insured, or guaranteed under title IV of this Act. ``(C) Federal direct loan.--The term `Federal Direct loan' means any loan made under part D of title IV of this Act. ``(D) Private educational loan.--The term `private educational loan' means a private loan provided by a lender that-- ``(i) is not made, insured, or guaranteed under title IV; and ``(ii) is issued by a lender for postsecondary educational expenses to a student, or the parent of the student, regardless of whether the loan is provided through the educational institution that the student attends or directly to the student or parent from the lender. ``(4) Postsecondary educational expenses.--The term `postsecondary educational expenses' means any of the expenses that are included as part of a student's cost of attendance, as defined under section 472. ``(5) Recommend.--An institution shall be considered to recommend any lender if the institution communicates to any student or parent of any student any recommendation, referral, promotion, or endorsement of any lender or the loan products of any lender. ``SEC. 152. RECOMMENDED LENDERS. ``No institution of higher education or agent of an institution of higher education may recommend any lender unless-- ``(1) the institution has adopted a formal written policy concerning the procedures and criteria by which the institution will select lenders for inclusion in or exclusion from those recommendations; ``(2) the policy, procedures, and criteria adopted by the institution are disclosed in accordance with section 153(a); and ``(3) if the institution recommends-- ``(A) any lender for making a Federal student loan, other than a Federal Direct loan, the institution recommends a minimum of 3 eligible lenders (as that term is defined in section 435) that are not affiliated lenders (as determined in accordance with regulations of the Secretary) for making such loans; and ``(B) any lender for making a private educational loan, the institution recommends a minimum of 3 lenders that are not affiliated lenders (as so determined) for making such loans. ``SEC. 153. DISCLOSURES. ``(a) Lender Recommendations.--An institution of higher education shall disclose, on its website and in the informational materials listed in subsection (d), the policy, procedures, and criteria that the institution has adopted in accordance with section 152(1), and the process by which the institution adopted such policy, procedures, and criteria. ``(b) Model Disclosure Form for Loan Options.-- ``(1) Requirement.--The Secretary shall develop and prescribe an easy-to-read model disclosure form that will provide students with the relevant information about the terms and conditions for both Federal loans and private educational loans for use by both institutions of higher education and lenders. ``(2) Consultation.--In developing the model disclosure forms required by this subsection, the Secretary shall consult with-- ``(A) students; ``(B) representatives from institutions of higher education, including financial aid administrators, registrars, business officers, and student affairs officials; ``(C) lenders; ``(D) loan servicers; and ``(E) guaranty agencies. ``(3) Information on federal student loans.--The model disclosure forms under this subsection with respect to Federal student loans shall include at a minimum the following information with respect to loans provided through each lender recommended by the institution and, in the case of a Federal Direct loan, with respect to loans provided through the institution: ``(A) the interest rate of the loan; ``(B) any fees associated with the loan; ``(C) the repayment terms available on the loan; ``(D) the opportunity for deferment or forbearance with the loan, including whether the loan payments can be deferred if the student is in school; and ``(E) contact information for the lender. ``(4) Information on private educational loans.--The model disclosure forms under this subsection with respect to private educational loans shall include at a minimum the following information with respect to loans made by each lender recommended by the institution: ``(A) the method of determining the interest rate of the loan; ``(B) types of repayment plans that are available; ``(C) whether, and under what conditions, early repayment may be available without penalty; ``(D) other borrower benefits such as in-school deferments; ``(E) late payment penalties; and ``(F) such other information as the Secretary may require. ``(5) Deadline.--The model disclosure forms required by this subsection shall be developed and prescribed within one year after the date of enactment of the Financial Aid Accountability and Transparency Act of 2007. ``(c) Disclosures by Institutions of Higher Education.--An institution of higher education that participates in the Federal student loan programs under part B of title IV of this Act, or any institution that recommends any lender of private educational loans for its students, shall disclose, on its website and in the informational materials described in subsection (e)-- ``(1) a statement that-- ``(A) indicates that students are not limited to or required to use the lenders the institutions recommends; and ``(B) the institution is required to process the documents required to obtain a loan from any eligible lender the student selects; ``(2) at a minimum, all of the information provided by the model disclosure form prescribed under subsection (b) with respect to any lender recommended by the institution for Federal student loans and, as applicable, private educational loans; ``(3) disclose the maximum amount of Federal grant and loan aid available to students in an easy-to-understand format; and ``(4) the institution's cost of attendance (as determined under section 472). ``(d) Disclosures for Federal Direct Loans.--An institution of higher education that participates in the Federal Direct loan program shall disclose, on its website and in the informational materials described in subsection (e), the information required under paragraphs (2), (3), and (4) of subsection (c), and the policies, procedures, and criteria the institution used to make the determination to participate in such Federal Direct loan program. ``(e) Informational Materials.--The informational materials described in this subsection are any publications, mailings, or electronic messages or media distributed to prospective or current students that describe, discuss, or relate to the financial aid opportunities available to students at an institution of higher education. ``SEC. 154. CODE OF CONDUCT. ``(a) Code of Conduct Required.--Each institution of higher education that participates in the Federal student loan program or has students that obtain private educational loans shall-- ``(1) develop a code of conduct in accordance with subsection (b) with which its employees, trustees, and directors are required to comply with respect to student loans; ``(2) publish the code of conduct prominently on its website; and ``(3) administer and enforce such code in accordance with the requirements of this section. ``(b) Contents of Code.-- ``(1) In general.--The code required by this section shall contain a limitation on the acceptance of gifts, payments, or other financial benefits (including the opportunity to purchase stock) provided to officers and employees of the institution (and, when appropriate, family members of such officers and employees) by any lender or guaranty agency that present or may present a conflict of interest or the appearance of a conflict of interest with the responsibilities of such officer or employee with respect to student loans or other financial aid. ``(2) Fees from lenders for service prohibited.--The code required by this section shall prohibit any officer or employee who is employed in the financial aid office of the institution, or who otherwise has responsibilities with respect to student loans or other financial aid, from accepting from any lender or affiliate of any lender any fee, payment, or other financial benefit (including the opportunity to purchase stock) as compensation for consulting services, serving on an advisory council, or otherwise advising such lender or affiliate. ``(3) Permitted exclusions from gift limitations.--An institution may exclude from treatment as a gift, payment, or other financial benefit under the code of conduct required by this section-- ``(A) standard informational material related to a loan, such as a brochure; ``(B) reimbursement for necessary transportation, lodging, and related expenses (including food and refreshments) for travel to a meeting in connection with serving on an advisory council, if such reimbursement is for travel for a period not exceeding 2 days and 1 night for each such meeting; ``(C) training or informational material furnished to an officer, employee, or agent of an institution as an integral part of a training session or through participation in an advisory council that is designed to improve the lender's service to the institution, if such training or participation contributes to the professional development of the employee or agent of the institution; and ``(D) favorable terms, conditions, and borrower benefits on an educational loan provided to a student, or a parent of a student, employed by the covered institution. ``(c) Training and Compliance.--An institution of higher education shall administer and enforce a code of conduct required by this section by, at a minimum, requiring all of its officers and employees with responsibilities with respect to student loans or other financial aid to obtain training annually in compliance with the code. ``(d) Ban on Education Loan Arrangements.--An institution of higher education shall be prohibited from entering into an education loan arrangement. For purposes of this section, an education loan arrangement is an arrangement between an institution of higher education (or an agent of the institution) and a lender under which-- ``(1) a lender provides or issues student loans to students attending the institution or to parents of such students; ``(2) the institution recommends the lender or the loan products of the lender; and ``(3) the lender pays a fee or provides other material benefits to the institution or officers, employees, or agents of the institution. ``(e) Ban on Staffing Assistance.-- ``(1) Prohibition.--An institution of higher education shall be prohibited from requesting or accepting from any lender any assistance with call center staffing or financial aid office staffing. ``(2) Certain assistance permitted.--Nothing in paragraph (1) shall be construed to prohibit an institution from requesting or accepting assistance from a lender related to-- ``(A) professional development training for financial aid administrators; or ``(B) providing educational counseling materials, financial literacy materials, or debt management materials to borrowers, provided that such materials disclose to borrowers the identification of any lender that assisted in preparing or providing such materials. ``SEC. 155. RULE OF CONSTRUCTION. ``Nothing in this part shall be construed to prohibit an institution of higher education from negotiating with lenders for reduced interest rates or fees on student loans for students or parents.''. SEC. 3. DISCLOSURES REQUIRED FOR PRIVATE EDUCATIONAL LOANS. (a) In General.--Section 128 of the Truth in Lending Act (15 U.S.C. 1638) is amended by adding at the end the following new subsection: ``(e) Disclosures Required for Private Educational Loans.-- ``(1) In general.--In addition to any other disclosures required under this chapter with respect to a consumer credit transaction, a creditor shall provide any consumer with the following information, and obtain the acknowledgment of the consumer under paragraph (3), before executing any contract or agreement between the creditor and the consumer relating to any extension of credit consisting of or involving a private educational loan: ``(A) The consumer may qualify for Federal financial assistance for education through a program under title IV of the Higher Education Act of 1965 (20 U.S.C. 1070 et seq.). ``(B) In many cases, a Federal student loan may provide the consumer with more beneficial terms and conditions , including a lower annual percentage rate and fewer and lower fees, than private educational loans. ``(C) The consumer may obtain additional information concerning such Federal financial assistance at the website of the Department of Education. ``(2) Clear and conspicuous disclosure.--The disclosure required under paragraph (1) shall be placed in a conspicuous and prominent location on or with any written application, solicitation, or other document or paper relating to any extension of credit consisting of or involving a private educational loan for which such disclosure is required. ``(3) Written acknowledgment of receipt.--In each case in which a disclosure is provided pursuant to paragraph (1), a creditor shall obtain a written acknowledgment from the consumer that the consumer has read and understood the disclosure. ``(4) Definitions.--For purposes of this subsection, the terms `Federal student loan' and `private educational loan' have the same meanings as in section 151 of the Higher Education Act of 1965. ``(5) Regulations.--In prescribing regulations to implement this subsection, the Board shall consult with the Secretary of Education.''. (b) Effective Date.--The amendments made by subsection (a) shall apply with respect to any credit consisting of or involving a private educational loan that is extended pursuant to a contract or agreement entered into after July 1, 2007.\"],\n",
              " 'summary': ['Educational Quality Index Act of 1994 - Amends the Higher Education Act of 1965 to substitute evaluations of educational quality for cohort default rates in eligibility determinations for proprietary institutions of higher education under the Federal student loan insurance program of the Federal Family Education Loan Program (guaranteed student loans). Revises program integrity reviews provisions to include such educational quality index for proprietary institutions.',\n",
              "  \"Financial Aid Accountability and Transparency Act of 2007 - Amends the Higher Education Act of 1965 to prohibit an institution of higher education (IHE) from recommending student loan providers unless it has a formal written recommendation policy, publicizes such policy, and recommends a minimum of three unaffiliated lenders. Requires IHEs to disclose to students: (1) that they cannot limit students to recommended lenders and must process the loan documents of any eligible lender; (2) the maximum federal grant and loan aid available; and (3) the cost of attendance. Directs the Secretary of Education to develop and prescribe an easy-to-read model disclosure form for use by IHEs and lenders in providing relevant and specified minimum information to students concerning the terms of federal and private student loans. Requires IHEs to develop, publicize, and enforce codes of conduct for their employees, trustees, and directors prohibiting the acceptance of certain financial benefits or fees from student loan providers or guarantors. Bans IHEs from: (1) entering into educational loan arrangements that involve lender payments for recommended lender status; or (2) requesting or accepting lender assistance with call center or financial aid office staffing. Amends the Truth in Lending Act to require private educational loan providers to inform consumers, before such loans are executed, that they may qualify for federal educational assistance, that federal student loans may have more beneficial terms than private loans, and that they may obtain additional information concerning such assistance from the Department of Education's website.\"],\n",
              " 'input_ids': tensor([[21603,    10,   180,  ...,   127,     6,     1],\n",
              "         [21603,    10,   180,  ..., 14813,     5,     1]]),\n",
              " 'attention_mask': tensor([[1, 1, 1,  ..., 1, 1, 1],\n",
              "         [1, 1, 1,  ..., 1, 1, 1]]),\n",
              " 'labels': tensor([[19173,  6495, 11507,  1983,    13,  7520,     3,    18,   736,   989,\n",
              "              7,     8, 16808,  2855,  1983,    13, 19201,    12, 11608,  5002,\n",
              "              7,    13,  3472,   463,    21, 23785,  4647,  1917,    16, 18249,\n",
              "          11444,     7,    21, 16950,  4222,    13,  1146,  1073,   365,     8,\n",
              "           5034,  1236,  2289,   958,   478,    13,     8,  5034,  3712,  2855,\n",
              "          12183,  2350,    41,  1744,     9,  3569,  6958,  1236,  4724,   137,\n",
              "           6342,    23,  2260,   478,  9322,  2456,  9848,    12,   560,   224,\n",
              "           3472,   463,  5538,    21, 16950,  4222,     5,     1,     0,     0,\n",
              "              0,     0,     0,     0,     0,     0,     0,     0,     0,     0,\n",
              "              0,     0,     0,     0,     0,     0,     0,     0,     0,     0,\n",
              "              0,     0,     0,     0,     0,     0,     0,     0,     0,     0,\n",
              "              0,     0,     0,     0,     0,     0,     0,     0,     0,     0,\n",
              "              0,     0,     0,     0,     0,     0,     0,     0],\n",
              "         [ 5421, 12090,  6288,  2020,    11,  4946,  1893,  4392,  1983,    13,\n",
              "           4101,     3,    18,   736,   989,     7,     8, 16808,  2855,  1983,\n",
              "             13, 19201,    12, 19551,    46,  6568,    13,  1146,  1073,    41,\n",
              "            196,  6021,    61,    45,     3, 29288,  1236,  2289,  3580,     3,\n",
              "           3227,    34,    65,     3,     9,  4727,  1545, 10919,  1291,     6,\n",
              "            452,  1737,     7,   224,  1291,     6,    11,  1568,     7,     3,\n",
              "              9,  2559,    13,   386,    73,  4127, 13565,  1054, 14813,     5,\n",
              "            419,  1169,    60,     7,    27,  6021,     7,    12, 14765,    12,\n",
              "            481,    10,  5637,    24,    79,  1178,  2006,   481,    12,  3024,\n",
              "          14813,    11,   398,   433,     8,  2289,  2691,    13,   136,  5573,\n",
              "          15398,   117,  6499,     8,  2411,  2822,  5334,    11,  2289,  3052,\n",
              "            347,   117,    11, 10153,     8,   583,    13, 11364,     5,  7143,\n",
              "              7,     8,  7471,    13,  2855,    12,  1344,     1]]),\n",
              " 'decoder_input_ids': tensor([[19173,  6495, 11507,  1983,    13,  7520,     3,    18,   736,   989,\n",
              "              7,     8, 16808,  2855,  1983,    13, 19201,    12, 11608,  5002,\n",
              "              7,    13,  3472,   463,    21, 23785,  4647,  1917,    16, 18249,\n",
              "          11444,     7,    21, 16950,  4222,    13,  1146,  1073,   365,     8,\n",
              "           5034,  1236,  2289,   958,   478,    13,     8,  5034,  3712,  2855,\n",
              "          12183,  2350,    41,  1744,     9,  3569,  6958,  1236,  4724,   137,\n",
              "           6342,    23,  2260,   478,  9322,  2456,  9848,    12,   560,   224,\n",
              "           3472,   463,  5538,    21, 16950,  4222,     5,     1,     0,     0,\n",
              "              0,     0,     0,     0,     0,     0,     0,     0,     0,     0,\n",
              "              0,     0,     0,     0,     0,     0,     0,     0,     0,     0,\n",
              "              0,     0,     0,     0,     0,     0,     0,     0,     0,     0,\n",
              "              0,     0,     0,     0,     0,     0,     0,     0,     0,     0,\n",
              "              0,     0,     0,     0,     0,     0,     0,     0],\n",
              "         [ 5421, 12090,  6288,  2020,    11,  4946,  1893,  4392,  1983,    13,\n",
              "           4101,     3,    18,   736,   989,     7,     8, 16808,  2855,  1983,\n",
              "             13, 19201,    12, 19551,    46,  6568,    13,  1146,  1073,    41,\n",
              "            196,  6021,    61,    45,     3, 29288,  1236,  2289,  3580,     3,\n",
              "           3227,    34,    65,     3,     9,  4727,  1545, 10919,  1291,     6,\n",
              "            452,  1737,     7,   224,  1291,     6,    11,  1568,     7,     3,\n",
              "              9,  2559,    13,   386,    73,  4127, 13565,  1054, 14813,     5,\n",
              "            419,  1169,    60,     7,    27,  6021,     7,    12, 14765,    12,\n",
              "            481,    10,  5637,    24,    79,  1178,  2006,   481,    12,  3024,\n",
              "          14813,    11,   398,   433,     8,  2289,  2691,    13,   136,  5573,\n",
              "          15398,   117,  6499,     8,  2411,  2822,  5334,    11,  2289,  3052,\n",
              "            347,   117,    11, 10153,     8,   583,    13, 11364,     5,  7143,\n",
              "              7,     8,  7471,    13,  2855,    12,  1344,     1]])}"
            ]
          },
          "metadata": {},
          "execution_count": 48
        }
      ]
    },
    {
      "cell_type": "code",
      "source": [
        "tokenized_billsum['test'][0]['summary']"
      ],
      "metadata": {
        "colab": {
          "base_uri": "https://localhost:8080/",
          "height": 123
        },
        "id": "zpqDiAANKUdd",
        "outputId": "a14fc7d9-37a3-4755-ff80-60bb9d27a5e7"
      },
      "id": "zpqDiAANKUdd",
      "execution_count": 31,
      "outputs": [
        {
          "output_type": "execute_result",
          "data": {
            "text/plain": [
              "\"Airline Labor Dispute Resolution Act - Amends Federal aviation law to grant the Secretary of Transportation authority to declare an air transportation emergency whenever he finds that a labor dispute between an air carrier providing service to a hub airport and an employee organization representing the carrier's employees threatens to: (1) interrupt the carriage of passengers or cargo in interstate transportation by an air carrier in any region of the country in a manner that is likely to curtail operations significantly at any hub airport and thereby cause injury to the region's economy; (2) interrupt the carriage of passengers or cargo in foreign transportation in a manner that is likely to cause injury to the foreign commerce of the United States or its balance of payments; or (3) compromise the national security or foreign policy interests of the United States. Requires the Secretary to issue an order of arbitration to resolve such disputes according to a specified procedure whenever an air transportation emergency is declared.\""
            ],
            "application/vnd.google.colaboratory.intrinsic+json": {
              "type": "string"
            }
          },
          "metadata": {},
          "execution_count": 31
        }
      ]
    },
    {
      "cell_type": "code",
      "source": [
        "from transformers import DataCollatorForSeq2Seq\n",
        "\n",
        "data_collator = DataCollatorForSeq2Seq(tokenizer=tokenizer, model=\"t5-small\")"
      ],
      "metadata": {
        "id": "uMkC_yFuMfHv"
      },
      "id": "uMkC_yFuMfHv",
      "execution_count": 49,
      "outputs": []
    },
    {
      "cell_type": "code",
      "source": [
        "import evaluate\n",
        "\n",
        "rouge = evaluate.load(\"rouge\")"
      ],
      "metadata": {
        "id": "TrjXDA4zYmZs"
      },
      "id": "TrjXDA4zYmZs",
      "execution_count": 50,
      "outputs": []
    },
    {
      "cell_type": "code",
      "source": [
        "import numpy as np\n",
        "\n",
        "def postprocess_text(preds, labels):\n",
        "    preds = [pred.strip() for pred in preds]\n",
        "    labels = [[label.strip()] for label in labels]\n",
        "    return preds, labels\n",
        "\n",
        "def compute_metrics(eval_pred):\n",
        "\n",
        "    predictions, labels = eval_pred\n",
        "    if isinstance(predictions, tuple):\n",
        "        predictions = predictions[0]\n",
        "\n",
        "    decoded_preds = tokenizer.batch_decode(predictions, skip_special_tokens=True)\n",
        "    labels = np.where(labels != -100, labels, tokenizer.pad_token_id)\n",
        "\n",
        "    decoded_labels = tokenizer.batch_decode(labels, skip_special_tokens=True)\n",
        "\n",
        "    decoded_preds, decoded_labels = postprocess_text(decoded_preds, decoded_labels)\n",
        "\n",
        "    result = rouge.compute(predictions=decoded_preds, references=decoded_labels, use_stemmer=True)\n",
        "    prediction_lens = [np.count_nonzero(pred != tokenizer.pad_token_id) for pred in predictions]\n",
        "\n",
        "    result[\"gen_len\"] = np.mean(prediction_lens)\n",
        "\n",
        "    return {k: round(v, 4) for k, v in result.items()}"
      ],
      "metadata": {
        "id": "l6fWS-73YzWs"
      },
      "id": "l6fWS-73YzWs",
      "execution_count": 51,
      "outputs": []
    },
    {
      "cell_type": "code",
      "source": [
        "from bert_score import score\n",
        "\n",
        "def compute_metrics1(eval_pred):\n",
        "    predictions, labels = eval_pred\n",
        "\n",
        "    # Ensure the predictions are decoded from token IDs to strings\n",
        "    decoded_preds = tokenizer.batch_decode(predictions, skip_special_tokens=True)\n",
        "    labels = np.where(labels != -100, labels, tokenizer.pad_token_id)\n",
        "    decoded_labels = tokenizer.batch_decode(labels, skip_special_tokens=True)\n",
        "\n",
        "    # Compute BERTScore\n",
        "    _, _, bert_scores = score(decoded_preds, decoded_labels, lang='en', rescale_with_baseline=True)\n",
        "\n",
        "    # Extract the F1 score as the metric\n",
        "    return {'bertscore': bert_scores.mean().item()}\n"
      ],
      "metadata": {
        "id": "72Svk0wVVjvG"
      },
      "id": "72Svk0wVVjvG",
      "execution_count": 35,
      "outputs": []
    },
    {
      "cell_type": "code",
      "execution_count": 54,
      "metadata": {
        "id": "FEmERCu_-X9B",
        "scrolled": true,
        "colab": {
          "base_uri": "https://localhost:8080/"
        },
        "outputId": "0ece29ee-e2b6-4c43-ec70-300f52073fdd"
      },
      "outputs": [
        {
          "output_type": "stream",
          "name": "stderr",
          "text": [
            "/usr/local/lib/python3.10/dist-packages/huggingface_hub/file_download.py:1132: FutureWarning: `resume_download` is deprecated and will be removed in version 1.0.0. Downloads always resume when possible. If you want to force a new download, use `force_download=True`.\n",
            "  warnings.warn(\n"
          ]
        }
      ],
      "source": [
        "from transformers import TrainingArguments, Trainer, AutoModelForSeq2SeqLM, Seq2SeqTrainingArguments, Seq2SeqTrainer\n",
        "\n",
        "model = AutoModelForSeq2SeqLM.from_pretrained(\"t5-small\")\n",
        "\n",
        "arguments = Seq2SeqTrainingArguments(\n",
        "    output_dir=\"fine_tuned_t5small\",\n",
        "    per_device_train_batch_size=16,\n",
        "    per_device_eval_batch_size=16,\n",
        "    num_train_epochs=3,\n",
        "    weight_decay=0.01,\n",
        "    evaluation_strategy=\"epoch\", # run validation at the end of each epoch\n",
        "    #save_strategy=\"epoch\",\n",
        "    save_total_limit=3,\n",
        "    learning_rate=2e-5,\n",
        "    predict_with_generate=True,\n",
        "    #load_best_model_at_end=True,\n",
        "    #seed=224\n",
        "    fp16=True\n",
        ")\n",
        "\n",
        "\n",
        "trainer = Seq2SeqTrainer(\n",
        "    model=model,\n",
        "    args=arguments,\n",
        "    train_dataset=tokenized_billsum['train'],\n",
        "    eval_dataset=tokenized_billsum['test'],\n",
        "    tokenizer=tokenizer,\n",
        "    data_collator=data_collator,\n",
        "    compute_metrics=compute_metrics\n",
        ")\n",
        "\n"
      ],
      "id": "FEmERCu_-X9B"
    },
    {
      "cell_type": "code",
      "source": [
        "trainer.train()"
      ],
      "metadata": {
        "id": "0o_MDIWOhLxH",
        "colab": {
          "base_uri": "https://localhost:8080/",
          "height": 259
        },
        "outputId": "ea9f2cb3-8c4c-4d28-b422-918caa285a3b"
      },
      "id": "0o_MDIWOhLxH",
      "execution_count": 55,
      "outputs": [
        {
          "output_type": "display_data",
          "data": {
            "text/plain": [
              "<IPython.core.display.HTML object>"
            ],
            "text/html": [
              "\n",
              "    <div>\n",
              "      \n",
              "      <progress value='24' max='24' style='width:300px; height:20px; vertical-align: middle;'></progress>\n",
              "      [24/24 00:26, Epoch 3/3]\n",
              "    </div>\n",
              "    <table border=\"1\" class=\"dataframe\">\n",
              "  <thead>\n",
              " <tr style=\"text-align: left;\">\n",
              "      <th>Epoch</th>\n",
              "      <th>Training Loss</th>\n",
              "      <th>Validation Loss</th>\n",
              "      <th>Rouge1</th>\n",
              "      <th>Rouge2</th>\n",
              "      <th>Rougel</th>\n",
              "      <th>Rougelsum</th>\n",
              "      <th>Gen Len</th>\n",
              "    </tr>\n",
              "  </thead>\n",
              "  <tbody>\n",
              "    <tr>\n",
              "      <td>1</td>\n",
              "      <td>No log</td>\n",
              "      <td>9.103340</td>\n",
              "      <td>0.158200</td>\n",
              "      <td>0.080700</td>\n",
              "      <td>0.134800</td>\n",
              "      <td>0.132100</td>\n",
              "      <td>19.000000</td>\n",
              "    </tr>\n",
              "    <tr>\n",
              "      <td>2</td>\n",
              "      <td>No log</td>\n",
              "      <td>8.725698</td>\n",
              "      <td>0.160500</td>\n",
              "      <td>0.083500</td>\n",
              "      <td>0.135100</td>\n",
              "      <td>0.132600</td>\n",
              "      <td>19.000000</td>\n",
              "    </tr>\n",
              "    <tr>\n",
              "      <td>3</td>\n",
              "      <td>No log</td>\n",
              "      <td>8.556389</td>\n",
              "      <td>0.154300</td>\n",
              "      <td>0.080500</td>\n",
              "      <td>0.133100</td>\n",
              "      <td>0.130600</td>\n",
              "      <td>19.000000</td>\n",
              "    </tr>\n",
              "  </tbody>\n",
              "</table><p>"
            ]
          },
          "metadata": {}
        },
        {
          "output_type": "stream",
          "name": "stderr",
          "text": [
            "/usr/local/lib/python3.10/dist-packages/transformers/generation/utils.py:1141: UserWarning: Using the model-agnostic default `max_length` (=20) to control the generation length. We recommend setting `max_new_tokens` to control the maximum length of the generation.\n",
            "  warnings.warn(\n"
          ]
        },
        {
          "output_type": "execute_result",
          "data": {
            "text/plain": [
              "TrainOutput(global_step=24, training_loss=8.33457883199056, metrics={'train_runtime': 27.3204, 'train_samples_per_second': 14.055, 'train_steps_per_second': 0.878, 'total_flos': 103942503530496.0, 'train_loss': 8.33457883199056, 'epoch': 3.0})"
            ]
          },
          "metadata": {},
          "execution_count": 55
        }
      ]
    },
    {
      "cell_type": "code",
      "source": [
        "trainer.save_model(\"fine_tuned_t5small\")"
      ],
      "metadata": {
        "id": "qbzNSy4Evz_X"
      },
      "id": "qbzNSy4Evz_X",
      "execution_count": 56,
      "outputs": []
    },
    {
      "cell_type": "code",
      "source": [
        "text = billsum_dataset_2 ['test'][30][\"article\"]\n",
        "text = \"summarize: \"+ text"
      ],
      "metadata": {
        "id": "jtZhRYS0yXNh"
      },
      "id": "jtZhRYS0yXNh",
      "execution_count": 59,
      "outputs": []
    },
    {
      "cell_type": "code",
      "source": [
        "from transformers import pipeline\n",
        "\n",
        "#testing the finetune model\n",
        "summarizer = pipeline(\"summarization\", model=\"fine_tuned_t5small\")\n",
        "pred = summarizer(text)\n",
        "pred\n"
      ],
      "metadata": {
        "colab": {
          "base_uri": "https://localhost:8080/"
        },
        "id": "OEOokucr03e4",
        "outputId": "9c562984-f7f6-4d64-b9b9-036a33035274"
      },
      "id": "OEOokucr03e4",
      "execution_count": 60,
      "outputs": [
        {
          "output_type": "stream",
          "name": "stderr",
          "text": [
            "Token indices sequence length is longer than the specified maximum sequence length for this model (1187 > 512). Running this sequence through the model will result in indexing errors\n"
          ]
        },
        {
          "output_type": "execute_result",
          "data": {
            "text/plain": [
              "[{'summary_text': 'federal agencies should not acquire private land, other than by exchange, unless the acquisition is clearly in the national interest . it is the policy of Congress that a federal agency should minimize the impact of federal acquisition on units of local government . if for any reason the head of an agency fails to make a payment required under subsection (a), the agency may file civil action against the agency .'}]"
            ]
          },
          "metadata": {},
          "execution_count": 60
        }
      ]
    }
  ],
  "metadata": {
    "colab": {
      "provenance": [],
      "gpuType": "T4",
      "include_colab_link": true
    },
    "kernelspec": {
      "display_name": "Python 3",
      "name": "python3"
    },
    "language_info": {
      "codemirror_mode": {
        "name": "ipython",
        "version": 3
      },
      "file_extension": ".py",
      "mimetype": "text/x-python",
      "name": "python",
      "nbconvert_exporter": "python",
      "pygments_lexer": "ipython3",
      "version": "3.7.6"
    },
    "widgets": {
      "application/vnd.jupyter.widget-state+json": {
        "c1e5900b7f6f4ef79cfe4d8f4e2342ce": {
          "model_module": "@jupyter-widgets/controls",
          "model_name": "HBoxModel",
          "model_module_version": "1.5.0",
          "state": {
            "_dom_classes": [],
            "_model_module": "@jupyter-widgets/controls",
            "_model_module_version": "1.5.0",
            "_model_name": "HBoxModel",
            "_view_count": null,
            "_view_module": "@jupyter-widgets/controls",
            "_view_module_version": "1.5.0",
            "_view_name": "HBoxView",
            "box_style": "",
            "children": [
              "IPY_MODEL_dd2115870e1d486e9ad3a0a2c87cf304",
              "IPY_MODEL_0350dabcf77e4b53ade7aa463a13cf68",
              "IPY_MODEL_25be99d1b9c74ca49a97d3cff8049ff9"
            ],
            "layout": "IPY_MODEL_b6aea0356c2147bf97d6122978eeece6"
          }
        },
        "dd2115870e1d486e9ad3a0a2c87cf304": {
          "model_module": "@jupyter-widgets/controls",
          "model_name": "HTMLModel",
          "model_module_version": "1.5.0",
          "state": {
            "_dom_classes": [],
            "_model_module": "@jupyter-widgets/controls",
            "_model_module_version": "1.5.0",
            "_model_name": "HTMLModel",
            "_view_count": null,
            "_view_module": "@jupyter-widgets/controls",
            "_view_module_version": "1.5.0",
            "_view_name": "HTMLView",
            "description": "",
            "description_tooltip": null,
            "layout": "IPY_MODEL_75753f2556074f9b9d024fdaf9c5acd5",
            "placeholder": "​",
            "style": "IPY_MODEL_426f2ae664834d0c910576b7be9fca70",
            "value": "Map: 100%"
          }
        },
        "0350dabcf77e4b53ade7aa463a13cf68": {
          "model_module": "@jupyter-widgets/controls",
          "model_name": "FloatProgressModel",
          "model_module_version": "1.5.0",
          "state": {
            "_dom_classes": [],
            "_model_module": "@jupyter-widgets/controls",
            "_model_module_version": "1.5.0",
            "_model_name": "FloatProgressModel",
            "_view_count": null,
            "_view_module": "@jupyter-widgets/controls",
            "_view_module_version": "1.5.0",
            "_view_name": "ProgressView",
            "bar_style": "success",
            "description": "",
            "description_tooltip": null,
            "layout": "IPY_MODEL_2beba4f819bd4720b1ad65df8060cb45",
            "max": 32,
            "min": 0,
            "orientation": "horizontal",
            "style": "IPY_MODEL_64522a69cf9943c785622f3a93222221",
            "value": 32
          }
        },
        "25be99d1b9c74ca49a97d3cff8049ff9": {
          "model_module": "@jupyter-widgets/controls",
          "model_name": "HTMLModel",
          "model_module_version": "1.5.0",
          "state": {
            "_dom_classes": [],
            "_model_module": "@jupyter-widgets/controls",
            "_model_module_version": "1.5.0",
            "_model_name": "HTMLModel",
            "_view_count": null,
            "_view_module": "@jupyter-widgets/controls",
            "_view_module_version": "1.5.0",
            "_view_name": "HTMLView",
            "description": "",
            "description_tooltip": null,
            "layout": "IPY_MODEL_5e3113b57fab40cbbff2757b11c579ba",
            "placeholder": "​",
            "style": "IPY_MODEL_e0767bb8528f41e999242f72c8d86d98",
            "value": " 32/32 [00:00&lt;00:00, 59.31 examples/s]"
          }
        },
        "b6aea0356c2147bf97d6122978eeece6": {
          "model_module": "@jupyter-widgets/base",
          "model_name": "LayoutModel",
          "model_module_version": "1.2.0",
          "state": {
            "_model_module": "@jupyter-widgets/base",
            "_model_module_version": "1.2.0",
            "_model_name": "LayoutModel",
            "_view_count": null,
            "_view_module": "@jupyter-widgets/base",
            "_view_module_version": "1.2.0",
            "_view_name": "LayoutView",
            "align_content": null,
            "align_items": null,
            "align_self": null,
            "border": null,
            "bottom": null,
            "display": null,
            "flex": null,
            "flex_flow": null,
            "grid_area": null,
            "grid_auto_columns": null,
            "grid_auto_flow": null,
            "grid_auto_rows": null,
            "grid_column": null,
            "grid_gap": null,
            "grid_row": null,
            "grid_template_areas": null,
            "grid_template_columns": null,
            "grid_template_rows": null,
            "height": null,
            "justify_content": null,
            "justify_items": null,
            "left": null,
            "margin": null,
            "max_height": null,
            "max_width": null,
            "min_height": null,
            "min_width": null,
            "object_fit": null,
            "object_position": null,
            "order": null,
            "overflow": null,
            "overflow_x": null,
            "overflow_y": null,
            "padding": null,
            "right": null,
            "top": null,
            "visibility": null,
            "width": null
          }
        },
        "75753f2556074f9b9d024fdaf9c5acd5": {
          "model_module": "@jupyter-widgets/base",
          "model_name": "LayoutModel",
          "model_module_version": "1.2.0",
          "state": {
            "_model_module": "@jupyter-widgets/base",
            "_model_module_version": "1.2.0",
            "_model_name": "LayoutModel",
            "_view_count": null,
            "_view_module": "@jupyter-widgets/base",
            "_view_module_version": "1.2.0",
            "_view_name": "LayoutView",
            "align_content": null,
            "align_items": null,
            "align_self": null,
            "border": null,
            "bottom": null,
            "display": null,
            "flex": null,
            "flex_flow": null,
            "grid_area": null,
            "grid_auto_columns": null,
            "grid_auto_flow": null,
            "grid_auto_rows": null,
            "grid_column": null,
            "grid_gap": null,
            "grid_row": null,
            "grid_template_areas": null,
            "grid_template_columns": null,
            "grid_template_rows": null,
            "height": null,
            "justify_content": null,
            "justify_items": null,
            "left": null,
            "margin": null,
            "max_height": null,
            "max_width": null,
            "min_height": null,
            "min_width": null,
            "object_fit": null,
            "object_position": null,
            "order": null,
            "overflow": null,
            "overflow_x": null,
            "overflow_y": null,
            "padding": null,
            "right": null,
            "top": null,
            "visibility": null,
            "width": null
          }
        },
        "426f2ae664834d0c910576b7be9fca70": {
          "model_module": "@jupyter-widgets/controls",
          "model_name": "DescriptionStyleModel",
          "model_module_version": "1.5.0",
          "state": {
            "_model_module": "@jupyter-widgets/controls",
            "_model_module_version": "1.5.0",
            "_model_name": "DescriptionStyleModel",
            "_view_count": null,
            "_view_module": "@jupyter-widgets/base",
            "_view_module_version": "1.2.0",
            "_view_name": "StyleView",
            "description_width": ""
          }
        },
        "2beba4f819bd4720b1ad65df8060cb45": {
          "model_module": "@jupyter-widgets/base",
          "model_name": "LayoutModel",
          "model_module_version": "1.2.0",
          "state": {
            "_model_module": "@jupyter-widgets/base",
            "_model_module_version": "1.2.0",
            "_model_name": "LayoutModel",
            "_view_count": null,
            "_view_module": "@jupyter-widgets/base",
            "_view_module_version": "1.2.0",
            "_view_name": "LayoutView",
            "align_content": null,
            "align_items": null,
            "align_self": null,
            "border": null,
            "bottom": null,
            "display": null,
            "flex": null,
            "flex_flow": null,
            "grid_area": null,
            "grid_auto_columns": null,
            "grid_auto_flow": null,
            "grid_auto_rows": null,
            "grid_column": null,
            "grid_gap": null,
            "grid_row": null,
            "grid_template_areas": null,
            "grid_template_columns": null,
            "grid_template_rows": null,
            "height": null,
            "justify_content": null,
            "justify_items": null,
            "left": null,
            "margin": null,
            "max_height": null,
            "max_width": null,
            "min_height": null,
            "min_width": null,
            "object_fit": null,
            "object_position": null,
            "order": null,
            "overflow": null,
            "overflow_x": null,
            "overflow_y": null,
            "padding": null,
            "right": null,
            "top": null,
            "visibility": null,
            "width": null
          }
        },
        "64522a69cf9943c785622f3a93222221": {
          "model_module": "@jupyter-widgets/controls",
          "model_name": "ProgressStyleModel",
          "model_module_version": "1.5.0",
          "state": {
            "_model_module": "@jupyter-widgets/controls",
            "_model_module_version": "1.5.0",
            "_model_name": "ProgressStyleModel",
            "_view_count": null,
            "_view_module": "@jupyter-widgets/base",
            "_view_module_version": "1.2.0",
            "_view_name": "StyleView",
            "bar_color": null,
            "description_width": ""
          }
        },
        "5e3113b57fab40cbbff2757b11c579ba": {
          "model_module": "@jupyter-widgets/base",
          "model_name": "LayoutModel",
          "model_module_version": "1.2.0",
          "state": {
            "_model_module": "@jupyter-widgets/base",
            "_model_module_version": "1.2.0",
            "_model_name": "LayoutModel",
            "_view_count": null,
            "_view_module": "@jupyter-widgets/base",
            "_view_module_version": "1.2.0",
            "_view_name": "LayoutView",
            "align_content": null,
            "align_items": null,
            "align_self": null,
            "border": null,
            "bottom": null,
            "display": null,
            "flex": null,
            "flex_flow": null,
            "grid_area": null,
            "grid_auto_columns": null,
            "grid_auto_flow": null,
            "grid_auto_rows": null,
            "grid_column": null,
            "grid_gap": null,
            "grid_row": null,
            "grid_template_areas": null,
            "grid_template_columns": null,
            "grid_template_rows": null,
            "height": null,
            "justify_content": null,
            "justify_items": null,
            "left": null,
            "margin": null,
            "max_height": null,
            "max_width": null,
            "min_height": null,
            "min_width": null,
            "object_fit": null,
            "object_position": null,
            "order": null,
            "overflow": null,
            "overflow_x": null,
            "overflow_y": null,
            "padding": null,
            "right": null,
            "top": null,
            "visibility": null,
            "width": null
          }
        },
        "e0767bb8528f41e999242f72c8d86d98": {
          "model_module": "@jupyter-widgets/controls",
          "model_name": "DescriptionStyleModel",
          "model_module_version": "1.5.0",
          "state": {
            "_model_module": "@jupyter-widgets/controls",
            "_model_module_version": "1.5.0",
            "_model_name": "DescriptionStyleModel",
            "_view_count": null,
            "_view_module": "@jupyter-widgets/base",
            "_view_module_version": "1.2.0",
            "_view_name": "StyleView",
            "description_width": ""
          }
        }
      }
    },
    "accelerator": "GPU"
  },
  "nbformat": 4,
  "nbformat_minor": 5
}