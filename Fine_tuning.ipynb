{
  "cells": [
    {
      "cell_type": "markdown",
      "metadata": {
        "id": "view-in-github",
        "colab_type": "text"
      },
      "source": [
        "<a href=\"https://colab.research.google.com/github/wenny380/NlP/blob/main/Fine_tuning.ipynb\" target=\"_parent\"><img src=\"https://colab.research.google.com/assets/colab-badge.svg\" alt=\"Open In Colab\"/></a>"
      ]
    },
    {
      "cell_type": "code",
      "execution_count": 1,
      "metadata": {
        "colab": {
          "base_uri": "https://localhost:8080/"
        },
        "collapsed": true,
        "id": "9EhWoZef-X8u",
        "outputId": "44868009-df23-4ffa-b2c6-408396773393"
      },
      "outputs": [
        {
          "output_type": "stream",
          "name": "stdout",
          "text": [
            "Collecting accelerate\n",
            "  Downloading accelerate-0.30.1-py3-none-any.whl (302 kB)\n",
            "\u001b[2K     \u001b[90m━━━━━━━━━━━━━━━━━━━━━━━━━━━━━━━━━━━━━━━━\u001b[0m \u001b[32m302.6/302.6 kB\u001b[0m \u001b[31m4.1 MB/s\u001b[0m eta \u001b[36m0:00:00\u001b[0m\n",
            "\u001b[?25hRequirement already satisfied: numpy>=1.17 in /usr/local/lib/python3.10/dist-packages (from accelerate) (1.25.2)\n",
            "Requirement already satisfied: packaging>=20.0 in /usr/local/lib/python3.10/dist-packages (from accelerate) (24.0)\n",
            "Requirement already satisfied: psutil in /usr/local/lib/python3.10/dist-packages (from accelerate) (5.9.5)\n",
            "Requirement already satisfied: pyyaml in /usr/local/lib/python3.10/dist-packages (from accelerate) (6.0.1)\n",
            "Requirement already satisfied: torch>=1.10.0 in /usr/local/lib/python3.10/dist-packages (from accelerate) (2.2.1+cu121)\n",
            "Requirement already satisfied: huggingface-hub in /usr/local/lib/python3.10/dist-packages (from accelerate) (0.20.3)\n",
            "Requirement already satisfied: safetensors>=0.3.1 in /usr/local/lib/python3.10/dist-packages (from accelerate) (0.4.3)\n",
            "Requirement already satisfied: filelock in /usr/local/lib/python3.10/dist-packages (from torch>=1.10.0->accelerate) (3.14.0)\n",
            "Requirement already satisfied: typing-extensions>=4.8.0 in /usr/local/lib/python3.10/dist-packages (from torch>=1.10.0->accelerate) (4.11.0)\n",
            "Requirement already satisfied: sympy in /usr/local/lib/python3.10/dist-packages (from torch>=1.10.0->accelerate) (1.12)\n",
            "Requirement already satisfied: networkx in /usr/local/lib/python3.10/dist-packages (from torch>=1.10.0->accelerate) (3.3)\n",
            "Requirement already satisfied: jinja2 in /usr/local/lib/python3.10/dist-packages (from torch>=1.10.0->accelerate) (3.1.4)\n",
            "Requirement already satisfied: fsspec in /usr/local/lib/python3.10/dist-packages (from torch>=1.10.0->accelerate) (2023.6.0)\n",
            "Collecting nvidia-cuda-nvrtc-cu12==12.1.105 (from torch>=1.10.0->accelerate)\n",
            "  Using cached nvidia_cuda_nvrtc_cu12-12.1.105-py3-none-manylinux1_x86_64.whl (23.7 MB)\n",
            "Collecting nvidia-cuda-runtime-cu12==12.1.105 (from torch>=1.10.0->accelerate)\n",
            "  Using cached nvidia_cuda_runtime_cu12-12.1.105-py3-none-manylinux1_x86_64.whl (823 kB)\n",
            "Collecting nvidia-cuda-cupti-cu12==12.1.105 (from torch>=1.10.0->accelerate)\n",
            "  Using cached nvidia_cuda_cupti_cu12-12.1.105-py3-none-manylinux1_x86_64.whl (14.1 MB)\n",
            "Collecting nvidia-cudnn-cu12==8.9.2.26 (from torch>=1.10.0->accelerate)\n",
            "  Using cached nvidia_cudnn_cu12-8.9.2.26-py3-none-manylinux1_x86_64.whl (731.7 MB)\n",
            "Collecting nvidia-cublas-cu12==12.1.3.1 (from torch>=1.10.0->accelerate)\n",
            "  Using cached nvidia_cublas_cu12-12.1.3.1-py3-none-manylinux1_x86_64.whl (410.6 MB)\n",
            "Collecting nvidia-cufft-cu12==11.0.2.54 (from torch>=1.10.0->accelerate)\n",
            "  Using cached nvidia_cufft_cu12-11.0.2.54-py3-none-manylinux1_x86_64.whl (121.6 MB)\n",
            "Collecting nvidia-curand-cu12==10.3.2.106 (from torch>=1.10.0->accelerate)\n",
            "  Using cached nvidia_curand_cu12-10.3.2.106-py3-none-manylinux1_x86_64.whl (56.5 MB)\n",
            "Collecting nvidia-cusolver-cu12==11.4.5.107 (from torch>=1.10.0->accelerate)\n",
            "  Using cached nvidia_cusolver_cu12-11.4.5.107-py3-none-manylinux1_x86_64.whl (124.2 MB)\n",
            "Collecting nvidia-cusparse-cu12==12.1.0.106 (from torch>=1.10.0->accelerate)\n",
            "  Using cached nvidia_cusparse_cu12-12.1.0.106-py3-none-manylinux1_x86_64.whl (196.0 MB)\n",
            "Collecting nvidia-nccl-cu12==2.19.3 (from torch>=1.10.0->accelerate)\n",
            "  Using cached nvidia_nccl_cu12-2.19.3-py3-none-manylinux1_x86_64.whl (166.0 MB)\n",
            "Collecting nvidia-nvtx-cu12==12.1.105 (from torch>=1.10.0->accelerate)\n",
            "  Using cached nvidia_nvtx_cu12-12.1.105-py3-none-manylinux1_x86_64.whl (99 kB)\n",
            "Requirement already satisfied: triton==2.2.0 in /usr/local/lib/python3.10/dist-packages (from torch>=1.10.0->accelerate) (2.2.0)\n",
            "Collecting nvidia-nvjitlink-cu12 (from nvidia-cusolver-cu12==11.4.5.107->torch>=1.10.0->accelerate)\n",
            "  Using cached nvidia_nvjitlink_cu12-12.4.127-py3-none-manylinux2014_x86_64.whl (21.1 MB)\n",
            "Requirement already satisfied: requests in /usr/local/lib/python3.10/dist-packages (from huggingface-hub->accelerate) (2.31.0)\n",
            "Requirement already satisfied: tqdm>=4.42.1 in /usr/local/lib/python3.10/dist-packages (from huggingface-hub->accelerate) (4.66.4)\n",
            "Requirement already satisfied: MarkupSafe>=2.0 in /usr/local/lib/python3.10/dist-packages (from jinja2->torch>=1.10.0->accelerate) (2.1.5)\n",
            "Requirement already satisfied: charset-normalizer<4,>=2 in /usr/local/lib/python3.10/dist-packages (from requests->huggingface-hub->accelerate) (3.3.2)\n",
            "Requirement already satisfied: idna<4,>=2.5 in /usr/local/lib/python3.10/dist-packages (from requests->huggingface-hub->accelerate) (3.7)\n",
            "Requirement already satisfied: urllib3<3,>=1.21.1 in /usr/local/lib/python3.10/dist-packages (from requests->huggingface-hub->accelerate) (2.0.7)\n",
            "Requirement already satisfied: certifi>=2017.4.17 in /usr/local/lib/python3.10/dist-packages (from requests->huggingface-hub->accelerate) (2024.2.2)\n",
            "Requirement already satisfied: mpmath>=0.19 in /usr/local/lib/python3.10/dist-packages (from sympy->torch>=1.10.0->accelerate) (1.3.0)\n",
            "Installing collected packages: nvidia-nvtx-cu12, nvidia-nvjitlink-cu12, nvidia-nccl-cu12, nvidia-curand-cu12, nvidia-cufft-cu12, nvidia-cuda-runtime-cu12, nvidia-cuda-nvrtc-cu12, nvidia-cuda-cupti-cu12, nvidia-cublas-cu12, nvidia-cusparse-cu12, nvidia-cudnn-cu12, nvidia-cusolver-cu12, accelerate\n",
            "Successfully installed accelerate-0.30.1 nvidia-cublas-cu12-12.1.3.1 nvidia-cuda-cupti-cu12-12.1.105 nvidia-cuda-nvrtc-cu12-12.1.105 nvidia-cuda-runtime-cu12-12.1.105 nvidia-cudnn-cu12-8.9.2.26 nvidia-cufft-cu12-11.0.2.54 nvidia-curand-cu12-10.3.2.106 nvidia-cusolver-cu12-11.4.5.107 nvidia-cusparse-cu12-12.1.0.106 nvidia-nccl-cu12-2.19.3 nvidia-nvjitlink-cu12-12.4.127 nvidia-nvtx-cu12-12.1.105\n",
            "Requirement already satisfied: transformers in /usr/local/lib/python3.10/dist-packages (4.40.2)\n",
            "Requirement already satisfied: filelock in /usr/local/lib/python3.10/dist-packages (from transformers) (3.14.0)\n",
            "Requirement already satisfied: huggingface-hub<1.0,>=0.19.3 in /usr/local/lib/python3.10/dist-packages (from transformers) (0.20.3)\n",
            "Requirement already satisfied: numpy>=1.17 in /usr/local/lib/python3.10/dist-packages (from transformers) (1.25.2)\n",
            "Requirement already satisfied: packaging>=20.0 in /usr/local/lib/python3.10/dist-packages (from transformers) (24.0)\n",
            "Requirement already satisfied: pyyaml>=5.1 in /usr/local/lib/python3.10/dist-packages (from transformers) (6.0.1)\n",
            "Requirement already satisfied: regex!=2019.12.17 in /usr/local/lib/python3.10/dist-packages (from transformers) (2023.12.25)\n",
            "Requirement already satisfied: requests in /usr/local/lib/python3.10/dist-packages (from transformers) (2.31.0)\n",
            "Requirement already satisfied: tokenizers<0.20,>=0.19 in /usr/local/lib/python3.10/dist-packages (from transformers) (0.19.1)\n",
            "Requirement already satisfied: safetensors>=0.4.1 in /usr/local/lib/python3.10/dist-packages (from transformers) (0.4.3)\n",
            "Requirement already satisfied: tqdm>=4.27 in /usr/local/lib/python3.10/dist-packages (from transformers) (4.66.4)\n",
            "Requirement already satisfied: fsspec>=2023.5.0 in /usr/local/lib/python3.10/dist-packages (from huggingface-hub<1.0,>=0.19.3->transformers) (2023.6.0)\n",
            "Requirement already satisfied: typing-extensions>=3.7.4.3 in /usr/local/lib/python3.10/dist-packages (from huggingface-hub<1.0,>=0.19.3->transformers) (4.11.0)\n",
            "Requirement already satisfied: charset-normalizer<4,>=2 in /usr/local/lib/python3.10/dist-packages (from requests->transformers) (3.3.2)\n",
            "Requirement already satisfied: idna<4,>=2.5 in /usr/local/lib/python3.10/dist-packages (from requests->transformers) (3.7)\n",
            "Requirement already satisfied: urllib3<3,>=1.21.1 in /usr/local/lib/python3.10/dist-packages (from requests->transformers) (2.0.7)\n",
            "Requirement already satisfied: certifi>=2017.4.17 in /usr/local/lib/python3.10/dist-packages (from requests->transformers) (2024.2.2)\n",
            "Collecting datasets\n",
            "  Downloading datasets-2.19.1-py3-none-any.whl (542 kB)\n",
            "\u001b[2K     \u001b[90m━━━━━━━━━━━━━━━━━━━━━━━━━━━━━━━━━━━━━━━━\u001b[0m \u001b[32m542.0/542.0 kB\u001b[0m \u001b[31m9.0 MB/s\u001b[0m eta \u001b[36m0:00:00\u001b[0m\n",
            "\u001b[?25hRequirement already satisfied: filelock in /usr/local/lib/python3.10/dist-packages (from datasets) (3.14.0)\n",
            "Requirement already satisfied: numpy>=1.17 in /usr/local/lib/python3.10/dist-packages (from datasets) (1.25.2)\n",
            "Requirement already satisfied: pyarrow>=12.0.0 in /usr/local/lib/python3.10/dist-packages (from datasets) (14.0.2)\n",
            "Requirement already satisfied: pyarrow-hotfix in /usr/local/lib/python3.10/dist-packages (from datasets) (0.6)\n",
            "Collecting dill<0.3.9,>=0.3.0 (from datasets)\n",
            "  Downloading dill-0.3.8-py3-none-any.whl (116 kB)\n",
            "\u001b[2K     \u001b[90m━━━━━━━━━━━━━━━━━━━━━━━━━━━━━━━━━━━━━━━━\u001b[0m \u001b[32m116.3/116.3 kB\u001b[0m \u001b[31m14.4 MB/s\u001b[0m eta \u001b[36m0:00:00\u001b[0m\n",
            "\u001b[?25hRequirement already satisfied: pandas in /usr/local/lib/python3.10/dist-packages (from datasets) (2.0.3)\n",
            "Requirement already satisfied: requests>=2.19.0 in /usr/local/lib/python3.10/dist-packages (from datasets) (2.31.0)\n",
            "Requirement already satisfied: tqdm>=4.62.1 in /usr/local/lib/python3.10/dist-packages (from datasets) (4.66.4)\n",
            "Collecting xxhash (from datasets)\n",
            "  Downloading xxhash-3.4.1-cp310-cp310-manylinux_2_17_x86_64.manylinux2014_x86_64.whl (194 kB)\n",
            "\u001b[2K     \u001b[90m━━━━━━━━━━━━━━━━━━━━━━━━━━━━━━━━━━━━━━━━\u001b[0m \u001b[32m194.1/194.1 kB\u001b[0m \u001b[31m15.1 MB/s\u001b[0m eta \u001b[36m0:00:00\u001b[0m\n",
            "\u001b[?25hCollecting multiprocess (from datasets)\n",
            "  Downloading multiprocess-0.70.16-py310-none-any.whl (134 kB)\n",
            "\u001b[2K     \u001b[90m━━━━━━━━━━━━━━━━━━━━━━━━━━━━━━━━━━━━━━━━\u001b[0m \u001b[32m134.8/134.8 kB\u001b[0m \u001b[31m12.4 MB/s\u001b[0m eta \u001b[36m0:00:00\u001b[0m\n",
            "\u001b[?25hRequirement already satisfied: fsspec[http]<=2024.3.1,>=2023.1.0 in /usr/local/lib/python3.10/dist-packages (from datasets) (2023.6.0)\n",
            "Requirement already satisfied: aiohttp in /usr/local/lib/python3.10/dist-packages (from datasets) (3.9.5)\n",
            "Collecting huggingface-hub>=0.21.2 (from datasets)\n",
            "  Downloading huggingface_hub-0.23.0-py3-none-any.whl (401 kB)\n",
            "\u001b[2K     \u001b[90m━━━━━━━━━━━━━━━━━━━━━━━━━━━━━━━━━━━━━━━━\u001b[0m \u001b[32m401.2/401.2 kB\u001b[0m \u001b[31m12.8 MB/s\u001b[0m eta \u001b[36m0:00:00\u001b[0m\n",
            "\u001b[?25hRequirement already satisfied: packaging in /usr/local/lib/python3.10/dist-packages (from datasets) (24.0)\n",
            "Requirement already satisfied: pyyaml>=5.1 in /usr/local/lib/python3.10/dist-packages (from datasets) (6.0.1)\n",
            "Requirement already satisfied: aiosignal>=1.1.2 in /usr/local/lib/python3.10/dist-packages (from aiohttp->datasets) (1.3.1)\n",
            "Requirement already satisfied: attrs>=17.3.0 in /usr/local/lib/python3.10/dist-packages (from aiohttp->datasets) (23.2.0)\n",
            "Requirement already satisfied: frozenlist>=1.1.1 in /usr/local/lib/python3.10/dist-packages (from aiohttp->datasets) (1.4.1)\n",
            "Requirement already satisfied: multidict<7.0,>=4.5 in /usr/local/lib/python3.10/dist-packages (from aiohttp->datasets) (6.0.5)\n",
            "Requirement already satisfied: yarl<2.0,>=1.0 in /usr/local/lib/python3.10/dist-packages (from aiohttp->datasets) (1.9.4)\n",
            "Requirement already satisfied: async-timeout<5.0,>=4.0 in /usr/local/lib/python3.10/dist-packages (from aiohttp->datasets) (4.0.3)\n",
            "Requirement already satisfied: typing-extensions>=3.7.4.3 in /usr/local/lib/python3.10/dist-packages (from huggingface-hub>=0.21.2->datasets) (4.11.0)\n",
            "Requirement already satisfied: charset-normalizer<4,>=2 in /usr/local/lib/python3.10/dist-packages (from requests>=2.19.0->datasets) (3.3.2)\n",
            "Requirement already satisfied: idna<4,>=2.5 in /usr/local/lib/python3.10/dist-packages (from requests>=2.19.0->datasets) (3.7)\n",
            "Requirement already satisfied: urllib3<3,>=1.21.1 in /usr/local/lib/python3.10/dist-packages (from requests>=2.19.0->datasets) (2.0.7)\n",
            "Requirement already satisfied: certifi>=2017.4.17 in /usr/local/lib/python3.10/dist-packages (from requests>=2.19.0->datasets) (2024.2.2)\n",
            "Requirement already satisfied: python-dateutil>=2.8.2 in /usr/local/lib/python3.10/dist-packages (from pandas->datasets) (2.8.2)\n",
            "Requirement already satisfied: pytz>=2020.1 in /usr/local/lib/python3.10/dist-packages (from pandas->datasets) (2023.4)\n",
            "Requirement already satisfied: tzdata>=2022.1 in /usr/local/lib/python3.10/dist-packages (from pandas->datasets) (2024.1)\n",
            "Requirement already satisfied: six>=1.5 in /usr/local/lib/python3.10/dist-packages (from python-dateutil>=2.8.2->pandas->datasets) (1.16.0)\n",
            "Installing collected packages: xxhash, dill, multiprocess, huggingface-hub, datasets\n",
            "  Attempting uninstall: huggingface-hub\n",
            "    Found existing installation: huggingface-hub 0.20.3\n",
            "    Uninstalling huggingface-hub-0.20.3:\n",
            "      Successfully uninstalled huggingface-hub-0.20.3\n",
            "Successfully installed datasets-2.19.1 dill-0.3.8 huggingface-hub-0.23.0 multiprocess-0.70.16 xxhash-3.4.1\n",
            "Collecting rouge\n",
            "  Downloading rouge-1.0.1-py3-none-any.whl (13 kB)\n",
            "Requirement already satisfied: six in /usr/local/lib/python3.10/dist-packages (from rouge) (1.16.0)\n",
            "Installing collected packages: rouge\n",
            "Successfully installed rouge-1.0.1\n",
            "\u001b[2K     \u001b[90m━━━━━━━━━━━━━━━━━━━━━━━━━━━━━━━━━━━━━━━━\u001b[0m \u001b[32m84.1/84.1 kB\u001b[0m \u001b[31m3.3 MB/s\u001b[0m eta \u001b[36m0:00:00\u001b[0m\n",
            "\u001b[?25h  Preparing metadata (setup.py) ... \u001b[?25l\u001b[?25hdone\n",
            "  Building wheel for rouge_score (setup.py) ... \u001b[?25l\u001b[?25hdone\n",
            "Collecting bert-score\n",
            "  Downloading bert_score-0.3.13-py3-none-any.whl (61 kB)\n",
            "\u001b[2K     \u001b[90m━━━━━━━━━━━━━━━━━━━━━━━━━━━━━━━━━━━━━━━━\u001b[0m \u001b[32m61.1/61.1 kB\u001b[0m \u001b[31m2.5 MB/s\u001b[0m eta \u001b[36m0:00:00\u001b[0m\n",
            "\u001b[?25hRequirement already satisfied: torch>=1.0.0 in /usr/local/lib/python3.10/dist-packages (from bert-score) (2.2.1+cu121)\n",
            "Requirement already satisfied: pandas>=1.0.1 in /usr/local/lib/python3.10/dist-packages (from bert-score) (2.0.3)\n",
            "Requirement already satisfied: transformers>=3.0.0 in /usr/local/lib/python3.10/dist-packages (from bert-score) (4.40.2)\n",
            "Requirement already satisfied: numpy in /usr/local/lib/python3.10/dist-packages (from bert-score) (1.25.2)\n",
            "Requirement already satisfied: requests in /usr/local/lib/python3.10/dist-packages (from bert-score) (2.31.0)\n",
            "Requirement already satisfied: tqdm>=4.31.1 in /usr/local/lib/python3.10/dist-packages (from bert-score) (4.66.4)\n",
            "Requirement already satisfied: matplotlib in /usr/local/lib/python3.10/dist-packages (from bert-score) (3.7.1)\n",
            "Requirement already satisfied: packaging>=20.9 in /usr/local/lib/python3.10/dist-packages (from bert-score) (24.0)\n",
            "Requirement already satisfied: python-dateutil>=2.8.2 in /usr/local/lib/python3.10/dist-packages (from pandas>=1.0.1->bert-score) (2.8.2)\n",
            "Requirement already satisfied: pytz>=2020.1 in /usr/local/lib/python3.10/dist-packages (from pandas>=1.0.1->bert-score) (2023.4)\n",
            "Requirement already satisfied: tzdata>=2022.1 in /usr/local/lib/python3.10/dist-packages (from pandas>=1.0.1->bert-score) (2024.1)\n",
            "Requirement already satisfied: filelock in /usr/local/lib/python3.10/dist-packages (from torch>=1.0.0->bert-score) (3.14.0)\n",
            "Requirement already satisfied: typing-extensions>=4.8.0 in /usr/local/lib/python3.10/dist-packages (from torch>=1.0.0->bert-score) (4.11.0)\n",
            "Requirement already satisfied: sympy in /usr/local/lib/python3.10/dist-packages (from torch>=1.0.0->bert-score) (1.12)\n",
            "Requirement already satisfied: networkx in /usr/local/lib/python3.10/dist-packages (from torch>=1.0.0->bert-score) (3.3)\n",
            "Requirement already satisfied: jinja2 in /usr/local/lib/python3.10/dist-packages (from torch>=1.0.0->bert-score) (3.1.4)\n",
            "Requirement already satisfied: fsspec in /usr/local/lib/python3.10/dist-packages (from torch>=1.0.0->bert-score) (2023.6.0)\n",
            "Requirement already satisfied: nvidia-cuda-nvrtc-cu12==12.1.105 in /usr/local/lib/python3.10/dist-packages (from torch>=1.0.0->bert-score) (12.1.105)\n",
            "Requirement already satisfied: nvidia-cuda-runtime-cu12==12.1.105 in /usr/local/lib/python3.10/dist-packages (from torch>=1.0.0->bert-score) (12.1.105)\n",
            "Requirement already satisfied: nvidia-cuda-cupti-cu12==12.1.105 in /usr/local/lib/python3.10/dist-packages (from torch>=1.0.0->bert-score) (12.1.105)\n",
            "Requirement already satisfied: nvidia-cudnn-cu12==8.9.2.26 in /usr/local/lib/python3.10/dist-packages (from torch>=1.0.0->bert-score) (8.9.2.26)\n",
            "Requirement already satisfied: nvidia-cublas-cu12==12.1.3.1 in /usr/local/lib/python3.10/dist-packages (from torch>=1.0.0->bert-score) (12.1.3.1)\n",
            "Requirement already satisfied: nvidia-cufft-cu12==11.0.2.54 in /usr/local/lib/python3.10/dist-packages (from torch>=1.0.0->bert-score) (11.0.2.54)\n",
            "Requirement already satisfied: nvidia-curand-cu12==10.3.2.106 in /usr/local/lib/python3.10/dist-packages (from torch>=1.0.0->bert-score) (10.3.2.106)\n",
            "Requirement already satisfied: nvidia-cusolver-cu12==11.4.5.107 in /usr/local/lib/python3.10/dist-packages (from torch>=1.0.0->bert-score) (11.4.5.107)\n",
            "Requirement already satisfied: nvidia-cusparse-cu12==12.1.0.106 in /usr/local/lib/python3.10/dist-packages (from torch>=1.0.0->bert-score) (12.1.0.106)\n",
            "Requirement already satisfied: nvidia-nccl-cu12==2.19.3 in /usr/local/lib/python3.10/dist-packages (from torch>=1.0.0->bert-score) (2.19.3)\n",
            "Requirement already satisfied: nvidia-nvtx-cu12==12.1.105 in /usr/local/lib/python3.10/dist-packages (from torch>=1.0.0->bert-score) (12.1.105)\n",
            "Requirement already satisfied: triton==2.2.0 in /usr/local/lib/python3.10/dist-packages (from torch>=1.0.0->bert-score) (2.2.0)\n",
            "Requirement already satisfied: nvidia-nvjitlink-cu12 in /usr/local/lib/python3.10/dist-packages (from nvidia-cusolver-cu12==11.4.5.107->torch>=1.0.0->bert-score) (12.4.127)\n",
            "Requirement already satisfied: huggingface-hub<1.0,>=0.19.3 in /usr/local/lib/python3.10/dist-packages (from transformers>=3.0.0->bert-score) (0.23.0)\n",
            "Requirement already satisfied: pyyaml>=5.1 in /usr/local/lib/python3.10/dist-packages (from transformers>=3.0.0->bert-score) (6.0.1)\n",
            "Requirement already satisfied: regex!=2019.12.17 in /usr/local/lib/python3.10/dist-packages (from transformers>=3.0.0->bert-score) (2023.12.25)\n",
            "Requirement already satisfied: tokenizers<0.20,>=0.19 in /usr/local/lib/python3.10/dist-packages (from transformers>=3.0.0->bert-score) (0.19.1)\n",
            "Requirement already satisfied: safetensors>=0.4.1 in /usr/local/lib/python3.10/dist-packages (from transformers>=3.0.0->bert-score) (0.4.3)\n",
            "Requirement already satisfied: contourpy>=1.0.1 in /usr/local/lib/python3.10/dist-packages (from matplotlib->bert-score) (1.2.1)\n",
            "Requirement already satisfied: cycler>=0.10 in /usr/local/lib/python3.10/dist-packages (from matplotlib->bert-score) (0.12.1)\n",
            "Requirement already satisfied: fonttools>=4.22.0 in /usr/local/lib/python3.10/dist-packages (from matplotlib->bert-score) (4.51.0)\n",
            "Requirement already satisfied: kiwisolver>=1.0.1 in /usr/local/lib/python3.10/dist-packages (from matplotlib->bert-score) (1.4.5)\n",
            "Requirement already satisfied: pillow>=6.2.0 in /usr/local/lib/python3.10/dist-packages (from matplotlib->bert-score) (9.4.0)\n",
            "Requirement already satisfied: pyparsing>=2.3.1 in /usr/local/lib/python3.10/dist-packages (from matplotlib->bert-score) (3.1.2)\n",
            "Requirement already satisfied: charset-normalizer<4,>=2 in /usr/local/lib/python3.10/dist-packages (from requests->bert-score) (3.3.2)\n",
            "Requirement already satisfied: idna<4,>=2.5 in /usr/local/lib/python3.10/dist-packages (from requests->bert-score) (3.7)\n",
            "Requirement already satisfied: urllib3<3,>=1.21.1 in /usr/local/lib/python3.10/dist-packages (from requests->bert-score) (2.0.7)\n",
            "Requirement already satisfied: certifi>=2017.4.17 in /usr/local/lib/python3.10/dist-packages (from requests->bert-score) (2024.2.2)\n",
            "Requirement already satisfied: six>=1.5 in /usr/local/lib/python3.10/dist-packages (from python-dateutil>=2.8.2->pandas>=1.0.1->bert-score) (1.16.0)\n",
            "Requirement already satisfied: MarkupSafe>=2.0 in /usr/local/lib/python3.10/dist-packages (from jinja2->torch>=1.0.0->bert-score) (2.1.5)\n",
            "Requirement already satisfied: mpmath>=0.19 in /usr/local/lib/python3.10/dist-packages (from sympy->torch>=1.0.0->bert-score) (1.3.0)\n",
            "Installing collected packages: bert-score\n",
            "Successfully installed bert-score-0.3.13\n"
          ]
        }
      ],
      "source": [
        "#!pip install transformers\n",
        "!pip install accelerate\n",
        "!pip install transformers\n",
        "!pip install datasets\n",
        "!pip install rouge\n",
        "!pip install -q evaluate rouge_score\n",
        "!pip install bert-score\n"
      ],
      "id": "9EhWoZef-X8u"
    },
    {
      "cell_type": "markdown",
      "metadata": {
        "id": "uumcErs2-X80"
      },
      "source": [
        "## Part 1: Finetuning\n",
        "\n",
        "For your projects, you are much more likely to want to finetune a pretrained model. This is a little bit more involved, but is still quite easy."
      ],
      "id": "uumcErs2-X80"
    },
    {
      "cell_type": "markdown",
      "metadata": {
        "id": "WDdGp4Ua-X81"
      },
      "source": [
        "### 2.1 Loading in a dataset\n",
        "\n",
        "In addition to having models, the [the hub](https://huggingface.co/datasets) also has datasets."
      ],
      "id": "WDdGp4Ua-X81"
    },
    {
      "cell_type": "code",
      "execution_count": 62,
      "metadata": {
        "id": "OTsW-Wwi-X81"
      },
      "outputs": [],
      "source": [
        "from datasets import load_dataset, DatasetDict\n",
        "\n",
        "#DataLoader(zip(list1, list2))\n",
        "\n",
        "eurLexSum_dataset = load_dataset(\"lighteval/legal_summarization\",\"EurLexSum\")\n",
        "\n",
        "\n"
      ],
      "id": "OTsW-Wwi-X81"
    },
    {
      "cell_type": "code",
      "source": [
        "def truncate(example):\n",
        "    return {\n",
        "        'article': \" \".join(example['article'].split()[:200]),\n",
        "        'summary': \" \".join(example['summary'].split()[:100])\n",
        "    }\n",
        "\n",
        "\n",
        "# Take 128 random examples for train and 32 validation\n",
        "eurLexSum_dataset_2 = DatasetDict(\n",
        "    train=eurLexSum_dataset['train'].shuffle(seed=1111).select(range(128)),\n",
        "    test=eurLexSum_dataset['train'].shuffle(seed=1111).select(range(128, 160)),\n",
        ")"
      ],
      "metadata": {
        "id": "T5eGeK6JZvsW"
      },
      "id": "T5eGeK6JZvsW",
      "execution_count": 63,
      "outputs": []
    },
    {
      "cell_type": "code",
      "execution_count": 64,
      "metadata": {
        "colab": {
          "base_uri": "https://localhost:8080/"
        },
        "id": "vCaX-gNo0OEV",
        "outputId": "b6971cac-d12a-4868-8ef2-a6d429ef75ac"
      },
      "outputs": [
        {
          "output_type": "execute_result",
          "data": {
            "text/plain": [
              "DatasetDict({\n",
              "    train: Dataset({\n",
              "        features: ['article', 'summary'],\n",
              "        num_rows: 128\n",
              "    })\n",
              "    test: Dataset({\n",
              "        features: ['article', 'summary'],\n",
              "        num_rows: 32\n",
              "    })\n",
              "})"
            ]
          },
          "metadata": {},
          "execution_count": 64
        }
      ],
      "source": [
        "eurLexSum_dataset_2\n"
      ],
      "id": "vCaX-gNo0OEV"
    },
    {
      "cell_type": "code",
      "execution_count": 65,
      "metadata": {
        "id": "bBS4c44A-X82",
        "outputId": "9d1f9846-f357-4612-c3ea-1eb2cb2f26d6",
        "colab": {
          "base_uri": "https://localhost:8080/"
        }
      },
      "outputs": [
        {
          "output_type": "execute_result",
          "data": {
            "text/plain": [
              "{'article': [\"7.12.2017 EN Official Journal of the European Union L 322/3 AGREEMENT between the European Union and the Swiss Confederation on the linking of their greenhouse gas emissions trading systems THE EUROPEAN UNION, (hereinafter referred to as ‘the Union’) of the one part, and THE SWISS CONFEDERATION, (hereinafter referred to as ‘Switzerland’) of the other part, (hereinafter referred to as ‘the Parties’), CONSCIOUS OF the global challenge presented by climate change and the international efforts required to reduce greenhouse gas emissions to combat climate change; NOTING the international commitments, in particular the United Nations Framework Convention on Climate Change (UNFCCC) and its Kyoto Protocol, to reduce greenhouse gas emissions; CONSIDERING THAT Switzerland and the Union share the objective of reducing greenhouse gas emissions significantly by 2020 and beyond; CONSCIOUS THAT revisions for future trading periods of the Emissions Trading Systems of the Union and Switzerland may necessitate reviews of this Agreement in order, as a minimum, to preserve the integrity of the mitigation commitments of the Parties; RECOGNISING THAT Emissions Trading Systems are an effective tool for reducing greenhouse gas emissions cost-effectively; CONSIDERING THAT linking Emissions Trading Systems to enable the trade of emission allowances between systems will help build a robust international carbon market and further reinforce the emission reduction efforts of the Parties who have linked their systems; CONSIDERING THAT by linking Emissions Trading Systems carbon leakage and distortion of competition between the linked systems should be avoided and an orderly functioning of the linked carbon markets should be ensured; HAVING REGARD TO the Emissions Trading System of the Union, established by Directive 2003/87/EC of the European Parliament and of the Council of 13 October 2003 establishing a scheme for greenhouse gas emission allowance trading within the Community and amending Council Directive 96/61/EC as amended (hereinafter referred to as ‘Directive 2003/87/EC’), and the Emissions Trading System of Switzerland, established by the CO2 Act and its Ordinance; RECALLING that Norway, Iceland and Liechtenstein participate in the Emissions Trading System of the Union; CONSIDERING THAT, depending on the timing of ratification of this Agreement, linking should be operational from 1 January 2019 or from 1 January 2020, without prejudice to essential criteria being applied earlier by Switzerland or the Union, and without prejudice to the provisional application of this Agreement; CONSCIOUS THAT linking of Emission Trading Systems requires access to, as well as exchange of, sensitive information between the Parties and therefore appropriate security measures; NOTING THAT this Agreement does not affect the provisions by which the Parties set their objectives for reducing greenhouse gas emissions not covered by their Emissions Trading Systems; RECOGNISING THAT this Agreement shall be without prejudice to any bilateral agreement between Switzerland and France – in respect of the bi-national status of EuroAirport Basel-Mulhouse-Freiburg as established by the ‘Convention franco-suisse du 4 juillet 1949 relative à la construction et à l'exploitation de l'aéroport de Bâle-Mulhouse’, as long as the bilateral agreement respects the essential criteria and technical provisions defined in this Agreement; RECOGNISING THAT the provisions of this Agreement are drawn up in view of the close connections and the special relationship existing between Switzerland and the Union; WELCOMING the Agreement reached at the 21st Conference of the Parties to the UNFCCC in Paris on 12 December 2015, and recognizing that the accounting issues resulting from that Agreement will be looked at in due course, HAVE AGREED AS FOLLOWS: CHAPTER I GENERAL PROVISIONS Article 1 Objective This Agreement links the Emissions Trading System of the Union (the ‘EU ETS’) with the Emissions Trading System of Switzerland (the ‘ETS of Switzerland’). Article 2 Essential Criteria The Emissions Trading Systems of the Parties (the ‘ETS’) shall meet at least the essential criteria set out in Annex I. CHAPTER II TECHNICAL PROVISIONS Article 3 Registries 1. The registries of the Parties shall meet the criteria set out in Annex I, Part C. 2. To operationalise the link between the EU ETS and the ETS of Switzerland, a direct link between the European Union Transaction Log (EUTL) of the Union registry and the Swiss Supplementary Transaction Log (SSTL) of the Swiss registry shall be established, which will enable the registry-to-registry transfer of emission allowances issued under either ETS. 3. The registry link shall, inter alia: (a) be administered for Switzerland by the Swiss registry administrator and for the Union by the Union central administrator, (b) operate in accordance with the applicable laws in each jurisdiction, (c) be supported by automated processes integrated into both the Swiss registry and the Union registry to enable transactions, (d) be implemented so as to ensure, to the extent possible, consistent functionality for users of the Swiss registry and the Union registry. 4. The Swiss registry administrator, the Union central administrator or both administrators jointly may temporarily close the registry link for system maintenance, security breach or security risk in accordance with the applicable Swiss and European Union legislations. The Parties shall give notice as early as possible of a temporary closure of the registry link for system maintenance, security breach or security risk and shall make the temporary closure as brief as possible. 5. The Parties shall act promptly and in close cooperation using measures available in their respective jurisdictions to prevent fraud and to preserve market integrity of the linked ETS. In the context of the linked ETS, the Swiss registry administrator, the Union central administrator and national administrators from Member States of the Union shall work together to minimise the risk of fraud, misuse or criminal activity involving the registries, to respond to such incidents, and to protect the integrity of the registry link. Measures agreed by the administrators to address the risk of fraud, misuse or criminal activity shall be adopted by decision of the Joint Committee. 6. The Swiss registry administrator and the Union central administrator shall determine common operational procedures (COP) related to technical or other matters necessary for the operation of the linking and taking into account the priorities of domestic legislation. The COP developed by the administrators shall take effect when adopted by decision of the Joint Committee. 7. The Swiss registry administrator and the Union central administrator shall develop Linking Technical Standards (LTS) based on the principles set out in Annex II, describing the detailed requirements for establishing a robust and secure connection between the SSTL and the EUTL. The LTS developed by the administrators shall take effect when adopted by decision of the Joint Committee. 8. Issues requiring resolution arising out of the implementation and operation of the registry link shall be resolved through timely consultation by the Swiss registry administrator and the Union central administrator and in accordance with the determined COP. Article 4 Emission allowances and accounting 1. Emission allowances that can be used for compliance under the ETS of one Party shall be recognised for compliance under the ETS of the other Party. ‘Emission allowance’ means an allowance to emit one tonne of carbon dioxide equivalent during a specified period, which has been issued under the EU ETS or the ETS of Switzerland valid for the purposes of meeting the requirements under the EU ETS or the ETS of Switzerland. 2. Existing restrictions on the use of specific allowances in one ETS may be applied in the other ETS. 3. The ETS in which an emission allowance was issued shall be identifiable to the registry administrators and the account holders on the basis of at least the country code of the serial number of the emission allowance. 4. Each Party shall inform the other Party on at least an annual basis of the total holdings of emission allowances issued under the other ETS, and of the number of emission allowances issued under the other ETS that have been surrendered for compliance or that have been cancelled voluntarily. 5. Parties shall account for net flows of allowances in accordance with UNFCCC approved principles and rules for accounting following their entry into force. This mechanism shall be determined in an Annex to this Agreement adopted by decision of the Joint Committee. 6. Upon entry into force of the second commitment period of the Kyoto Protocol, the Parties shall transfer or acquire a sufficient number of Assigned Amount Units (‘AAUs’) valid for the second commitment period of the Kyoto Protocol at an agreed interval, and in case of termination in accordance with Article 16, to account for net flows of allowances between the Parties to the extent that such allowances have been surrendered by ETS operators for compliance and to the extent that such allowances represent emissions included in Annex A of the Kyoto Protocol. The mechanism for such transactions shall be determined in an Annex to this Agreement adopted by decision of the Joint Committee following the entry into force of the amendment of the Kyoto Protocol. That Annex shall also include an agreement on the management of the share of proceeds applied to the first international transfer of AAUs. Article 5 Auctioning 1. Allowances shall be sold by the Parties through auctioning only. 2. Operators under either ETS shall be eligible to apply for admission to bid in auctions for allowances. Access to such auctions for operators under either ETS shall be given on a non-discriminatory basis. To ensure the integrity of the auctions, the eligibility to apply for admission to the auctions may only be extended to other categories of participants that are regulated under the laws of a Party or that are specifically authorised to participate in auctions. 3. Auctioning shall be conducted in an open, transparent and non-discriminatory manner and according to the criteria set out in Annex I, Part D. CHAPTER III AVIATION Article 6 Inclusion of aviation activities Aviation activities shall be included by the Parties in their respective ETS in accordance with the essential criteria set out in Annex I, Part B. Inclusion of aviation activities in the ETS of Switzerland shall reflect the same principles as those of the EU ETS, in particular with regard to coverage, cap and allocation rules. Article 7 Review of this Agreement in the case of changes concerning aviation activities 1. In the case of changes regarding aviation activities in the EU ETS, the corresponding Annex I, Part B shall be reviewed by the Joint Committee pursuant to Article 13(2). 2. The Joint Committee shall in any event convene by the end of 2018 to review the relevant provisions of this Agreement regarding the scope of coverage of aviation activities pursuant to Article 13(2). CHAPTER IV SENSITIVE INFORMATION AND SECURITY Article 8 Sensitive information 1. ‘Sensitive information’ means information and material, whether in oral, visual, electronic, magnetic or documentary form, including equipment and technology, which has been provided by or exchanged between the Parties in connection with this Agreement and (i) the unauthorised disclosure of which could cause varying degrees of damage or harm to the interests of Switzerland, the Union or one or more of the Member States of the Union; (ii) which requires protection against unauthorised disclosure in the security interests of one of the Parties; and (iii) which bears a sensitivity marking assigned by one of the Parties. 2. Without prejudice to the respective laws and regulations of the Parties, each Party shall protect sensitive information, in particular against unauthorised disclosure or integrity loss, in accordance with the security requirements, the sensitivity levels and the handling instructions set out in Annexes II, III, and IV respectively. ‘Handling’ includes generating, processing, storing, transmitting or destroying the sensitive information or any other information contained therein. Article 9 Sensitivity levels 1. Each Party is solely responsible for marking the information it releases as sensitive and for downgrading or removing the level of sensitivity of information it releases. Where sensitive information is released jointly by the Parties, the Parties shall agree together on the marking and the level of sensitivity, as well as the downgrading and removal of the level of sensitivity. 2. Sensitive information shall be marked ETS CRITICAL, ETS SENSITIVE or ETS LIMITED in accordance with its level of sensitivity as set out in Annex III. 3. The sensitive information originator of the releasing Party shall downgrade sensitive information to a lower sensitivity level as soon as it ceases to require a higher degree of protection and shall remove the sensitivity status as soon as the information ceases to require protection against unauthorised disclosure or loss of integrity. 4. The releasing Party shall inform the recipient Party of any new sensitive information and its level of sensitivity, as well as of any downgrades in sensitivity level or removals of sensitivity status. 5. A shared sensitive information list shall be established and maintained by the Parties. CHAPTER V DEVELOPMENT OF LEGISLATION Article 10 Development of legislation 1. This Agreement is without prejudice to the right of each Party to amend or adopt legislation of relevance to this Agreement, including the right to adopt more stringent protective measures. 2. Where a Party is developing legislation in an area of relevance to this Agreement, it shall notify the other Party in writing in a timely manner. To this end, a process of regular exchange of information and consultation shall be set up by the Joint Committee. 3. Following a notification pursuant to paragraph 2, either Party may request an exchange of views thereon within the Joint Committee under Article 13(4), in particular to assess whether the legislation would directly affect the criteria set out in Annex I. 4. When one Party adopts a proposal for a legislative act of relevance to this Agreement, a copy thereof shall be transmitted to the other Party's representative(s) in the Joint Committee. 5. Upon the adoption of a legislative act of relevance to this Agreement by one Party, a copy thereof shall be transmitted to the other Party's representative(s) in the Joint Committee. 6. Where the Joint Committee concludes that the legislative act directly affects the criteria set out in Annex I, it shall decide on a corresponding amendment of the relevant part of Annex I. That decision shall be taken within a period of six months from the date of referral to the Joint Committee. 7. Where a decision on an amendment of Annex I cannot be reached within the period referred to in paragraph 6, the Joint Committee shall examine, within eight months of the date of referral, all further possibilities to maintain the good functioning of this Agreement and shall take any decisions necessary to that end. Article 11 Coordination 1. The Parties shall coordinate efforts in areas of relevance to this Agreement, and, in particular, on the criteria set out in the Annexes, to ensure the proper implementation of this Agreement and the integrity of the ETS of the Parties, as well as to avoid carbon leakage and undue distortion of competition between the linked ETS. 2. Such coordination shall, in particular, take place through the formal and informal exchange or provision of information and, at the request of a Party, through consultations in the Joint Committee. CHAPTER VI JOINT COMMITTEE Article 12 Composition and functioning of the Joint Committee 1. A Joint Committee composed of representatives of the Parties is established. 2. Either Party may request the convening of a meeting. The Joint Committee shall meet within 30 days of such a request. 3. Decisions taken by the Joint Committee in the cases provided for in this Agreement shall, upon their entry into force, be binding on the Parties, who shall take the necessary steps to ensure their implementation and application. 4. The Joint Committee shall establish its rules of procedure. Decisions taken by the Joint Committee shall be agreed by both parties. 5. The Joint Committee may decide to set up subcommittees or working groups that could assist it in its work. Article 13 Functions of the Joint Committee 1. The Joint Committee shall administer this Agreement and shall ensure its proper implementation. 2. The Joint Committee may decide to adopt a new Annex or to amend an existing Annex to this Agreement. 3. The Joint Committee shall discuss amendments to the Articles of this Agreement proposed by one of the Parties. If the Joint Committee agrees to the proposal, it shall submit the proposal to the Parties for adoption according to their respective internal procedures. 4. Upon a request made pursuant to Article 10(3), the Joint Committee shall hold an exchange of views on the proposed legislation, in particular on whether it would result in the respective Party's ETS no longer meeting the criteria set out in the Annexes. 5. Upon suspension of, or prior to the notification of termination of this Agreement in accordance with Articles 15 and 16, the Joint Committee shall hold an exchange of views and shall aim to find agreement to end the suspension or prevent the termination. 6. The Joint Committee shall aim to settle disputes referred to it by the Parties in line with Article 14. 7. The Joint Committee shall conduct periodic reviews of this Agreement in light of any major developments in either ETS, including on market oversight or the commencement of a new trading period, in order to ensure in particular that the linking is not undermining either Party's domestic emissions reductions targets or the integrity and orderly functioning of their carbon markets. 8. The functions of the Joint Committee shall be limited to those set out in this Agreement. CHAPTER VII DISPUTE SETTLEMENT Article 14 Dispute Settlement 1. The Parties shall refer disputes on the interpretation or application of this Agreement arising between them to the Joint Committee for resolution. 2. Where the Joint Committee is unsuccessful in settling the dispute within six months after the date of referral, the dispute shall be referred, at the request of either of the Parties, to the Permanent Court of Arbitration in accordance with the Permanent Court of Arbitration's Rules of 2012. 3. In the event of the suspension or termination of this Agreement, the dispute settlement mechanism shall continue to apply to the disputes referred to in paragraph 1 that arose during the application of this Agreement. CHAPTER VIII SUSPENSION AND TERMINATION Article 15 Suspension of Article 4(1) 1. Without prejudice to Article 16, a Party may suspend the application of Article 4(1) of this Agreement in the following circumstances: (a) where it considers the other Party not to comply, wholly or in part, with the obligations laid down in Article 2, Article 3(1), Article 4(1), Article 5(3), Article 6, Article 8(2), Article 10(2), Article 10(4) and (5) and Article 18(2); (b) where it is notified by the other Party in writing of its intention to link its ETS to that of a third Party in accordance with Article 18; (c) where it is notified by the other Party in writing of its intention to terminate this Agreement in accordance with Article 16. 2. A Party shall notify its decision to suspend Article 4(1) of this Agreement in writing to the other Party together with a justification for the suspension. The decision to suspend Article 4(1) of this Agreement shall be made public immediately after the notification to the other Party. 3. The suspension of Article 4(1) of this Agreement shall be temporary. Where Article 4(1) is suspended pursuant to paragraph 1(a) of this Article, the suspension shall end with the settlement of the dispute in accordance with Article 14. Where Article 4(1) is suspended pursuant to paragraph 1(b) or paragraph 1(c) of this Article, the suspension shall be of a temporary duration of 3 months. The Party may decide to shorten or extend the duration of the suspension. 4. During suspension, allowances shall not be surrendered for compliance in an ETS from which they do not originate. All other transactions shall remain possible. 5. Where no exchange of views in the Joint Committee has been requested pursuant to Article 10(3) from the moment of transmission of the legislative proposal until the time limit set out in Article 10(6), or where such an exchange has taken place and the Joint Committee has concluded that the new legislation does not directly affect the criteria, a Party shall not be entitled to suspend the application of Article 4(1) on the ground that the other Party no longer complies with its obligation to meet the criteria set out in Annex I. Article 16 Termination 1. A Party may terminate this Agreement at any time by notifying the other Party of its decision in writing and after consultation within the Joint Committee. The termination shall take effect six months after the notification has been made to the other Party. The decision shall be made public after the notification has been made to the other Party. 2. In the case of a non-prolongation or an abolition of a Party's ETS, this Agreement shall be automatically terminated on the last operational day of the ETS in question. 3. In case of termination, the Parties shall reach agreement on the continued use and storage of the information that has already been communicated between them, except for data held in the respective registry. If no agreement is reached, either of the Parties is entitled to request the deletion of the information that has been communicated. CHAPTER IX FINAL PROVISIONS Article 17 Implementation 1. The Parties shall take all appropriate measures to ensure compliance with the obligations under this Agreement, including the decisions of the Joint Committee. 2. The Parties shall abstain from any measure that could jeopardise the achievement of the objectives of this Agreement. Article 18 Linking with Third Parties 1. The Parties may negotiate with a third Party with a view to linking their respective ETS. 2. Where a Party negotiates linking with a third Party, it shall notify the other Party thereof and regularly inform it on the status of the negotiations. 3. Before the linking of one Party with a third Party takes place, the other Party shall decide whether it accepts the other Linking Agreement or terminates this Agreement. Where it accepts the other Linking Agreement, the suspension of Article 4(1) shall end. 4. Upon linking with a third Party, the provisions of this Agreement may be revised. Article 19 Annexes The Annexes to this Agreement are an integral part of it. Article 20 Languages This Agreement shall be drawn up in duplicate in the Bulgarian, Croatian, Czech, Danish, Dutch, English, Estonian, Finnish, French, German, Greek, Hungarian, Italian, Latvian, Lithuanian, Maltese, Polish, Portuguese, Romanian, Slovak, Slovenian, Spanish and Swedish languages, each of these texts being equally authentic. Article 21 Ratification and Entry into Force 1. Without prejudice to Article 16, this Agreement shall be concluded for an indefinite period. 2. This Agreement shall be subject to ratification or approval by the Parties in accordance with their respective internal procedures. 3. The Parties shall only exchange their instruments of ratification or approval once they consider all conditions for linking as set out in this Agreement to have been fulfilled. 4. This Agreement shall enter into force on 1 January of the year following the exchange of the instruments of ratification or approval by the Parties. 5. Entry into force of Article 4(6) shall be subject to the entry into force for both Parties of the Doha amendment to the Kyoto Protocol adopted at the 8th Meeting of the Parties (Decision 1/CMP.8; the second commitment period). Article 22 Provisional application Before the entry into force of this Agreement, Articles 11 to 13 shall be applied on a provisional basis as from the date of signature of this Agreement. Съставено в Берн на двадесет и трети ноември две хиляди и седемнадесета година. Hecho en Berna el veintitrés de noviembre del año dos mil diecisiete. V Bernu dne dvacátého třetího listopadu dva tisíce sedmnáct. Udfærdiget i Bern, den treogtyvende november to tusind og sytten. Geschehen zu Bern am dreiundzwanzigsten November zweitausendsiebzehn. Kahe tuhande seitsmeteistkümnenda aasta novembrikuu kahekümne kolmandal päeval Bernis. Έγινε στη Βέρνη, στις είκοσι τρεις Νοεμβρίου δύο χιλιάδες δεκαεπτά. Done at Bern on the twenty third day of November in the year two thousand and seventeen. Fait à Berne, le vingt-trois novembre deux mille dix-sept. Sastavljeno u Bernu dvadeset trećeg studenoga dvije tisuće sedamnaeste. Fatto a Berna addì ventitré novembre duemiladiciassette. Bernē, divi tūkstoši septiņpadsmitā gada divdesmit trešajā novembrī. Sudarytas Berne du tūkstančiai septynioliktų metų lapkričio dvidešimt trečią dieną. Kelt Bernben, a kétezer-tizenhetedik év november havának huszonharmadik napján. Magħmul f'Bern fit-tlieta u għoxrin jum ta' Novembru tas-sena elfejn u sbatax. Gedaan te Bern, drieëntwintig november tweeduizend zeventien. Sporządzono w Bernie w dniu dwudziestego trzeciego listopada dwa tysiące siedemnastego roku. Feito em Berna aos vinte e três dias do mês de novembro de dois mil e dezassete. Întocmit la Berna la douăzeci și trei noiembrie două mii șaptesprezece. V Berne dvadsiateho tretieho novembra dvetisíc sedemnásť. V Bernu, triindvajsetega novembra dva tisoč sedemnajst. Tehty Bernissä kahdentenakymmenentenäkolmantena päivänä marraskuuta vuonna kaksituhattaseitsemäntoista. Utfärdat i Bern den tjugotredje november tjugohundrasjutton. За Европейския съюз Рог la Unión Europea Za Evropskou unii For Den Europæiske Union Für die Europäische Union Euroopa Liidu nimel Για την Ευρωπαϊκή Ένωση For the European Union Pour l'Union européenne Za Europsku uniju Per l'Unione europea Eiropas Savienības vārdā – Europos Sąjungos vardu Az Európai Unió részéről Għall-Unjoni Ewropea Voor de Europese Unie W imieniu Unii Europejskiej Pela União Europeia Pentru Uniunea Europeană Za Európsku úniu Za Evropsko unijo Euroopan unionin puolesta För Europeiska unionen За Конфедерация Швейцария Por la Confederación Suiza Za Švýcarskou konfederaci For Det Schweiziske Forbund Für die Schweizerische Eidgenossenschaft Šveitsi Konföderatsiooni nimel Για την Ελβετική Συνομοσπονδία For the Swiss Confederation Pour la Confédération suisse Za Švicarsku Konfederaciju Per la Confederazione Svizzera Šveices Konfederācijas vārdā – Šveicarijos Konfederacijos vardu A Svájci Államszövetség részéről Għall-Konfederazzjoni Svizzera Voor de Zwitserse Bondsstaat W imieniu Konfederacji Szwajcarskiej Pela Confederação Suíça Pentru Confederația Elvețiană Za Švajčiarsku konfederáciu Za Švicarsko konfederacijo Sveitsin valaliiton puolesta För Schweiziska edsförbundet ANNEX I ESSENTIAL CRITERIA A. Essential Criteria for Stationary Installations Essential Criteria In the EU ETS In the ETS of Switzerland Mandatory nature of the participation in the ETS Participation in the ETS shall be mandatory for the installations carrying out the activities and emitting the greenhouse gases (‘GHG’) listed below. Participation in the ETS shall be mandatory for the installations carrying out the activities and emitting the GHG listed below. The ETS shall cover at least the activities set out in: Annex I to Directive 2003/87/EC, as in force on the date of signature of this Agreement Article 40, paragraph 1, and Annex 6 of the CO2 Ordinance, as in force on the date of signature of this Agreement The ETS shall cover at least the GHGs set out in: Annex II to Directive 2003/87/EC, as in force on the date of signature of this Agreement Article 1, paragraph 1, of the CO2 Ordinance, as in force on the date of signature of this Agreement A cap shall be set for the ETS, which is at least as stringent as the one in: Directive 2003/87/EC as in force on the date of signature of this Agreement — Article 18, paragraph 1, of the CO2 Act — Article 45, paragraph 1, of the CO2 Ordinance as in force on the date of signature of this Agreement The level of ambition of the ETS shall be at least as stringent as the one in: Articles 9 and 9a of Directive 2003/87/EC, as in force on the date of signature of this Agreement — Article 3 and Article 18, paragraph 1, of the CO2 Act — Article 45, paragraph 1, and Annex 8, of the CO2 Ordinance as in force on the date of signature of this Agreement The qualitative limits for international credits shall be at least as stringent as those set out in: — Articles 11a and 11b of Directive 2003/87/EC — Commission Regulation (EU) No 550/2011 of 7 June 2011 on determining, pursuant to Directive 2003/87/EC of the European Parliament and of the Council, certain restrictions applicable to the use of international credits from projects involving industrial gases — Article 58 of Commission Regulation (EU) No 389/2013 of 2 May 2013 on establishing a Union Registry pursuant to Directive 2003/87/EC of the European Parliament and of the Council, Decisions No 280/2004/EC and No 406/2009/EC of the European Parliament and the Council and repealing Commission Regulations (EU) No 920/2010 and No 1193/2011 as in force on the date of signature of this Agreement — Articles 5 and 6 of the CO2 Act — Article 4, Article 4a, paragraph 1, and Annex 2, of the CO2 Ordinance as in force on the date of signature of this Agreement The quantitative limits for international credits shall be at least as stringent as those set out in: — Article 11a of Directive 2003/87/EC — Commission Regulation (EU) No 389/2013 of 2 May 2013 establishing a Union Registry pursuant to Directive 2003/87/EC of the European Parliament and of the Council, Decisions No 280/2004/EC and No 406/2009/EC of the European Parliament and of the Council and repealing Commission Regulations (EU) No 920/2010 and No 1193/2011 — Commission Regulation (EU) No 1123/2013 of 8 November 2013 on determining international credit entitlements pursuant to Directive 2003/87/EC of the European Parliament and of the Council as in force on the date of signature of this Agreement — Article 3, paragraph 2, and Article 16, paragraph 2, of the CO2 Act — Article 48 of the CO2 Ordinance as in force on the date of signature of this Agreement Free allocation shall be calculated on the basis of benchmarks and adjustment factors. A maximum of five percent of the quantity of allowances over the period from 2013 to 2020 shall be set aside for new entrants. Allowances which are not allocated free of charge shall be auctioned. To this end, the ETS shall meet at least: — Articles 10, 10a, 10b and 10c of Directive 2003/87/EC — Commission Decision 2011/278/EU of 27 April 2011 determining transitional Union-wide rules for harmonised free allocation of emission allowances pursuant to Article 10a of Directive 2003/87/EC of the European Parliament and of the Council — Calculations for the determination of the cross-sectoral correction factor in the EU ETS in 2013 to 2020 — Carbon leakage list of 2014 as in force on the date of signature of this Agreement — Article 18, paragraph 2, and Article 19, paragraphs 2 and 3, of the CO2 Act — Article 45, paragraph 2, Articles 46 and 47 and Annex 9, of the CO2 Ordinance as in force on the date of signature of this Agreement The ETS shall provide for penalties in the same circumstances and of the same magnitude as set out in: Article 16 of Directive 2003/87/EC, as in force on the date of signature of this Agreement — Article 21 of the CO2 Act — Article 56 of the CO2 Ordinance as in force on the date of signature of this Agreement Monitoring and reporting in the ETS shall at least be as stringent as in: — Article 14 and Annex IV of Directive 2003/87/EC — Commission Regulation (EU) No 601/2012 of 21 June 2012 on the monitoring and reporting of greenhouse gas emissions pursuant to Directive 2003/87/EC of the European Parliament and of the Council as in force on the date of signature of this Agreement — Article 20 of the CO2 Act — Articles 49, 50 to 53 and 55 of the CO2 Ordinance as in force on the date of signature of this Agreement Verification and accreditation in the ETS shall at least be as stringent as in: — Article 15 and Annex V of Directive 2003/87/EC — Commission Regulation (EU) No 600/2012 of 21 June 2012 on the verification of greenhouse gas emission reports and tonne-kilometre reports and the accreditation of verifiers pursuant to Directive 2003/87/EC of the European Parliament and of the Council as in force on the date of signature of this Agreement — Articles 51 to 54 of the CO2 Ordinance as in force on the date of signature of this Agreement B. Essential criteria for Aviation Essential criteria For the EU For Switzerland Mandatory nature of the participation in the ETS Participation in the ETS shall be mandatory for aviation activities in accordance with the criteria listed below. Participation in the ETS shall be mandatory for aviation activities in accordance with the criteria listed below. Coverage of aviation activities and GHG and attribution of flights and their respective emissions according to the departing flight principle as set out in: — Directive 2003/87/EC — Articles 17, 29, 35 and 56, and Annex VII of Commission Regulation (EU) No 389/2013 of 2 May 2013 establishing a Union Registry pursuant to Directive 2003/87/EC of the European Parliament and of the Council, Decisions No 280/2004/EC and No 406/2009/EC of the European Parliament and of the Council and repealing Commission Regulations (EU) No 920/2010 and No 1193/2011 — Flights from aerodromes situated in the territory of Switzerland to aerodromes situated in the European Economic Area (‘EEA’) shall be excluded from the EU ETS as from 2017, pursuant to Article 25a of Directive 2003/87/EC The CO2 Act and the CO2 Ordinance as in force on the date of entry into force of this Agreement: 1. Scope of coverage Flights which arrive at or depart from an aerodrome situated in the territory of Switzerland, except flights which depart from an aerodrome situated in the EEA. Any temporary derogations as regards the scope of the ETS, such as derogations in the sense of Article 28a of Directive 2003/87/EC, may apply in the ETS of Switzerland in accordance with those introduced in the EU ETS. Only CO2 emissions shall be covered for aviation activities. 2. Limitations of coverage General coverage mentioned in point 1 shall not include: 1. Flights performed exclusively for the transport on official mission of a reigning Monarch and his/her immediate family, Heads of State, Heads of Government and Government Ministers, where this is substantiated by an appropriate status indicator in the flight plan. 2. Military, customs and police flights. 3. Flights related to search and rescue, fire-fighting flights, humanitarian flights and emergency medical service flights. 4. Flights performed exclusively under visual flight rules as defined in Annex 2 to the Convention of 7 December 1944 on International Civil Aviation. 5. Flights terminating at the aerodrome from which the aircraft has taken off and during which no planned intermediate landing has been made. 6. Training flights performed exclusively in order to acquire or maintain a licence, or a rating in the case of cockpit flight crew where this is substantiated by an appropriate remark in the flight plan provided that the flight does not serve for the transport of passengers and/or cargo or for the positioning or ferrying of the aircraft. 7. Flights performed exclusively for the purpose of scientific research. 8. Flights performed exclusively for the purpose of checking, testing or certifying aircraft or airborne or ground-based equipment. 9. Flights performed by aircraft with a certified maximum take-off mass of less than 5 700 kilograms. 10. Flights of commercial aircraft operators with total annual emissions lower than 10 000 tonnes per year on flights covered by the ETS of Switzerland or fewer than 243 flights per period for three consecutive four-month periods within the scope of the ETS of Switzerland, if the operators are not covered by the EU ETS. 11. Flights of non-commercial aircraft operators covered by the ETS of Switzerland with a total of annual emissions lower than 1 000 tonnes per year in accordance with the respective derogation applied in the EU ETS, if the operators are not covered by the EU ETS. Exchange of relevant data regarding the application of the limitations of coverage of aviation activities The two parties shall cooperate regarding the application of the limitations of coverage in the ETS of Switzerland and the EU ETS for commercial and non-commercial operators according to this Annex. In particular, both parties shall ensure the timely transfer of all relevant data to enable correct identification of the flights and aircraft operators that are covered by the ETS of Switzerland and the EU ETS. Cap (total quantity of allowances to be allocated to aircraft operators) Article 3c of Directive 2003/87/EC. The cap shall reflect a similar level of stringency as the one in the EU ETS, in particular with regard to the reduction percentage rate between years and trading periods. The allowances in the cap shall be allocated as follows: — 15 % shall be auctioned, — 3 % shall be set aside in a special reserve, — 82 % shall be allocated free of charge. This distribution may be reviewed in accordance with Articles 6 and 7 of this Agreement. Up to 2020, the quantity of allowances within the cap shall be calculated bottom-up on the basis of the allowances to be allocated free of charge in accordance with the cap distribution as mentioned above. Any temporary derogations as regards the scope of the ETS shall require the corresponding proportional adjustments to the amounts to be allocated. As of 2021, the quantity of allowances within the cap shall be determined by the cap in 2020, taking into account a possible reduction percentage rate in accordance with the EU ETS. Allocation of allowances for aviation through auctioning of allowances Article 3d of Directive 2003/87/EC. Swiss emission allowances to be auctioned shall be auctioned by the Swiss competent authority. Switzerland is entitled to the revenues generated from the auctioning of Swiss allowances. Special reserve for certain aircraft operators Article 3f of Directive 2003/87/EC. Allowances shall be set aside in a special reserve for new entrants and fast growers, except that up to 2020, given that the reference year for the acquisition of data for Swiss aviation activities shall be 2018, Switzerland will not have a special reserve. Benchmark for free allocation of allowances to aircraft operators Article 3e of Directive 2003/87/EC. The benchmark shall be no higher than the one in the EU ETS. Up to 2020, the annual benchmark shall be 0,000642186914222035 allowances per tonne-kilometre. Free allocation of emission allowances for aircraft operators Article 3e of Directive 2003/87/EC. Adjustments shall be made pursuant to Article 25a of Directive 2003/87/EC, to the issuance of allowances in proportion to the corresponding reporting and surrendering obligations resulting from the actual coverage under the EU ETS of flights between the EEA and Switzerland. The number of emission allowances allocated free of charge to aircraft operators is calculated by multiplying its reported tonne-kilometre data performed in the reference year with the applicable benchmark. The qualitative limits for international credits shall be at least as stringent as those set out in: Articles 11a and 11b of Directive 2003/87/EC, and Commission Regulation (EU) No 389/2013 of 2 May 2013 establishing a Union Registry pursuant to Directive 2003/87/EC of the European Parliament and of the Council, Decisions No 280/2004/EC and No 406/2009/EC of the European Parliament and of the Council and repealing Commission Regulations (EU) No 920/2010 and No 1193/2011. — Articles 5 and 6 of the CO2 Act — Article 4, Article 4a, paragraph 1, and Annex 2 of the CO2 Ordinance as in force on the date of entry into force of this Agreement. Quantitative limits for the use of international credits Article 11a of Directive 2003/87/EC. The use shall be 1,5 % of verified emissions up to 2020. Acquisition of tonne-kilometre data for reference year Article 3e of Directive 2003/87/EC. Without prejudice to the provision below, the acquisition of tonne-kilometre data shall be done at the same time and using the same approach as the acquisition of tonne-kilometre data for the EU ETS. Up to 2020 and in accordance with the Ordinance on the Acquisition of Data on Tonne-Kilometres performed by Aircraft Operators as in force on the date of entry into force of this Agreement, the reference year for the acquisition of data for Swiss aviation activities shall be 2018. Monitoring and reporting — Article 14 and Annex IV of Directive 2003/87/EC — Commission Regulation (EU) 601/2012 of 21 June 2012 on the monitoring and reporting of greenhouse gas emissions pursuant to Directive 2003/87/EC of the European Parliament and of the Council as in force on the date of signature of this Agreement Monitoring and reporting provisions shall reflect the same level of stringency as in the EU ETS. Verification and accreditation — Article 15 and Annex V of Directive 2003/87/EC — Commission Regulation (EU) No 600/2012 of 21 June 2012 on the verification of greenhouse gas emission reports and tonne-kilometre reports and the accreditation of verifiers pursuant to Directive 2003/87/EC of the European Parliament and of the Council as in force on the date of signature of this Agreement Verification and accreditation provisions shall reflect the same level of stringency as in the EU ETS. Administration The criteria laid down in Article 18a of Directive 2003/87/EC shall apply. To this effect and pursuant to Article 25a of Directive 2003/87/EC, Switzerland shall be considered as an Administering Member State as regards the attribution of the administration of aircraft operators to Switzerland and EU (EEA) Member States. Pursuant to Article 25a of Directive 2003/87/EC, the competent authorities of the EU (EEA) Member States shall be responsible for all the tasks related to the administration of aircraft operators attributed to them, including the tasks relating to the ETS of Switzerland (e.g. the reception of verified emission reports covering both EU and Swiss aviation activities, the allocation and issuance and transfer of allowances, compliance and enforcement, etc.). The European Commission shall agree bilaterally with the Swiss competent authorities on handing over the relevant documentation and information. In particular, the European Commission shall ensure the transfer to the Swiss competent authorities pursuant to Article 25a of Directive 2003/87/EC, of the amount of EU allowances needed for the free allocation of aircraft operators administered by Switzerland. In case of a bilateral agreement regarding the administration of flights operating in relation to the EuroAirport Basel-Mulhouse-Freiburg not involving any amendment to Directive 2003/87/EU, the European Commission shall, as appropriate, facilitate the implementation of this agreement, provided that this does not result in double counting. In accordance with the CO2 Ordinance as in force on the date of entry into force of this Agreement, Switzerland shall be responsible for the administration of aircraft operators: — with a valid operating licence granted by Switzerland, or — with the greatest estimated attributed aviation emissions in Switzerland under the linked ETS. Swiss competent authorities shall be responsible for all the tasks related to the administration of aircraft operators attributed to Switzerland, including the tasks relating to the EU ETS (e.g. the reception of verified emission reports covering both EU and Swiss aviation activities, the allocation and issuance and transfer of allowances, compliance and enforcement, etc.). The Swiss competent authorities shall agree bilaterally with the European Commission on handing over the relevant documentation and information. In particular, the Swiss competent authorities shall transfer to EU competent authorities the amount of Swiss allowances needed for the free allocation of aircraft operators administered by the EU (EEA) Member States. Legal enforcement Parties shall enforce the provisions of their respective ETS in relation to aircraft operators that do not fulfil the obligations in the respective ETS, regardless of whether the operator is administered by an EU (EEA) competent authority or a Swiss competent authority, in case enforcement by the authority administering the operator requires additional action. Administrative attribution of aircraft operators Pursuant to Article 25a of Directive 2003/87/EC, the aircraft operator's list published by the European Commission in accordance with Article 18a(3) of Directive 2003/87/EC shall specify the administering State, including Switzerland, for each aircraft operator. Aircraft operators attributed to Switzerland for the first time after the entry into force of this Agreement shall be administered by Switzerland after 30 April of the year of attribution and before 1 August of the year of attribution. The two parties shall cooperate on sharing relevant documentation and information. The attribution of an aircraft operator shall not affect the coverage of that aircraft operator by the respective ETS (i.e., an operator covered by the EU ETS that is administered by the Swiss competent authority shall have the same level of obligations under the EU ETS alongside its coverage under the ETS of Switzerland, and vice versa). Modalities for implementation Any further modalities needed for the organization of the work and cooperation within the one-stop-shop for aviation account holders shall be developed and adopted by the Joint Committee after signature of this Agreement, in accordance with Articles 12, 13 and 22 of this Agreement. These modalities shall start applying at the same time as this Agreement. Assistance from Eurocontrol For the aviation part of this Agreement, the European Commission shall include Switzerland within the mandate given to Eurocontrol in relation to the EU ETS. C. Essential Criteria for Registries The ETS of each Party shall include a registry and a transaction log, which shall meet the following essential criteria in relation to security mechanisms and procedures and in relation to the opening and management of accounts. Essential Criteria in relation to Security Mechanisms and Procedures: The registries and the transaction logs shall protect the confidentiality, the integrity, the availability and the authenticity of the data stored in the system. To this end, the following security mechanisms shall be implemented by the Parties: Essential Criteria To access accounts, a two-factor authentication mechanism for all users accessing the account is required. A transaction signature mechanism is required for both initiation and approval of transactions. The confirmation code shall be sent out-of-band to the users. Any of the following operations shall be initiated by one person and approved by another person (4-eye-principle): — all operations undertaken by an administrator, unless justified exceptions as defined in the LTS apply; — all transfers of units unless justified by an alternative measure providing the same level of security. A system of notifications that alert the users when operations are performed involving their accounts and holdings shall be in place. A 26h delay applies between the initiation of a transfer and its execution to all the users to receive information and stop any suspected illegitimate transfer. The Swiss administrator and the Union central administrator shall take steps to inform users on their responsibilities with regard to the security of their systems (PC, network, …) and with regard to handling data / navigating on the internet. Essential Criteria in relation to the Opening and Management of Accounts: Essential Criteria Opening of an Operator Account/Operator Holding Account: The application by the operator or competent authority to request the opening of an operator account/operator holding account shall be addressed to the national administrator (Federal Office of the Environment, FOEN, for Switzerland). The application shall contain sufficient information to identify the ETS installation and an appropriate installation ID. Opening of an Aircraft Operator Account/Aircraft Operator Holding Account: Each aircraft operator covered by the ETS of Switzerland and/or the EU ETS shall have one aircraft operator account/aircraft operator holding account. For aircraft operators administered by the Swiss competent authority such an account shall be held in the Swiss registry. The application by the aircraft operator or an authorized representative of the aircraft operator shall be addressed to the national administrator (FOEN for Switzerland) within 30 working days from the approval of the monitoring plan of the aircraft operator or its transferral from an EU (EEA) Member State to the Swiss authorities. The application shall contain the unique aircraft code(s) of the aircraft operated by the applicant which fall under the ETS of Switzerland and/or the EU ETS. Opening of a Personal Account/Person Holding Account: The application to request the opening of a personal account/person holding account shall be addressed to the national administrator (FOEN for Switzerland). It shall include sufficient information to identify the account holder/applicant, and it shall include at least: — for a natural person: proof of ID and contact details — for a legal person: — copy of the commercial register OR — the instruments establishing the legal entity and a document proving the registration of the legal entity — Criminal records of the natural person or for a legal person of its directors Authorised/Account representatives: Each account shall have at least one authorised/account representative who is nominated by the prospective account holder. The authorised/account representatives shall initiate transactions and other processes on behalf of the account holder. When nominating the authorised/account representative, the following information about the authorised/account representative shall be transmitted: — Name and contact details — Document supporting ID — Criminal record Checking of documents: Any copy of a document submitted as evidence for the opening of a personal account/person holding account or the nomination of an authorised/account representative must be certified as a true copy. Regarding documents issued outside the State requesting a copy, the copy must be legalised. The date of the certification and, where relevant, of the legalisation must not be more than three months prior to the date of application. Refusal to open or update an account or to nominate an authorised/account representative: A national administrator (FOEN for Switzerland) may refuse to open or to update an account or to nominate an authorised/account representative, provided that the refusal is reasonable and justifiable. The refusal shall be justified on at least one of the following grounds: — the information and documents provided are incomplete, out-of-date or otherwise inaccurate, or false; — the prospective representative is under investigation or has been convicted in the preceding five years for fraud involving allowances or Kyoto units, money laundering, terrorist financing or other serious crimes for which the account may be an instrument; — grounds set out in national or Union law. Regular review of account information: The account holders shall immediately report any change to the account or user data to the national administrator (FOEN for Switzerland), supported by information as required by the national administrator who is responsible for the approval of the update of the information in a timely manner. At least once every three years, the national administrator shall review whether the information related to an account remains complete, up-to-date, accurate and true, and shall request that the account holder notify any changes as appropriate. Suspension of Access to Account: Where any provision under Article 3 of this Agreement relating to registries is contravened or an investigation concerning a possible contravention of those provisions is pending, access to accounts may be suspended. Confidentiality and disclosure of information: Information, including the holdings of all accounts, all transactions made, the unique unit identification code of the allowances and the unique numeric value of the unit serial number of the Kyoto units held or affected by a transaction, held in the EUTL or the SSTL, the Union Registry, the Swiss registry and any other Kyoto Protocol registry shall be considered confidential. Such confidential information may be provided to relevant public entities upon their request if such requests pursue a legitimate objective and are justified, necessary and proportionate for the purposes of investigation, detection, prosecution, tax administration, enforcement, auditing and financial supervision to prevent and combat fraud, money laundering, terrorism financing, other serious crime, market manipulation or other breaches of Union or national law of an EEA Member State or Switzerland and to ensure the good functioning of the EU ETS and the ETS of Switzerland. D. Essential Criteria for Auctioning Platforms and Auction Activities Entities conducting auctions of allowances in the ETS of the Parties shall meet the following essential criteria and conduct the auctions accordingly. Essential Criteria 1 The entity conducting the auction shall be selected through a process which ensures transparency, proportionality, equal treatment, non-discrimination and competition between different potential auction platforms on the basis of Union or national procurement law. 2 The entity conducting the auction shall be authorised for this activity and shall provide the necessary safeguards in the conduct of their operations; those safeguards include, among others, arrangements to identify and manage the potential adverse consequences of any conflict of interest, to identify and manage risks to which the market is exposed, to have transparent and non-discretionary rules and procedures for fair and orderly auctioning and sufficient financial resources to facilitate the orderly functioning. 3 Access to the auctions shall be subject to minimum requirements as regards adequate customer diligence checks to ensure that participants do not undermine the operation of the auctions. 4 The auction process shall be predictable, in particular as regards the timing and sequencing of sales and the estimated volumes to be made available. The main elements of the auctioning method, including the schedule, dates and estimated volumes of sales shall be published on the website of the entity conducting the auction at least one month before the start of the auction. Any significant adjustment shall be announced as early as practicable in advance as well. 5 The auctioning of allowances shall be performed with the objective of minimising any impact on the ETS of each Party. The entity in charge of auctioning shall ensure that the auctioning prices do not deviate significantly from the relevant price for allowances in the secondary market over the auctioning period, a situation which would indicate a deficiency of the auctions. 6 All non-confidential information pertinent to the auctions, including all legislation, guidance and forms, shall be published in an open and transparent manner. The results of each auction conducted shall be published as soon as is reasonably practicable and include the relevant non-confidential information. Reports on the results of the auctions shall be published at least annually. 7 The auctioning of allowances shall be subject to adequate rules and procedures to mitigate the risk of anti-competitive behaviour, market abuse, money-laundering and terrorist financing in auctions. Such rules and procedures shall be, to the extent possible, not less stringent than those applicable to financial markets in the respective legal regimes of the Parties. In particular, the entity conducting the auction shall be responsible for putting in place measures, procedures and processes ensuring the integrity of the auctions. It shall also monitor the behaviour of market participants and notify the competent public authorities in the event of anti-competitive behaviour, market abuse, money laundering or terrorist financing. 8 The entity conducting the auctions and the auctioning of allowances shall be subject to adequate supervision by competent authorities. Designated competent authorities shall have necessary legal competences and technical arrangements to supervise: — the organisation and conduct of operators of auction platforms; — the organisation and conduct of professional intermediaries acting on behalf of clients; — the behaviour and transactions of market participants, in order to prevent insider dealing and market manipulation; — the transactions of market participants, in order to prevent money laundering and terrorist financing. To the extent possible, the supervision shall not be less stringent than the supervision on financial markets in the respective legal regimes of the Parties. Switzerland shall endeavour to make use of a private entity for the auctioning of its allowances, in accordance with public procurement rules. Until such an entity is contracted, and provided that the number of allowances to be auctioned in a year is below a fixed threshold, Switzerland may continue to use the current arrangements for auctioning, namely the auctions operated by the FOEN, under the following conditions: 1. The threshold shall be 1 000 000 allowances, including allowances to be auctioned for aviation activities. 2. The essential criteria under points 1 to 8 shall apply, with the exception of criteria 1 and 2, while the criteria 7 and 8 only apply to the FOEN to the extent possible. Essential criteria under point 3 shall apply, together with the following provision: admission to bid in auctions of Swiss allowances under the arrangements for auctioning which were in place at the time this Agreement was signed, shall be guaranteed for all entities in the EEA which are admitted to bid in auctions in the Union. Switzerland may mandate entities conducting the auction which are located in the EEA. ANNEX II LINKING TECHNICAL STANDARDS The Linking Technical Standards (LTS) shall specify: — the architecture of the communication link; — the security of data transfer; — the list of functions (transactions, reconciliation …); — the definition of the web services; — the data logging requirements; — the operational arrangements (Call desk, support); — the communication activation plan and the testing procedure; — the security testing procedure. The LTS shall specify that the administrators shall take all reasonable steps to ensure that the SSTL, the EUTL and the link are operational 24 hours a day and 7 days a week, and that any interruptions to the operation of the SSTL, the EUTL and the link are kept to the minimum. The LTS shall specify that the communications between the SSTL and the EUTL consist of secure exchanges of Simple Object Access Protocol (SOAP) messages based on the following technologies (1): — web services using SOAP; — hardware-based Virtual Private Network (VPN); — XML (Extensible Markup Language); — digital signature; and — network time protocols. The LTS shall set out additional security requirements for the Swiss registry, the SSTL, the Union registry and the EUTL and shall be documented in a ‘security management plan’. In particular, the LTS shall specify that: — if there is a suspicion that the security of the Swiss registry, the SSTL, the Union registry or the EUTL has been compromised, both Parties shall immediately inform each other and suspend the link between the SSTL and the EUTL; — in the event of a security breach, the Parties shall commit to immediately share the information with each other. To the extent that the technical details are available, a report describing the incident (date, cause, impact, remedies) shall be shared between the Swiss registry administrator and the Union central administrator within 24 hours after the security breach. The security testing procedure set out in the LTS shall be completed before the communication link between the SSTL and the EUTL is established, and whenever a new version or release of the SSTL or the EUTL is required. The LTS shall provide two testing environments in addition to the Production environment: a developer testing environment and an acceptance environment. The Parties shall provide evidence through the Swiss registry administrator and the Union central administrator that an independent security assessment of their systems has been performed in the last twelve months in accordance with the security requirements set out in the LTS. Security testing and in particular penetration testing shall be performed on all new major releases of the software in accordance with the security requirements set out in the LTS. The penetration testing shall not be performed by the software developer or by a subcontractor of the software developer. (1) Those technologies are currently used for establishing a connection between the Union Registry and the International Transaction Log as well as between the Swiss Registry and the International Transaction Log. ANNEX III SENSITIVITY LEVELS AND HANDLING INSTRUCTIONS The Parties shall make use of the following sensitivity levels to identify sensitive information that is handled and exchanged within this Agreement: — ETS Limited — ETS Sensitive — ETS Critical Information that is marked as ‘ETS Critical’ is more sensitive than information that is marked as ‘ETS Sensitive’, which in turn is more sensitive than information that is marked as ‘ETS Limited’. The Parties agree to develop handling instructions on the basis of the existing ETS information classification policy of the Union and on the basis of the Information Protection Ordinance (IPO) and the Federal Act on Data Protection (FADP) of Switzerland. The handling instructions shall be submitted to the Joint Committee for approval. Following approval, all information shall have to be handled according to its sensitivity level in compliance with the handling instructions. In case of different level assessments by the Parties, the higher level shall be applied. The legislation of each Party shall include equivalent essential security requirements for the following handling steps, taking into account the ETS sensitivity levels: — Generation of document — Resources — Sensitivity Level — Storage — Electronic document on network — Electronic document in a local environment — Physical document — Electronic transmission — Phone and mobile — Fax — E-mail — Data transmission — Physical Transmission — Oral — Personal handover — Postal system — Use — Processing with IT applications — Printing — Copying — Removal from permanent location — Information management — Regular evaluation of classification and recipients — Archiving — Deletion and destruction ANNEX IV DEFINITION OF ETS SENSITIVITY LEVELS A.1 – Confidentiality and Integrity rating ‘Confidentiality’ means the reserved nature of information or of all or part of an information system (such as algorithms, programmes and documentation) to which access is limited to authorised persons, bodies and procedures. ‘Integrity’ means the guarantee that the information system and the processed information can be altered only by deliberate and legitimate action and that the system will produce the expected result accurately and in full. For each piece of ETS information that is considered to be sensitive, the confidentiality aspect has to be considered from the potential impact at business level where this information is disclosed and the integrity aspect has to be considered from the potential impact at business level where this information is unwillingly modified, partially or totally destroyed. The level of confidentiality of information and the level of integrity of an information system shall be rated following an assessment based on the criteria contained in section A.2. Those ratings allow the global sensitivity level of the information to be evaluated by means of the mapping table provided in section A.3. A.2 – Confidentiality and Integrity rating A.2.1 – ‘Low rating’ A low rating shall be given to any information relating to the ETS the disclosure to unauthorised persons, and/or loss of integrity of which would cause moderate damage to the Parties or other institutions which, in turn, would be likely to: — moderately affect political or diplomatic relations; — cause local negative publicity to the image or reputation of the Parties or other institutions; — cause embarrassment to individuals; — affect staff morale/productivity; — cause limited financial loss or, moderately facilitate improper gain or advantage for individuals or companies; — moderately affect the effective development or operation of the Parties' policies; — moderately affect the proper management of the Parties and their operations. A.2.2 – ‘Medium rating’ A medium rating shall be given to any information relating to the ETS the disclosure to unauthorised persons, and/or loss of integrity of which would cause damage to the Parties or other institutions which, in turn, would be likely to: — cause embarrassment to political or diplomatic relations; — cause damage to the image or reputation of the Parties or other institutions; — cause distress to individuals; — cause consequential reduction in staff morale/productivity; — embarrass the Parties or other institutions in commercial or policy negotiations with others; — cause financial loss or facilitate improper gain or advantage for individuals or companies; — affect the investigation of crime; — breach legal or contractual obligations on confidentiality of information; — affect the development or operation of the Parties' policies; — affect the proper management of the Parties and their operations. A.2.3 – ‘High rating’ A high rating shall be given to any information relating to the ETS the disclosure to unauthorised persons, and/or loss of integrity of which would cause catastrophic and/or unacceptable damage to the Parties or other institutions which, in turn, would be likely to: — adversely affect diplomatic relations; — cause substantial distress to individuals; — make it more difficult to maintain the operational effectiveness or security of Parties or other contributors' forces; — cause financial loss or facilitate improper gain or advantage for individuals or companies; — breach proper undertakings to maintain the confidence of information provided by third parties; — breach statutory restrictions on disclosure of information; — prejudice the investigation or facilitate the commission of crime; — disadvantage the Parties in commercial or policy negotiations with others; — impede the effective development or operation of the Parties' policies; — undermine the proper management of the Parties and their operations. A.3 – ETS Sensitive information level assessment Based on the ratings for Confidentiality and for Integrity pursuant to section A.2, the global information sensitivity level is established using the following mapping table: Confidentiality rating Integrity rating Low Medium High Low ETS Limited ETS Sensitive (or ETS Limited (*1)) ETS Critical Medium ETS Sensitive (or ETS Limited (*1)) ETS Sensitive (or ETS Critical (*1)) ETS Critical High ETS Critical ETS Critical ETS Critical (*1) Possible variation to be assessed on a case-by-case basis.\",\n",
              "  '23.3.2011 EN Official Journal of the European Union L 77/25 COMMISSION REGULATION (EU) No 284/2011 of 22 March 2011 laying down specific conditions and detailed procedures for the import of polyamide and melamine plastic kitchenware originating in or consigned from the People’s Republic of China and Hong Kong Special Administrative Region, China THE EUROPEAN COMMISSION, Having regard to the Treaty on the Functioning of the European Union, Having regard to Regulation (EC) No 882/2004 of the European Parliament and of the Council of 29 April 2004 on official controls performed to ensure the verification of compliance with feed and food law, animal health and animal welfare rules (1), and in particular Article 48(1) thereof, Whereas: (1) Commission Directive 2002/72/EC (2) lays down specific provisions relating to plastic materials and articles intended to come into contact with foodstuffs, including compositional requirements, and restrictions and specifications for substances that may be used therein. (2) Several notifications and alerts have been received by the Rapid Alert System for Food and Feed pursuant to Article 50 of Regulation (EC) No 178/2002 of the European Parliament and of the Council (3) concerning food contact materials imported into the Union from the People’s Republic of China (hereinafter ‘China’) and Hong Kong Special Administrative Region of the People’s Republic of China (hereinafter ‘Hong Kong’), releasing into food or food simulant amounts of chemicals that are not in compliance with the Union legislation. (3) These notifications and alerts primarily concern polyamide and melamine plastic kitchenware that does not comply with the requirements concerning the release of primary aromatic amines and formaldehyde into food as laid down in Part A of Annex V and Section A of Annex II to Directive 2002/72/EC respectively. (4) Primary aromatic amines (hereinafter ‘PAA’) are a family of compounds, some of which are carcinogenic, while others of these compounds are suspected carcinogens. PAA may arise in materials intended for food contact as a result of the presence of impurities or breakdown products. (5) Polyamide kitchenware originating in or consigned from China and Hong Kong has been reported to release high level of PAA into food. (6) Directive 2002/72/EC authorises the use of formaldehyde in the manufacture of plastics, provided that these plastics do not release into food more than 15 mg/kg of formaldehyde (specific migration limit (SML) expressed as total formaldehyde and hexamethylenetetramine). (7) Melamine kitchenware originating in or consigned from China and Hong Kong has been reported to release into food levels of formaldehyde that are higher than those authorised. (8) In the past few years, in order to increase knowledge of the requirements set out in Union legislation concerning food contact materials imported into the Union, the Commission has taken several initiatives, including training sessions for Chinese control authorities and the industry concerned. (9) Despite those initiatives, the missions of the Food and Veterinary Office to China and Hong Kong in 2009 identified serious deficiencies in the official control system regarding plastic food contact materials intended for importation into the Union and large quantities of controlled polyamide and melamine plastic kitchenware originating in or consigned from China and Hong Kong still do not fulfil the requirements of Union legislation. (10) Regulation (EC) No 1935/2004 of the European Parliament and of the Council (4) lays down specific provisions relating to the materials and articles intended to come into contact directly or indirectly with food, including certain general and specific requirements that these materials and articles should fulfil. Pursuant to Article 24 thereof, Member States shall carry out official controls in order to enforce compliance with that Regulation in accordance with the relevant provisions of Union law relating to official food and feed controls. Those provisions are laid down in Regulation (EC) No 882/2004. (11) More specifically, Article 48(1) of Regulation (EC) No 882/2004 provides that in so far as Union legislation does not lay down the conditions and detailed procedures to be respected when importing goods from third countries, they may, if necessary, be laid down by the Commission. (12) Article 48(2) of Regulation (EC) No 882/2004 provides for the possibility to impose specific import conditions on particular products coming from certain third countries, taking into account the risks associated with these products. (13) In order to minimise the health risks that may arise from polyamide and melamine plastic kitchenware originating in or consigned from China or Hong Kong, each consignment of such products should be accompanied by appropriate documentation, including analytical results showing that it meets the requirements concerning the release of PAA and formaldehyde respectively, as laid down in Directive 2002/72/EC. (14) In order to ensure a more efficient organisation of the controls of polyamide and melamine plastic kitchenware originating in or consigned from China or Hong Kong, the importers or their representatives should give prior notification of the arrival and of the nature of the consignments. Likewise, Member States should have the possibility to designate specific first points of introduction through which consignments of these articles may enter the Union. This information should be publicly available. (15) In order to ensure a degree of uniformity at the Union level with regard to the controls of polyamide and melamine plastic kitchenware originating in or consigned from China or Hong Kong, the procedure for the official controls, as defined in Article 2 of Regulation (EC) No 882/2004, should be defined in this Regulation. These controls should include documentary, identity and physical checks. (16) In the event of non-compliance being identified during the physical checks, Member States should immediately inform the Commission through the Rapid Alert System for Food and Feed. (17) Member States should have the possibility, in specific cases, to authorise the onward transportation of consignments of polyamide and melamine plastic kitchenware originating in or consigned from China or Hong Kong from the first point of introduction, provided arrangements are made with the competent authority at the point of destination to ensure the traceability of the consignments pending the results of the physical checks, in order to allow the competent authority to deal with the process of importing such consignments effectively and efficiently. (18) The release into free circulation of polyamide and melamine plastic kitchenware originating in or consigned from China or Hong Kong should take place only once all the checks have been completed and the results are known. For that purpose the result of the controls should be made available to the customs authorities before the goods can be released for free circulation. (19) A procedure for recording the information obtained from these controls should be established. This information should be submitted regularly to the Commission. (20) The provisions of this Regulation should be periodically reviewed, taking into account the information received from the Member States. (21) The measures provided for in this Regulation are in accordance with the opinion of the Standing Committee on the Food Chain and Animal Health, HAS ADOPTED THIS REGULATION: Article 1 Subject matter This Regulation lays down specific conditions and detailed procedures for the import of polyamide and of melamine plastic kitchenware originating in or consigned from the People’s Republic of China (hereinafter ‘China’) and Hong Kong Special Administrative Region of the People’s Republic of China (hereinafter ‘Hong Kong’). Article 2 Definitions For the purpose of this Regulation the following definitions shall apply: (a) ‘plastic kitchenware’ means plastic materials as described in paragraphs 1 and 2 of Article 1 of Directive 2002/72/EC and falling within CN code ex 3924 10 00; (b) ‘consignment’ means a quantity of polyamide or melamine plastic kitchenware, covered by the same document(s), conveyed by the same means of transport and coming from the same third country; (c) ‘competent authorities’ means the competent authorities of the Member States designated in accordance with Article 4 of Regulation (EC) No 882/2004; (d) ‘first point of introduction’ means the point of entry of a consignment into the Union; (e) ‘documentary check’ means the checking of the documents referred to in Article 3 of this Regulation; (f) ‘identity check’ means a visual inspection to ensure that the documents accompanying the consignment tally with the contents of the consignment; (g) ‘physical check’ means the sampling for analysis and laboratory testing and any other check necessary to verify compliance with the requirements concerning the release of PAA and formaldehyde laid down in Directive 2002/72/EC. Article 3 Import conditions 1. Polyamide and melamine plastic kitchenware originating in or consigned from China and Hong Kong shall be imported into the Member States only if the importer submits to the competent authority for each consignment a declaration, duly completed, confirming that it meets the requirements concerning the release of primary aromatic amines and formaldehyde laid down in Part A of Annex V and in Section A of Annex II to Directive 2002/72/EC respectively. 2. A model of the declaration referred to in paragraph 1 is set out in the Annex to this Regulation. The declaration shall be drawn up in the official language, or in one of the official languages, of the Member State in which the consignment is imported. 3. The declaration referred to in paragraph 1 shall be accompanied by a laboratory report providing: (a) as regards polyamide kitchenware, analytical results demonstrating that they do not release into foods or food simulants primary aromatic amines in a detectable quantity. The detection limit applies to the sum of primary aromatic amines. For the purpose of the analysis the detection limit for primary aromatic amines is set at 0,01 mg/kg food or food simulants; (b) as regards melamine kitchenware, analytical results demonstrating that they do not release into foods or food simulants formaldehyde in a quantity exceeding 15 mg/kg food. 4. The competent authority shall indicate in the declaration set out in the Annex to this Regulation, whether the goods are acceptable or not for release into free circulation, depending on whether they fulfil the terms and conditions provided for in Directive 2002/72/EC as set out in paragraph 1. Article 4 Prior notification of consignments Importers or their representatives shall notify the competent authority at the first point of introduction at least two working days in advance of the estimated date and time of physical arrival of consignments originating in or consigned from China and Hong Kong. Article 5 Notification of the first point of introduction Where the Member States decide to designate specific first points of introduction for consignments originating in or consigned from China and Hong Kong, they shall publish on the Internet an up-to-date list of these points and communicate the Internet address to the Commission. The Commission shall display on its website; for information purposes, the links to the national lists of specific first points of introduction. Article 6 Controls at the first point of introduction 1. The competent authority at the first point of introduction shall carry out: (a) documentary checks on all consignments within two working days from the time of their arrival; (b) identity and physical checks, including laboratory analysis of 10 % of consignments, and in such a way that it is not possible for the importers or their representatives to predict whether any particular consignment will be subjected to such checks; the results of physical checks must be available as soon as technically possible. 2. If the laboratory analysis referred to in point (b) of paragraph 1 identifies non-compliance, the competent authorities shall immediately inform the Commission of the results through the Rapid Alert System for Food and Feed established by Article 50 of Regulation (EC) No 178/2002. Article 7 Onward transportation The competent authority at the first point of introduction may authorise the onward transportation of the consignments originating in or consigned from China and Hong Kong, pending the results of the checks referred to in point (b) of Article 6(1). If the competent authority grants the authorisation referred to in the first paragraph, it shall notify the competent authority at the point of destination and shall supply a copy of the declaration set out in the Annex, duly completed as provided in Article 3 and the results of the checks referred to in point (b) of Article 6(1), as soon as the latter are available. The Member States shall ensure that appropriate arrangements are put in place to ensure that the consignments remain under the continuous control of the competent authorities and cannot be tampered with in any way pending the results of the checks mentioned in point (b) of Article 6(1). Article 8 Release for free circulation The release for free circulation of polyamide and melamine plastic kitchenware originating in or consigned from China and Hong Kong is subject to the presentation to the customs authorities of the declaration set out in the Annex duly completed as provided for in Article 3. Article 9 Reporting to the Commission 1. When checks referred to in Article 6(1) are performed, the competent authorities shall keep records of the following information: (a) details of each consignment checked, including: (i) the size in terms of number of articles; (ii) the country of origin; (b) the number of consignments subject to sampling and analysis; (c) the results of the controls referred to in Article 6. 2. Member States shall submit to the Commission a report including the information referred to in paragraph 1, quarterly by the end of the month following each quarter. Article 10 Entry into force This Regulation shall enter into force on the 20th day following its publication in the Official Journal of the European Union. This Regulation shall apply from 1 July 2011. This Regulation shall be binding in its entirety and directly applicable in all Member States in accordance with the Treaties. Done at Brussels, 22 March 2011. For the Commission The President José Manuel BARROSO (1) OJ L 165, 30.4.2004, p. 1. (2) OJ L 220, 15.8.2002, p. 18. (3) OJ L 31, 1.2.2002, p. 1. (4) OJ L 338, 13.11.2004, p. 4. ANNEX Declaration to be provided for every consignment of polyamide and melamine plastic kitchenware originating in or consigned from the People’s Republic of China and Hong Kong Special Administrative Region, China'],\n",
              " 'summary': ['Agreement between the EU and Switzerland on the greenhouse gas emissions trading system (ETS) Agreement between the EU and Switzerland on the greenhouse gas emissions trading system (ETS) SUMMARY OF: Agreement between the EU and Swiss Confederation on the linking of their greenhouse gas emissions trading systems Decision (EU) 2017/2240 on the signing and provisional application of the agreement between the EU and the Swiss Confederation on the linking of their greenhouse gas emissions trading systems Decision (EU) 2018/219 on the conclusion of the agreement between the EU and the Swiss Confederation on the linking of their greenhouse gas emissions trading systems WHAT IS THE AIM OF THE AGREEMENT? The agreement aims to link the EU’s emissions trading system (EU ETS) with Switzerland’s ETS (CHETS). The EU considers its emissions trading system (ETS) to be a policy tool which cost-effectively reduces greenhouse gas emissions. Linking emissions trading systems to enable the trade of emission allowances between systems will help build a robust international carbon emission market and further reinforce the emission-reduction efforts of the parties who have linked their systems, thus contributing also towards the objectives of the Paris agreement on climate change. The linking of the two systems will only become fully operational once the Switzerland has brought into force all the requisite rules in its national legislation, notably on extending its ETS to aviation. However, under the terms of this agreement, the Joint Committee (JC) it set up started functioning from the signing of the agreement (November 2017) in order to ensure coordination between the parties, including on developments regarding the entry into force of the relevant Swiss rules. KEY POINTS Cap and trade: how the EU ETS works The EU ETS, set up by Directive 2003/87/EC, works on the ‘cap and trade’ principle. A cap is set on the total amount of certain greenhouse gases that can be emitted by power plants and industrial installations covered by the system. The cap is reduced over time so that total emissions fall. Besides stationary installations, the EU ETS applies to all flights between airports in the EU and the European Economic Area. Within the cap, companies receive or buy emission allowances* which they can then trade with one another as needed. Before 2021 they could also use limited amounts of international credits from emission-saving projects around the world for compliance with the system. The limit on the total number of allowances available ensures that they retain their value. Each year a company must hand over enough allowances to cover all its emissions, otherwise heavy fines are imposed. If a company reduces its emissions, it can keep the spare allowances to cover its future needs or else sell them to another company that is short of allowances. Trading brings flexibility that ensures emissions are cut where it is most cost-effective. It also promotes investment in clean, low-carbon technologies. EU-Swiss agreement The agreement sets out the key objectives and principles, as well as the institutional structure, for linking the EU and Swiss emissions trading systems. Once the link between the EU ETS and the CH ETS becomes operational, emission allowances that originate from one system are eligible for compliance with the other system. Essential criteria To ensure the 2 systems are compatible, certain essential criteria, laid down in an annex to the agreement, must be met. These criteria largely reflect the provisions of the EU ETS legislation or its implementing acts. Either system can adopt rules that are more stringent than the essential criteria. The agreement allows for the possibility of future legislative developments in the linked systems without the need for substantial renegotiation as long as the systems continue to meet the essential criteria. Information sharing and coordination The agreement establishes a process for information sharing and coordination in areas of relevance. This is to ensure its proper implementation and the ongoing integrity of the linked systems. This process permits the parties to keep each other informed of relevant legislative developments. Aviation The agreement clarifies that Switzerland will mirror the EU ETS provisions on aviation in the CH ETS for the linking of the two emissions trading systems to enter into force. Aviation operators will be administered by an EEA state or Switzerland under the ‘one-stop shop’ approach. This means that a single authority takes responsibility for the implementation of the 2 systems so that operators will only have to deal with one authority under the linked system. The special situation of the bi-national Basel airport is addressed to avoid double-counting, should Switzerland reach a bilateral agreement on the coverage of activities from Basel airport. Joint Committee The agreement establishes a JC as its main steering structure. The JC: comprises representatives of both parties and is responsible for the administration and proper implementation of the agreement; plays a key role in the information sharing and coordination process, as well as in assessing whether the parties continue to meet the essential criteria; can propose changes to articles of the agreement and make amendments to the annexes; became functional from the date of signature of the agreement under the terms of the agreement on the provisional application of certain articles. Dispute-settlement mechanism Disputes on the interpretation or application of the agreement can be referred by either party to the JC for resolution. Where the JC is unsuccessful in settling the dispute within 6 months, it can be referred to the Permanent Court of Arbitration at the request of either party. Technical rules In addition to the principles, objectives and institutional arrangements, the agreement contains technical provisions governing the operation of registries, accounting, auctioning, sensitive information and security. DATE OF ENTRY INTO FORCE The agreement entered into force on 1 January 2020. BACKGROUND For more information see: EU and Switzerland sign agreement to link emissions trading systems (European Commission) Green light for the agreement linking the EU and Swiss emissions trading systems (Council of the EU) EU emissions trading system (EU ETS) (EUR-Lex). KEY TERMS Emission allowance: an allowance to emit 1 tonne of carbon dioxide equivalent during a specified period, issued by the EU ETS or the CH ETS. MAIN DOCUMENTS Agreement between the European Union and the Swiss Confederation on the linking of their greenhouse gas emissions trading systems (OJ L 322, 7.12.2017, pp. 3-26) Council Decision (EU) 2017/2240 of 10 November 2017 on the signing, on behalf of the Union, and provisional application of the Agreement between the European Union and the Swiss Confederation on the linking of their greenhouse gas emissions trading systems (OJ L 322, 7.12.2017, pp. 1-2) Council Decision (EU) 2018/219 of 23 January 2018 on the conclusion of the Agreement between the European Union and the Swiss Confederation on the linking of their greenhouse gas emissions trading systems (OJ L 43, 16.2.2018, pp. 1-2) RELATED DOCUMENTS Notice concerning the entry into force of the Agreement between the European Union and the Swiss Confederation on the linking of their greenhouse gas emissions trading systems (OJ L 330, 20.12.2019, p. 1) Council Decision (EU) 2018/1279 of 18 September 2018 on the position to be taken on behalf of the European Union within the Joint Committee established by the Agreement between the European Union and the Swiss Confederation on the linking of their greenhouse gas emissions trading systems regarding the adoption of its Rules of Procedure (OJ L 239, 24.9.2018, pp. 8-13) Directive 2003/87/EC of the European Parliament and of the Council of 13 October 2003 establishing a scheme for greenhouse gas emission allowance trading within the Community and amending Council Directive 96/61/EC (OJ L 275, 25.10.2003, pp. 32-46) Successive amendments to Directive 2003/87/EC have been incorporated in the original text. This consolidated version is of documentary value only. Council Decision (EU) 2015/1339 of 13 July 2015 on the conclusion, on behalf of the European Union, of the Doha Amendment to the Kyoto Protocol to the United Nations Framework Convention on Climate Change and the joint fulfilment of commitments thereunder (OJ L 207, 4.8.2015, pp. 1-5) Doha Amendment to the Kyoto Protocol (OJ L 207, 4.8.2015, pp. 6-14) United Nations Framework Convention on Climate Change (OJ L 33, 7.2.1994, pp. 13-28) Paris Agreement (OJ L 282, 19.10.2016, pp. 4-18) Council Decision (EU) 2016/1841 of 5 October 2016 on the conclusion, on behalf of the European Union, of the Paris Agreement adopted under the United Nations Framework Convention on Climate Change (OJ L 282, 19.10.2016, pp. 1-3) last update 17.01.2020',\n",
              "  'Import of plastic kitchenware from China Import of plastic kitchenware from China SUMMARY OF: Regulation (EU) 284/2011 — conditions and procedures for the import of plastic kitchenware from China and Hong Kong WHAT IS THE AIM OF THE REGULATION? It sets out specific conditions and procedures for the import into the EU of the macromolecule polyamide and melamine plastic kitchenware originating or in consignment from China or Hong Kong. KEY POINTS Import conditions The competent authority at the first point of introduction into the EU must carry out documentary checks on all consignments and identity and physical checks on 10% of consignments. Only then may the goods be released onto the market. To demonstrate compliance and to facilitate the checks, an importer must submit a declaration for each consignment to the competent national authority. This confirms that the consignment meets requirements concerning the release of the organic compounds primary aromatic amines and formaldehyde. The declaration must include a laboratory report showing that: polyamide kitchenware does not release primary aromatic amines into foods or food simulants in a detectable quantity (the detection limit must be 0.01 mg/kg);melamine kitchenware does not release formaldehyde into foods or food simulants in a quantity exceeding 15 mg/kg. The authority must complete the physical checks as soon as technically feasible; from then on transportation is allowed but only when certain conditions are met. The authority must indicate in the declaration whether the goods are acceptable or not for free circulation within the EU. If the laboratory analysis reveals that a consignment does not comply with the import conditions, the European Commission must be immediately informed through the Rapid Alert System for Food and Feed. Regulation (EU) No 10/2011 also applies to this kitchenware. Notification Importers must notify the authority at the first point of entry into the EU at least 2 working days in advance of the estimated date and time of the physical arrival of their consignments. If an EU country designates specific first points of entry, an up-to-date list must be published online and the internet address must be sent to the Commission. A link to national lists of first points of entry is displayed on the Commission website for information purposes. Reporting Competent authorities must record: the country of origin of the consignment,the number of articles in each consignment,the number of consignments checked,the results of the checks performed. A report with this information must be sent to the Commission on a quarterly basis. FROM WHEN DOES THE REGULATION APPLY? It has applied since 1 July 2011. BACKGROUND For more information, see: Food contact materials — Legislation (European Commission). MAIN DOCUMENT Commission Regulation (EU) No 284/2011 of 22 March 2011 laying down specific conditions and detailed procedures for the import of polyamide and melamine plastic kitchenware originating in or consigned from the People’s Republic of China and Hong Kong Special Administrative Region, China (OJ L 77, 23.3.2011, pp. 25-29) RELATED DOCUMENTS Regulation (EU) 2017/625 of the European Parliament and of the Council of 15 March 2017 on official controls and other official activities performed to ensure the application of food and feed law, rules on animal health and welfare, plant health and plant protection products, amending Regulations (EC) No 999/2001, (EC) No 396/2005, (EC) No 1069/2009, (EC) No 1107/2009, (EU) No 1151/2012, (EU) No 652/2014, (EU) 2016/429 and (EU) 2016/2031 of the European Parliament and of the Council, Council Regulations (EC) No 1/2005 and (EC) No 1099/2009 and Council Directives 98/58/EC, 1999/74/EC, 2007/43/EC, 2008/119/EC and 2008/120/EC, and repealing Regulations (EC) No 854/2004 and (EC) No 882/2004 of the European Parliament and of the Council, Council Directives 89/608/EEC, 89/662/EEC, 90/425/EEC, 91/496/EEC, 96/23/EC, 96/93/EC and 97/78/EC and Council Decision 92/438/EEC (official controls regulation) (OJ L 95, 7.4.2017, pp. 1-142) See consolidated version Commission Regulation (EU) No 10/2011 of 14 January 2011 on plastic materials and articles intended to come into contact with food (OJ L 12, 15.1.2011, pp. 1-89) Successive amendments to Regulation (EC) No 10/2011 have been incorporated into the original text. This consolidated version is of documentary value only. Regulation (EC) No 1935/2004 of the European Parliament and of the Council of 27 October 2004 on materials and articles intended to come into contact with food and repealing Directives 80/590/EEC and 89/109/EEC See consolidated version. Regulation (EC) No 882/2004 of the European Parliament and of the Council of 29 April 2004 on official controls performed to ensure the verification of compliance with feed and food law, animal health and animal welfare rules (OJ L 165, 30.4.2004, pp. 1–141). Text republished in corrigendum (OJ L 191, 28.5.2004, pp. 1–52) See consolidated version. EU guidelines for the import of polyamide and melamine kitchenware from China and Hong Kong Technical guidelines concerning polyamide and melamine kitchenware including sampling and analytical methods last update 11.11.2017']}"
            ]
          },
          "metadata": {},
          "execution_count": 65
        }
      ],
      "source": [
        "eurLexSum_dataset_2 ['train'][:2]"
      ],
      "id": "bBS4c44A-X82"
    },
    {
      "cell_type": "code",
      "execution_count": 66,
      "metadata": {
        "id": "3bjqop3N-X8_"
      },
      "outputs": [],
      "source": [
        "def preprocess_function(examples):\n",
        "  #add summarize so that the t5-small model know the task\n",
        "    #max_input_length = max(len(tokenizer.encode(example['article'])) for example in examples)\n",
        "    #max_target_length = max(len(tokenizer.encode(example['summary'])) for example in examples)\n",
        "\n",
        "    inputs = [\"summarize: \" + text for text in examples[\"article\"]]\n",
        "    model_inputs = tokenizer(inputs, max_length=1024, truncation=True, padding=\"max_length\")\n",
        "\n",
        "    labels = tokenizer(text_target=examples[\"summary\"], max_length=128, truncation=True, padding=\"max_length\")\n",
        "\n",
        "    # Assigns the tokenized labels to the 'labels' field of model_inputs.\n",
        "    model_inputs[\"labels\"] = labels[\"input_ids\"]\n",
        "    model_inputs[\"decoder_input_ids\"] = labels[\"input_ids\"]\n",
        "\n",
        "    # Returns the prepared inputs and labels as a single dictionary, ready for training.\n",
        "    return model_inputs"
      ],
      "id": "3bjqop3N-X8_"
    },
    {
      "cell_type": "code",
      "source": [
        "from transformers import AutoTokenizer, T5Model\n",
        "tokenizer = AutoTokenizer.from_pretrained(\"t5-small\")\n",
        "\n",
        "\"\"\"inputs = [\"summarize: \" + text for text in example[\"article\"]]\n",
        "tokenized_billsum = billsum_dataset_2.map(\n",
        "    lambda example: tokenizer(inputs, padding=true, truncation=True),\n",
        "    batched=True,\n",
        "    batch_size=16\n",
        ")\"\"\"\n",
        "\n",
        "tokenized_eurLexSum = eurLexSum_dataset_2.map(preprocess_function, batched=True)\n",
        "#tokenized_billsum = tokenized_billsum.remove_columns([\"article\"])\n",
        "#tokenized_billsum = tokenized_billsum.remove_columns([\"summary\"])\n",
        "tokenized_eurLexSum.set_format(\"torch\")"
      ],
      "metadata": {
        "colab": {
          "base_uri": "https://localhost:8080/",
          "height": 136,
          "referenced_widgets": [
            "811af48478b14958952bef1aec6655fb",
            "ab5ed01c1db142e8b099d56b8a47c163",
            "777a334498dd4327b6aea53e10c6679a",
            "83bf9c891da7485582754233c77605c7",
            "cb5092d28e3c4f68b024146be036655c",
            "0e53f0f3c8c44fa2a5712af513393c77",
            "5f3bc6af2c7e46a4bf26edb00cbd3c10",
            "b89ac10a688d46a494a42237936b9d73",
            "a7c2d15b913847c781faefb48f3e5933",
            "03ee942c2a624ef6bfe25e3eb043ad06",
            "c5bdeb5e6f784894803cc767a6c3be52",
            "a39018c811004c49a4f030e55a5a0924",
            "d8e4e7164b9a465da966c23a3d4126ab",
            "02f4522364e2427b805a2fddc5622a90",
            "da82dd870c4e441f953efedc1e942f1b",
            "2c3303cca3214a35843039d1dbb482fe",
            "d35a4b8fda284b3c876776936e12a7bc",
            "a4c2fbd249a943a59ea1c5834eca9cc2",
            "b0dc19c7662b458c96bd7d283eb96715",
            "a2e624f374d34c62b02596ff4426b110",
            "c11c1d87990f414aaacd298496c07aaf",
            "3e0f540f047a446aac46055a156f8df8"
          ]
        },
        "id": "ezJbrgX63tGj",
        "outputId": "9c5cd996-951e-42cd-ef97-97c0f81dcf52"
      },
      "id": "ezJbrgX63tGj",
      "execution_count": 67,
      "outputs": [
        {
          "output_type": "stream",
          "name": "stderr",
          "text": [
            "/usr/local/lib/python3.10/dist-packages/huggingface_hub/file_download.py:1132: FutureWarning: `resume_download` is deprecated and will be removed in version 1.0.0. Downloads always resume when possible. If you want to force a new download, use `force_download=True`.\n",
            "  warnings.warn(\n"
          ]
        },
        {
          "output_type": "display_data",
          "data": {
            "text/plain": [
              "Map:   0%|          | 0/128 [00:00<?, ? examples/s]"
            ],
            "application/vnd.jupyter.widget-view+json": {
              "version_major": 2,
              "version_minor": 0,
              "model_id": "811af48478b14958952bef1aec6655fb"
            }
          },
          "metadata": {}
        },
        {
          "output_type": "display_data",
          "data": {
            "text/plain": [
              "Map:   0%|          | 0/32 [00:00<?, ? examples/s]"
            ],
            "application/vnd.jupyter.widget-view+json": {
              "version_major": 2,
              "version_minor": 0,
              "model_id": "a39018c811004c49a4f030e55a5a0924"
            }
          },
          "metadata": {}
        }
      ]
    },
    {
      "cell_type": "code",
      "source": [
        "tokenized_eurLexSum['train'][0:2]"
      ],
      "metadata": {
        "colab": {
          "base_uri": "https://localhost:8080/"
        },
        "id": "FdtuAL_1r0gI",
        "outputId": "04784f8b-015b-4f8f-b250-e103bee332b3"
      },
      "id": "FdtuAL_1r0gI",
      "execution_count": 68,
      "outputs": [
        {
          "output_type": "execute_result",
          "data": {
            "text/plain": [
              "{'article': [\"7.12.2017 EN Official Journal of the European Union L 322/3 AGREEMENT between the European Union and the Swiss Confederation on the linking of their greenhouse gas emissions trading systems THE EUROPEAN UNION, (hereinafter referred to as ‘the Union’) of the one part, and THE SWISS CONFEDERATION, (hereinafter referred to as ‘Switzerland’) of the other part, (hereinafter referred to as ‘the Parties’), CONSCIOUS OF the global challenge presented by climate change and the international efforts required to reduce greenhouse gas emissions to combat climate change; NOTING the international commitments, in particular the United Nations Framework Convention on Climate Change (UNFCCC) and its Kyoto Protocol, to reduce greenhouse gas emissions; CONSIDERING THAT Switzerland and the Union share the objective of reducing greenhouse gas emissions significantly by 2020 and beyond; CONSCIOUS THAT revisions for future trading periods of the Emissions Trading Systems of the Union and Switzerland may necessitate reviews of this Agreement in order, as a minimum, to preserve the integrity of the mitigation commitments of the Parties; RECOGNISING THAT Emissions Trading Systems are an effective tool for reducing greenhouse gas emissions cost-effectively; CONSIDERING THAT linking Emissions Trading Systems to enable the trade of emission allowances between systems will help build a robust international carbon market and further reinforce the emission reduction efforts of the Parties who have linked their systems; CONSIDERING THAT by linking Emissions Trading Systems carbon leakage and distortion of competition between the linked systems should be avoided and an orderly functioning of the linked carbon markets should be ensured; HAVING REGARD TO the Emissions Trading System of the Union, established by Directive 2003/87/EC of the European Parliament and of the Council of 13 October 2003 establishing a scheme for greenhouse gas emission allowance trading within the Community and amending Council Directive 96/61/EC as amended (hereinafter referred to as ‘Directive 2003/87/EC’), and the Emissions Trading System of Switzerland, established by the CO2 Act and its Ordinance; RECALLING that Norway, Iceland and Liechtenstein participate in the Emissions Trading System of the Union; CONSIDERING THAT, depending on the timing of ratification of this Agreement, linking should be operational from 1 January 2019 or from 1 January 2020, without prejudice to essential criteria being applied earlier by Switzerland or the Union, and without prejudice to the provisional application of this Agreement; CONSCIOUS THAT linking of Emission Trading Systems requires access to, as well as exchange of, sensitive information between the Parties and therefore appropriate security measures; NOTING THAT this Agreement does not affect the provisions by which the Parties set their objectives for reducing greenhouse gas emissions not covered by their Emissions Trading Systems; RECOGNISING THAT this Agreement shall be without prejudice to any bilateral agreement between Switzerland and France – in respect of the bi-national status of EuroAirport Basel-Mulhouse-Freiburg as established by the ‘Convention franco-suisse du 4 juillet 1949 relative à la construction et à l'exploitation de l'aéroport de Bâle-Mulhouse’, as long as the bilateral agreement respects the essential criteria and technical provisions defined in this Agreement; RECOGNISING THAT the provisions of this Agreement are drawn up in view of the close connections and the special relationship existing between Switzerland and the Union; WELCOMING the Agreement reached at the 21st Conference of the Parties to the UNFCCC in Paris on 12 December 2015, and recognizing that the accounting issues resulting from that Agreement will be looked at in due course, HAVE AGREED AS FOLLOWS: CHAPTER I GENERAL PROVISIONS Article 1 Objective This Agreement links the Emissions Trading System of the Union (the ‘EU ETS’) with the Emissions Trading System of Switzerland (the ‘ETS of Switzerland’). Article 2 Essential Criteria The Emissions Trading Systems of the Parties (the ‘ETS’) shall meet at least the essential criteria set out in Annex I. CHAPTER II TECHNICAL PROVISIONS Article 3 Registries 1. The registries of the Parties shall meet the criteria set out in Annex I, Part C. 2. To operationalise the link between the EU ETS and the ETS of Switzerland, a direct link between the European Union Transaction Log (EUTL) of the Union registry and the Swiss Supplementary Transaction Log (SSTL) of the Swiss registry shall be established, which will enable the registry-to-registry transfer of emission allowances issued under either ETS. 3. The registry link shall, inter alia: (a) be administered for Switzerland by the Swiss registry administrator and for the Union by the Union central administrator, (b) operate in accordance with the applicable laws in each jurisdiction, (c) be supported by automated processes integrated into both the Swiss registry and the Union registry to enable transactions, (d) be implemented so as to ensure, to the extent possible, consistent functionality for users of the Swiss registry and the Union registry. 4. The Swiss registry administrator, the Union central administrator or both administrators jointly may temporarily close the registry link for system maintenance, security breach or security risk in accordance with the applicable Swiss and European Union legislations. The Parties shall give notice as early as possible of a temporary closure of the registry link for system maintenance, security breach or security risk and shall make the temporary closure as brief as possible. 5. The Parties shall act promptly and in close cooperation using measures available in their respective jurisdictions to prevent fraud and to preserve market integrity of the linked ETS. In the context of the linked ETS, the Swiss registry administrator, the Union central administrator and national administrators from Member States of the Union shall work together to minimise the risk of fraud, misuse or criminal activity involving the registries, to respond to such incidents, and to protect the integrity of the registry link. Measures agreed by the administrators to address the risk of fraud, misuse or criminal activity shall be adopted by decision of the Joint Committee. 6. The Swiss registry administrator and the Union central administrator shall determine common operational procedures (COP) related to technical or other matters necessary for the operation of the linking and taking into account the priorities of domestic legislation. The COP developed by the administrators shall take effect when adopted by decision of the Joint Committee. 7. The Swiss registry administrator and the Union central administrator shall develop Linking Technical Standards (LTS) based on the principles set out in Annex II, describing the detailed requirements for establishing a robust and secure connection between the SSTL and the EUTL. The LTS developed by the administrators shall take effect when adopted by decision of the Joint Committee. 8. Issues requiring resolution arising out of the implementation and operation of the registry link shall be resolved through timely consultation by the Swiss registry administrator and the Union central administrator and in accordance with the determined COP. Article 4 Emission allowances and accounting 1. Emission allowances that can be used for compliance under the ETS of one Party shall be recognised for compliance under the ETS of the other Party. ‘Emission allowance’ means an allowance to emit one tonne of carbon dioxide equivalent during a specified period, which has been issued under the EU ETS or the ETS of Switzerland valid for the purposes of meeting the requirements under the EU ETS or the ETS of Switzerland. 2. Existing restrictions on the use of specific allowances in one ETS may be applied in the other ETS. 3. The ETS in which an emission allowance was issued shall be identifiable to the registry administrators and the account holders on the basis of at least the country code of the serial number of the emission allowance. 4. Each Party shall inform the other Party on at least an annual basis of the total holdings of emission allowances issued under the other ETS, and of the number of emission allowances issued under the other ETS that have been surrendered for compliance or that have been cancelled voluntarily. 5. Parties shall account for net flows of allowances in accordance with UNFCCC approved principles and rules for accounting following their entry into force. This mechanism shall be determined in an Annex to this Agreement adopted by decision of the Joint Committee. 6. Upon entry into force of the second commitment period of the Kyoto Protocol, the Parties shall transfer or acquire a sufficient number of Assigned Amount Units (‘AAUs’) valid for the second commitment period of the Kyoto Protocol at an agreed interval, and in case of termination in accordance with Article 16, to account for net flows of allowances between the Parties to the extent that such allowances have been surrendered by ETS operators for compliance and to the extent that such allowances represent emissions included in Annex A of the Kyoto Protocol. The mechanism for such transactions shall be determined in an Annex to this Agreement adopted by decision of the Joint Committee following the entry into force of the amendment of the Kyoto Protocol. That Annex shall also include an agreement on the management of the share of proceeds applied to the first international transfer of AAUs. Article 5 Auctioning 1. Allowances shall be sold by the Parties through auctioning only. 2. Operators under either ETS shall be eligible to apply for admission to bid in auctions for allowances. Access to such auctions for operators under either ETS shall be given on a non-discriminatory basis. To ensure the integrity of the auctions, the eligibility to apply for admission to the auctions may only be extended to other categories of participants that are regulated under the laws of a Party or that are specifically authorised to participate in auctions. 3. Auctioning shall be conducted in an open, transparent and non-discriminatory manner and according to the criteria set out in Annex I, Part D. CHAPTER III AVIATION Article 6 Inclusion of aviation activities Aviation activities shall be included by the Parties in their respective ETS in accordance with the essential criteria set out in Annex I, Part B. Inclusion of aviation activities in the ETS of Switzerland shall reflect the same principles as those of the EU ETS, in particular with regard to coverage, cap and allocation rules. Article 7 Review of this Agreement in the case of changes concerning aviation activities 1. In the case of changes regarding aviation activities in the EU ETS, the corresponding Annex I, Part B shall be reviewed by the Joint Committee pursuant to Article 13(2). 2. The Joint Committee shall in any event convene by the end of 2018 to review the relevant provisions of this Agreement regarding the scope of coverage of aviation activities pursuant to Article 13(2). CHAPTER IV SENSITIVE INFORMATION AND SECURITY Article 8 Sensitive information 1. ‘Sensitive information’ means information and material, whether in oral, visual, electronic, magnetic or documentary form, including equipment and technology, which has been provided by or exchanged between the Parties in connection with this Agreement and (i) the unauthorised disclosure of which could cause varying degrees of damage or harm to the interests of Switzerland, the Union or one or more of the Member States of the Union; (ii) which requires protection against unauthorised disclosure in the security interests of one of the Parties; and (iii) which bears a sensitivity marking assigned by one of the Parties. 2. Without prejudice to the respective laws and regulations of the Parties, each Party shall protect sensitive information, in particular against unauthorised disclosure or integrity loss, in accordance with the security requirements, the sensitivity levels and the handling instructions set out in Annexes II, III, and IV respectively. ‘Handling’ includes generating, processing, storing, transmitting or destroying the sensitive information or any other information contained therein. Article 9 Sensitivity levels 1. Each Party is solely responsible for marking the information it releases as sensitive and for downgrading or removing the level of sensitivity of information it releases. Where sensitive information is released jointly by the Parties, the Parties shall agree together on the marking and the level of sensitivity, as well as the downgrading and removal of the level of sensitivity. 2. Sensitive information shall be marked ETS CRITICAL, ETS SENSITIVE or ETS LIMITED in accordance with its level of sensitivity as set out in Annex III. 3. The sensitive information originator of the releasing Party shall downgrade sensitive information to a lower sensitivity level as soon as it ceases to require a higher degree of protection and shall remove the sensitivity status as soon as the information ceases to require protection against unauthorised disclosure or loss of integrity. 4. The releasing Party shall inform the recipient Party of any new sensitive information and its level of sensitivity, as well as of any downgrades in sensitivity level or removals of sensitivity status. 5. A shared sensitive information list shall be established and maintained by the Parties. CHAPTER V DEVELOPMENT OF LEGISLATION Article 10 Development of legislation 1. This Agreement is without prejudice to the right of each Party to amend or adopt legislation of relevance to this Agreement, including the right to adopt more stringent protective measures. 2. Where a Party is developing legislation in an area of relevance to this Agreement, it shall notify the other Party in writing in a timely manner. To this end, a process of regular exchange of information and consultation shall be set up by the Joint Committee. 3. Following a notification pursuant to paragraph 2, either Party may request an exchange of views thereon within the Joint Committee under Article 13(4), in particular to assess whether the legislation would directly affect the criteria set out in Annex I. 4. When one Party adopts a proposal for a legislative act of relevance to this Agreement, a copy thereof shall be transmitted to the other Party's representative(s) in the Joint Committee. 5. Upon the adoption of a legislative act of relevance to this Agreement by one Party, a copy thereof shall be transmitted to the other Party's representative(s) in the Joint Committee. 6. Where the Joint Committee concludes that the legislative act directly affects the criteria set out in Annex I, it shall decide on a corresponding amendment of the relevant part of Annex I. That decision shall be taken within a period of six months from the date of referral to the Joint Committee. 7. Where a decision on an amendment of Annex I cannot be reached within the period referred to in paragraph 6, the Joint Committee shall examine, within eight months of the date of referral, all further possibilities to maintain the good functioning of this Agreement and shall take any decisions necessary to that end. Article 11 Coordination 1. The Parties shall coordinate efforts in areas of relevance to this Agreement, and, in particular, on the criteria set out in the Annexes, to ensure the proper implementation of this Agreement and the integrity of the ETS of the Parties, as well as to avoid carbon leakage and undue distortion of competition between the linked ETS. 2. Such coordination shall, in particular, take place through the formal and informal exchange or provision of information and, at the request of a Party, through consultations in the Joint Committee. CHAPTER VI JOINT COMMITTEE Article 12 Composition and functioning of the Joint Committee 1. A Joint Committee composed of representatives of the Parties is established. 2. Either Party may request the convening of a meeting. The Joint Committee shall meet within 30 days of such a request. 3. Decisions taken by the Joint Committee in the cases provided for in this Agreement shall, upon their entry into force, be binding on the Parties, who shall take the necessary steps to ensure their implementation and application. 4. The Joint Committee shall establish its rules of procedure. Decisions taken by the Joint Committee shall be agreed by both parties. 5. The Joint Committee may decide to set up subcommittees or working groups that could assist it in its work. Article 13 Functions of the Joint Committee 1. The Joint Committee shall administer this Agreement and shall ensure its proper implementation. 2. The Joint Committee may decide to adopt a new Annex or to amend an existing Annex to this Agreement. 3. The Joint Committee shall discuss amendments to the Articles of this Agreement proposed by one of the Parties. If the Joint Committee agrees to the proposal, it shall submit the proposal to the Parties for adoption according to their respective internal procedures. 4. Upon a request made pursuant to Article 10(3), the Joint Committee shall hold an exchange of views on the proposed legislation, in particular on whether it would result in the respective Party's ETS no longer meeting the criteria set out in the Annexes. 5. Upon suspension of, or prior to the notification of termination of this Agreement in accordance with Articles 15 and 16, the Joint Committee shall hold an exchange of views and shall aim to find agreement to end the suspension or prevent the termination. 6. The Joint Committee shall aim to settle disputes referred to it by the Parties in line with Article 14. 7. The Joint Committee shall conduct periodic reviews of this Agreement in light of any major developments in either ETS, including on market oversight or the commencement of a new trading period, in order to ensure in particular that the linking is not undermining either Party's domestic emissions reductions targets or the integrity and orderly functioning of their carbon markets. 8. The functions of the Joint Committee shall be limited to those set out in this Agreement. CHAPTER VII DISPUTE SETTLEMENT Article 14 Dispute Settlement 1. The Parties shall refer disputes on the interpretation or application of this Agreement arising between them to the Joint Committee for resolution. 2. Where the Joint Committee is unsuccessful in settling the dispute within six months after the date of referral, the dispute shall be referred, at the request of either of the Parties, to the Permanent Court of Arbitration in accordance with the Permanent Court of Arbitration's Rules of 2012. 3. In the event of the suspension or termination of this Agreement, the dispute settlement mechanism shall continue to apply to the disputes referred to in paragraph 1 that arose during the application of this Agreement. CHAPTER VIII SUSPENSION AND TERMINATION Article 15 Suspension of Article 4(1) 1. Without prejudice to Article 16, a Party may suspend the application of Article 4(1) of this Agreement in the following circumstances: (a) where it considers the other Party not to comply, wholly or in part, with the obligations laid down in Article 2, Article 3(1), Article 4(1), Article 5(3), Article 6, Article 8(2), Article 10(2), Article 10(4) and (5) and Article 18(2); (b) where it is notified by the other Party in writing of its intention to link its ETS to that of a third Party in accordance with Article 18; (c) where it is notified by the other Party in writing of its intention to terminate this Agreement in accordance with Article 16. 2. A Party shall notify its decision to suspend Article 4(1) of this Agreement in writing to the other Party together with a justification for the suspension. The decision to suspend Article 4(1) of this Agreement shall be made public immediately after the notification to the other Party. 3. The suspension of Article 4(1) of this Agreement shall be temporary. Where Article 4(1) is suspended pursuant to paragraph 1(a) of this Article, the suspension shall end with the settlement of the dispute in accordance with Article 14. Where Article 4(1) is suspended pursuant to paragraph 1(b) or paragraph 1(c) of this Article, the suspension shall be of a temporary duration of 3 months. The Party may decide to shorten or extend the duration of the suspension. 4. During suspension, allowances shall not be surrendered for compliance in an ETS from which they do not originate. All other transactions shall remain possible. 5. Where no exchange of views in the Joint Committee has been requested pursuant to Article 10(3) from the moment of transmission of the legislative proposal until the time limit set out in Article 10(6), or where such an exchange has taken place and the Joint Committee has concluded that the new legislation does not directly affect the criteria, a Party shall not be entitled to suspend the application of Article 4(1) on the ground that the other Party no longer complies with its obligation to meet the criteria set out in Annex I. Article 16 Termination 1. A Party may terminate this Agreement at any time by notifying the other Party of its decision in writing and after consultation within the Joint Committee. The termination shall take effect six months after the notification has been made to the other Party. The decision shall be made public after the notification has been made to the other Party. 2. In the case of a non-prolongation or an abolition of a Party's ETS, this Agreement shall be automatically terminated on the last operational day of the ETS in question. 3. In case of termination, the Parties shall reach agreement on the continued use and storage of the information that has already been communicated between them, except for data held in the respective registry. If no agreement is reached, either of the Parties is entitled to request the deletion of the information that has been communicated. CHAPTER IX FINAL PROVISIONS Article 17 Implementation 1. The Parties shall take all appropriate measures to ensure compliance with the obligations under this Agreement, including the decisions of the Joint Committee. 2. The Parties shall abstain from any measure that could jeopardise the achievement of the objectives of this Agreement. Article 18 Linking with Third Parties 1. The Parties may negotiate with a third Party with a view to linking their respective ETS. 2. Where a Party negotiates linking with a third Party, it shall notify the other Party thereof and regularly inform it on the status of the negotiations. 3. Before the linking of one Party with a third Party takes place, the other Party shall decide whether it accepts the other Linking Agreement or terminates this Agreement. Where it accepts the other Linking Agreement, the suspension of Article 4(1) shall end. 4. Upon linking with a third Party, the provisions of this Agreement may be revised. Article 19 Annexes The Annexes to this Agreement are an integral part of it. Article 20 Languages This Agreement shall be drawn up in duplicate in the Bulgarian, Croatian, Czech, Danish, Dutch, English, Estonian, Finnish, French, German, Greek, Hungarian, Italian, Latvian, Lithuanian, Maltese, Polish, Portuguese, Romanian, Slovak, Slovenian, Spanish and Swedish languages, each of these texts being equally authentic. Article 21 Ratification and Entry into Force 1. Without prejudice to Article 16, this Agreement shall be concluded for an indefinite period. 2. This Agreement shall be subject to ratification or approval by the Parties in accordance with their respective internal procedures. 3. The Parties shall only exchange their instruments of ratification or approval once they consider all conditions for linking as set out in this Agreement to have been fulfilled. 4. This Agreement shall enter into force on 1 January of the year following the exchange of the instruments of ratification or approval by the Parties. 5. Entry into force of Article 4(6) shall be subject to the entry into force for both Parties of the Doha amendment to the Kyoto Protocol adopted at the 8th Meeting of the Parties (Decision 1/CMP.8; the second commitment period). Article 22 Provisional application Before the entry into force of this Agreement, Articles 11 to 13 shall be applied on a provisional basis as from the date of signature of this Agreement. Съставено в Берн на двадесет и трети ноември две хиляди и седемнадесета година. Hecho en Berna el veintitrés de noviembre del año dos mil diecisiete. V Bernu dne dvacátého třetího listopadu dva tisíce sedmnáct. Udfærdiget i Bern, den treogtyvende november to tusind og sytten. Geschehen zu Bern am dreiundzwanzigsten November zweitausendsiebzehn. Kahe tuhande seitsmeteistkümnenda aasta novembrikuu kahekümne kolmandal päeval Bernis. Έγινε στη Βέρνη, στις είκοσι τρεις Νοεμβρίου δύο χιλιάδες δεκαεπτά. Done at Bern on the twenty third day of November in the year two thousand and seventeen. Fait à Berne, le vingt-trois novembre deux mille dix-sept. Sastavljeno u Bernu dvadeset trećeg studenoga dvije tisuće sedamnaeste. Fatto a Berna addì ventitré novembre duemiladiciassette. Bernē, divi tūkstoši septiņpadsmitā gada divdesmit trešajā novembrī. Sudarytas Berne du tūkstančiai septynioliktų metų lapkričio dvidešimt trečią dieną. Kelt Bernben, a kétezer-tizenhetedik év november havának huszonharmadik napján. Magħmul f'Bern fit-tlieta u għoxrin jum ta' Novembru tas-sena elfejn u sbatax. Gedaan te Bern, drieëntwintig november tweeduizend zeventien. Sporządzono w Bernie w dniu dwudziestego trzeciego listopada dwa tysiące siedemnastego roku. Feito em Berna aos vinte e três dias do mês de novembro de dois mil e dezassete. Întocmit la Berna la douăzeci și trei noiembrie două mii șaptesprezece. V Berne dvadsiateho tretieho novembra dvetisíc sedemnásť. V Bernu, triindvajsetega novembra dva tisoč sedemnajst. Tehty Bernissä kahdentenakymmenentenäkolmantena päivänä marraskuuta vuonna kaksituhattaseitsemäntoista. Utfärdat i Bern den tjugotredje november tjugohundrasjutton. За Европейския съюз Рог la Unión Europea Za Evropskou unii For Den Europæiske Union Für die Europäische Union Euroopa Liidu nimel Για την Ευρωπαϊκή Ένωση For the European Union Pour l'Union européenne Za Europsku uniju Per l'Unione europea Eiropas Savienības vārdā – Europos Sąjungos vardu Az Európai Unió részéről Għall-Unjoni Ewropea Voor de Europese Unie W imieniu Unii Europejskiej Pela União Europeia Pentru Uniunea Europeană Za Európsku úniu Za Evropsko unijo Euroopan unionin puolesta För Europeiska unionen За Конфедерация Швейцария Por la Confederación Suiza Za Švýcarskou konfederaci For Det Schweiziske Forbund Für die Schweizerische Eidgenossenschaft Šveitsi Konföderatsiooni nimel Για την Ελβετική Συνομοσπονδία For the Swiss Confederation Pour la Confédération suisse Za Švicarsku Konfederaciju Per la Confederazione Svizzera Šveices Konfederācijas vārdā – Šveicarijos Konfederacijos vardu A Svájci Államszövetség részéről Għall-Konfederazzjoni Svizzera Voor de Zwitserse Bondsstaat W imieniu Konfederacji Szwajcarskiej Pela Confederação Suíça Pentru Confederația Elvețiană Za Švajčiarsku konfederáciu Za Švicarsko konfederacijo Sveitsin valaliiton puolesta För Schweiziska edsförbundet ANNEX I ESSENTIAL CRITERIA A. Essential Criteria for Stationary Installations Essential Criteria In the EU ETS In the ETS of Switzerland Mandatory nature of the participation in the ETS Participation in the ETS shall be mandatory for the installations carrying out the activities and emitting the greenhouse gases (‘GHG’) listed below. Participation in the ETS shall be mandatory for the installations carrying out the activities and emitting the GHG listed below. The ETS shall cover at least the activities set out in: Annex I to Directive 2003/87/EC, as in force on the date of signature of this Agreement Article 40, paragraph 1, and Annex 6 of the CO2 Ordinance, as in force on the date of signature of this Agreement The ETS shall cover at least the GHGs set out in: Annex II to Directive 2003/87/EC, as in force on the date of signature of this Agreement Article 1, paragraph 1, of the CO2 Ordinance, as in force on the date of signature of this Agreement A cap shall be set for the ETS, which is at least as stringent as the one in: Directive 2003/87/EC as in force on the date of signature of this Agreement — Article 18, paragraph 1, of the CO2 Act — Article 45, paragraph 1, of the CO2 Ordinance as in force on the date of signature of this Agreement The level of ambition of the ETS shall be at least as stringent as the one in: Articles 9 and 9a of Directive 2003/87/EC, as in force on the date of signature of this Agreement — Article 3 and Article 18, paragraph 1, of the CO2 Act — Article 45, paragraph 1, and Annex 8, of the CO2 Ordinance as in force on the date of signature of this Agreement The qualitative limits for international credits shall be at least as stringent as those set out in: — Articles 11a and 11b of Directive 2003/87/EC — Commission Regulation (EU) No 550/2011 of 7 June 2011 on determining, pursuant to Directive 2003/87/EC of the European Parliament and of the Council, certain restrictions applicable to the use of international credits from projects involving industrial gases — Article 58 of Commission Regulation (EU) No 389/2013 of 2 May 2013 on establishing a Union Registry pursuant to Directive 2003/87/EC of the European Parliament and of the Council, Decisions No 280/2004/EC and No 406/2009/EC of the European Parliament and the Council and repealing Commission Regulations (EU) No 920/2010 and No 1193/2011 as in force on the date of signature of this Agreement — Articles 5 and 6 of the CO2 Act — Article 4, Article 4a, paragraph 1, and Annex 2, of the CO2 Ordinance as in force on the date of signature of this Agreement The quantitative limits for international credits shall be at least as stringent as those set out in: — Article 11a of Directive 2003/87/EC — Commission Regulation (EU) No 389/2013 of 2 May 2013 establishing a Union Registry pursuant to Directive 2003/87/EC of the European Parliament and of the Council, Decisions No 280/2004/EC and No 406/2009/EC of the European Parliament and of the Council and repealing Commission Regulations (EU) No 920/2010 and No 1193/2011 — Commission Regulation (EU) No 1123/2013 of 8 November 2013 on determining international credit entitlements pursuant to Directive 2003/87/EC of the European Parliament and of the Council as in force on the date of signature of this Agreement — Article 3, paragraph 2, and Article 16, paragraph 2, of the CO2 Act — Article 48 of the CO2 Ordinance as in force on the date of signature of this Agreement Free allocation shall be calculated on the basis of benchmarks and adjustment factors. A maximum of five percent of the quantity of allowances over the period from 2013 to 2020 shall be set aside for new entrants. Allowances which are not allocated free of charge shall be auctioned. To this end, the ETS shall meet at least: — Articles 10, 10a, 10b and 10c of Directive 2003/87/EC — Commission Decision 2011/278/EU of 27 April 2011 determining transitional Union-wide rules for harmonised free allocation of emission allowances pursuant to Article 10a of Directive 2003/87/EC of the European Parliament and of the Council — Calculations for the determination of the cross-sectoral correction factor in the EU ETS in 2013 to 2020 — Carbon leakage list of 2014 as in force on the date of signature of this Agreement — Article 18, paragraph 2, and Article 19, paragraphs 2 and 3, of the CO2 Act — Article 45, paragraph 2, Articles 46 and 47 and Annex 9, of the CO2 Ordinance as in force on the date of signature of this Agreement The ETS shall provide for penalties in the same circumstances and of the same magnitude as set out in: Article 16 of Directive 2003/87/EC, as in force on the date of signature of this Agreement — Article 21 of the CO2 Act — Article 56 of the CO2 Ordinance as in force on the date of signature of this Agreement Monitoring and reporting in the ETS shall at least be as stringent as in: — Article 14 and Annex IV of Directive 2003/87/EC — Commission Regulation (EU) No 601/2012 of 21 June 2012 on the monitoring and reporting of greenhouse gas emissions pursuant to Directive 2003/87/EC of the European Parliament and of the Council as in force on the date of signature of this Agreement — Article 20 of the CO2 Act — Articles 49, 50 to 53 and 55 of the CO2 Ordinance as in force on the date of signature of this Agreement Verification and accreditation in the ETS shall at least be as stringent as in: — Article 15 and Annex V of Directive 2003/87/EC — Commission Regulation (EU) No 600/2012 of 21 June 2012 on the verification of greenhouse gas emission reports and tonne-kilometre reports and the accreditation of verifiers pursuant to Directive 2003/87/EC of the European Parliament and of the Council as in force on the date of signature of this Agreement — Articles 51 to 54 of the CO2 Ordinance as in force on the date of signature of this Agreement B. Essential criteria for Aviation Essential criteria For the EU For Switzerland Mandatory nature of the participation in the ETS Participation in the ETS shall be mandatory for aviation activities in accordance with the criteria listed below. Participation in the ETS shall be mandatory for aviation activities in accordance with the criteria listed below. Coverage of aviation activities and GHG and attribution of flights and their respective emissions according to the departing flight principle as set out in: — Directive 2003/87/EC — Articles 17, 29, 35 and 56, and Annex VII of Commission Regulation (EU) No 389/2013 of 2 May 2013 establishing a Union Registry pursuant to Directive 2003/87/EC of the European Parliament and of the Council, Decisions No 280/2004/EC and No 406/2009/EC of the European Parliament and of the Council and repealing Commission Regulations (EU) No 920/2010 and No 1193/2011 — Flights from aerodromes situated in the territory of Switzerland to aerodromes situated in the European Economic Area (‘EEA’) shall be excluded from the EU ETS as from 2017, pursuant to Article 25a of Directive 2003/87/EC The CO2 Act and the CO2 Ordinance as in force on the date of entry into force of this Agreement: 1. Scope of coverage Flights which arrive at or depart from an aerodrome situated in the territory of Switzerland, except flights which depart from an aerodrome situated in the EEA. Any temporary derogations as regards the scope of the ETS, such as derogations in the sense of Article 28a of Directive 2003/87/EC, may apply in the ETS of Switzerland in accordance with those introduced in the EU ETS. Only CO2 emissions shall be covered for aviation activities. 2. Limitations of coverage General coverage mentioned in point 1 shall not include: 1. Flights performed exclusively for the transport on official mission of a reigning Monarch and his/her immediate family, Heads of State, Heads of Government and Government Ministers, where this is substantiated by an appropriate status indicator in the flight plan. 2. Military, customs and police flights. 3. Flights related to search and rescue, fire-fighting flights, humanitarian flights and emergency medical service flights. 4. Flights performed exclusively under visual flight rules as defined in Annex 2 to the Convention of 7 December 1944 on International Civil Aviation. 5. Flights terminating at the aerodrome from which the aircraft has taken off and during which no planned intermediate landing has been made. 6. Training flights performed exclusively in order to acquire or maintain a licence, or a rating in the case of cockpit flight crew where this is substantiated by an appropriate remark in the flight plan provided that the flight does not serve for the transport of passengers and/or cargo or for the positioning or ferrying of the aircraft. 7. Flights performed exclusively for the purpose of scientific research. 8. Flights performed exclusively for the purpose of checking, testing or certifying aircraft or airborne or ground-based equipment. 9. Flights performed by aircraft with a certified maximum take-off mass of less than 5 700 kilograms. 10. Flights of commercial aircraft operators with total annual emissions lower than 10 000 tonnes per year on flights covered by the ETS of Switzerland or fewer than 243 flights per period for three consecutive four-month periods within the scope of the ETS of Switzerland, if the operators are not covered by the EU ETS. 11. Flights of non-commercial aircraft operators covered by the ETS of Switzerland with a total of annual emissions lower than 1 000 tonnes per year in accordance with the respective derogation applied in the EU ETS, if the operators are not covered by the EU ETS. Exchange of relevant data regarding the application of the limitations of coverage of aviation activities The two parties shall cooperate regarding the application of the limitations of coverage in the ETS of Switzerland and the EU ETS for commercial and non-commercial operators according to this Annex. In particular, both parties shall ensure the timely transfer of all relevant data to enable correct identification of the flights and aircraft operators that are covered by the ETS of Switzerland and the EU ETS. Cap (total quantity of allowances to be allocated to aircraft operators) Article 3c of Directive 2003/87/EC. The cap shall reflect a similar level of stringency as the one in the EU ETS, in particular with regard to the reduction percentage rate between years and trading periods. The allowances in the cap shall be allocated as follows: — 15 % shall be auctioned, — 3 % shall be set aside in a special reserve, — 82 % shall be allocated free of charge. This distribution may be reviewed in accordance with Articles 6 and 7 of this Agreement. Up to 2020, the quantity of allowances within the cap shall be calculated bottom-up on the basis of the allowances to be allocated free of charge in accordance with the cap distribution as mentioned above. Any temporary derogations as regards the scope of the ETS shall require the corresponding proportional adjustments to the amounts to be allocated. As of 2021, the quantity of allowances within the cap shall be determined by the cap in 2020, taking into account a possible reduction percentage rate in accordance with the EU ETS. Allocation of allowances for aviation through auctioning of allowances Article 3d of Directive 2003/87/EC. Swiss emission allowances to be auctioned shall be auctioned by the Swiss competent authority. Switzerland is entitled to the revenues generated from the auctioning of Swiss allowances. Special reserve for certain aircraft operators Article 3f of Directive 2003/87/EC. Allowances shall be set aside in a special reserve for new entrants and fast growers, except that up to 2020, given that the reference year for the acquisition of data for Swiss aviation activities shall be 2018, Switzerland will not have a special reserve. Benchmark for free allocation of allowances to aircraft operators Article 3e of Directive 2003/87/EC. The benchmark shall be no higher than the one in the EU ETS. Up to 2020, the annual benchmark shall be 0,000642186914222035 allowances per tonne-kilometre. Free allocation of emission allowances for aircraft operators Article 3e of Directive 2003/87/EC. Adjustments shall be made pursuant to Article 25a of Directive 2003/87/EC, to the issuance of allowances in proportion to the corresponding reporting and surrendering obligations resulting from the actual coverage under the EU ETS of flights between the EEA and Switzerland. The number of emission allowances allocated free of charge to aircraft operators is calculated by multiplying its reported tonne-kilometre data performed in the reference year with the applicable benchmark. The qualitative limits for international credits shall be at least as stringent as those set out in: Articles 11a and 11b of Directive 2003/87/EC, and Commission Regulation (EU) No 389/2013 of 2 May 2013 establishing a Union Registry pursuant to Directive 2003/87/EC of the European Parliament and of the Council, Decisions No 280/2004/EC and No 406/2009/EC of the European Parliament and of the Council and repealing Commission Regulations (EU) No 920/2010 and No 1193/2011. — Articles 5 and 6 of the CO2 Act — Article 4, Article 4a, paragraph 1, and Annex 2 of the CO2 Ordinance as in force on the date of entry into force of this Agreement. Quantitative limits for the use of international credits Article 11a of Directive 2003/87/EC. The use shall be 1,5 % of verified emissions up to 2020. Acquisition of tonne-kilometre data for reference year Article 3e of Directive 2003/87/EC. Without prejudice to the provision below, the acquisition of tonne-kilometre data shall be done at the same time and using the same approach as the acquisition of tonne-kilometre data for the EU ETS. Up to 2020 and in accordance with the Ordinance on the Acquisition of Data on Tonne-Kilometres performed by Aircraft Operators as in force on the date of entry into force of this Agreement, the reference year for the acquisition of data for Swiss aviation activities shall be 2018. Monitoring and reporting — Article 14 and Annex IV of Directive 2003/87/EC — Commission Regulation (EU) 601/2012 of 21 June 2012 on the monitoring and reporting of greenhouse gas emissions pursuant to Directive 2003/87/EC of the European Parliament and of the Council as in force on the date of signature of this Agreement Monitoring and reporting provisions shall reflect the same level of stringency as in the EU ETS. Verification and accreditation — Article 15 and Annex V of Directive 2003/87/EC — Commission Regulation (EU) No 600/2012 of 21 June 2012 on the verification of greenhouse gas emission reports and tonne-kilometre reports and the accreditation of verifiers pursuant to Directive 2003/87/EC of the European Parliament and of the Council as in force on the date of signature of this Agreement Verification and accreditation provisions shall reflect the same level of stringency as in the EU ETS. Administration The criteria laid down in Article 18a of Directive 2003/87/EC shall apply. To this effect and pursuant to Article 25a of Directive 2003/87/EC, Switzerland shall be considered as an Administering Member State as regards the attribution of the administration of aircraft operators to Switzerland and EU (EEA) Member States. Pursuant to Article 25a of Directive 2003/87/EC, the competent authorities of the EU (EEA) Member States shall be responsible for all the tasks related to the administration of aircraft operators attributed to them, including the tasks relating to the ETS of Switzerland (e.g. the reception of verified emission reports covering both EU and Swiss aviation activities, the allocation and issuance and transfer of allowances, compliance and enforcement, etc.). The European Commission shall agree bilaterally with the Swiss competent authorities on handing over the relevant documentation and information. In particular, the European Commission shall ensure the transfer to the Swiss competent authorities pursuant to Article 25a of Directive 2003/87/EC, of the amount of EU allowances needed for the free allocation of aircraft operators administered by Switzerland. In case of a bilateral agreement regarding the administration of flights operating in relation to the EuroAirport Basel-Mulhouse-Freiburg not involving any amendment to Directive 2003/87/EU, the European Commission shall, as appropriate, facilitate the implementation of this agreement, provided that this does not result in double counting. In accordance with the CO2 Ordinance as in force on the date of entry into force of this Agreement, Switzerland shall be responsible for the administration of aircraft operators: — with a valid operating licence granted by Switzerland, or — with the greatest estimated attributed aviation emissions in Switzerland under the linked ETS. Swiss competent authorities shall be responsible for all the tasks related to the administration of aircraft operators attributed to Switzerland, including the tasks relating to the EU ETS (e.g. the reception of verified emission reports covering both EU and Swiss aviation activities, the allocation and issuance and transfer of allowances, compliance and enforcement, etc.). The Swiss competent authorities shall agree bilaterally with the European Commission on handing over the relevant documentation and information. In particular, the Swiss competent authorities shall transfer to EU competent authorities the amount of Swiss allowances needed for the free allocation of aircraft operators administered by the EU (EEA) Member States. Legal enforcement Parties shall enforce the provisions of their respective ETS in relation to aircraft operators that do not fulfil the obligations in the respective ETS, regardless of whether the operator is administered by an EU (EEA) competent authority or a Swiss competent authority, in case enforcement by the authority administering the operator requires additional action. Administrative attribution of aircraft operators Pursuant to Article 25a of Directive 2003/87/EC, the aircraft operator's list published by the European Commission in accordance with Article 18a(3) of Directive 2003/87/EC shall specify the administering State, including Switzerland, for each aircraft operator. Aircraft operators attributed to Switzerland for the first time after the entry into force of this Agreement shall be administered by Switzerland after 30 April of the year of attribution and before 1 August of the year of attribution. The two parties shall cooperate on sharing relevant documentation and information. The attribution of an aircraft operator shall not affect the coverage of that aircraft operator by the respective ETS (i.e., an operator covered by the EU ETS that is administered by the Swiss competent authority shall have the same level of obligations under the EU ETS alongside its coverage under the ETS of Switzerland, and vice versa). Modalities for implementation Any further modalities needed for the organization of the work and cooperation within the one-stop-shop for aviation account holders shall be developed and adopted by the Joint Committee after signature of this Agreement, in accordance with Articles 12, 13 and 22 of this Agreement. These modalities shall start applying at the same time as this Agreement. Assistance from Eurocontrol For the aviation part of this Agreement, the European Commission shall include Switzerland within the mandate given to Eurocontrol in relation to the EU ETS. C. Essential Criteria for Registries The ETS of each Party shall include a registry and a transaction log, which shall meet the following essential criteria in relation to security mechanisms and procedures and in relation to the opening and management of accounts. Essential Criteria in relation to Security Mechanisms and Procedures: The registries and the transaction logs shall protect the confidentiality, the integrity, the availability and the authenticity of the data stored in the system. To this end, the following security mechanisms shall be implemented by the Parties: Essential Criteria To access accounts, a two-factor authentication mechanism for all users accessing the account is required. A transaction signature mechanism is required for both initiation and approval of transactions. The confirmation code shall be sent out-of-band to the users. Any of the following operations shall be initiated by one person and approved by another person (4-eye-principle): — all operations undertaken by an administrator, unless justified exceptions as defined in the LTS apply; — all transfers of units unless justified by an alternative measure providing the same level of security. A system of notifications that alert the users when operations are performed involving their accounts and holdings shall be in place. A 26h delay applies between the initiation of a transfer and its execution to all the users to receive information and stop any suspected illegitimate transfer. The Swiss administrator and the Union central administrator shall take steps to inform users on their responsibilities with regard to the security of their systems (PC, network, …) and with regard to handling data / navigating on the internet. Essential Criteria in relation to the Opening and Management of Accounts: Essential Criteria Opening of an Operator Account/Operator Holding Account: The application by the operator or competent authority to request the opening of an operator account/operator holding account shall be addressed to the national administrator (Federal Office of the Environment, FOEN, for Switzerland). The application shall contain sufficient information to identify the ETS installation and an appropriate installation ID. Opening of an Aircraft Operator Account/Aircraft Operator Holding Account: Each aircraft operator covered by the ETS of Switzerland and/or the EU ETS shall have one aircraft operator account/aircraft operator holding account. For aircraft operators administered by the Swiss competent authority such an account shall be held in the Swiss registry. The application by the aircraft operator or an authorized representative of the aircraft operator shall be addressed to the national administrator (FOEN for Switzerland) within 30 working days from the approval of the monitoring plan of the aircraft operator or its transferral from an EU (EEA) Member State to the Swiss authorities. The application shall contain the unique aircraft code(s) of the aircraft operated by the applicant which fall under the ETS of Switzerland and/or the EU ETS. Opening of a Personal Account/Person Holding Account: The application to request the opening of a personal account/person holding account shall be addressed to the national administrator (FOEN for Switzerland). It shall include sufficient information to identify the account holder/applicant, and it shall include at least: — for a natural person: proof of ID and contact details — for a legal person: — copy of the commercial register OR — the instruments establishing the legal entity and a document proving the registration of the legal entity — Criminal records of the natural person or for a legal person of its directors Authorised/Account representatives: Each account shall have at least one authorised/account representative who is nominated by the prospective account holder. The authorised/account representatives shall initiate transactions and other processes on behalf of the account holder. When nominating the authorised/account representative, the following information about the authorised/account representative shall be transmitted: — Name and contact details — Document supporting ID — Criminal record Checking of documents: Any copy of a document submitted as evidence for the opening of a personal account/person holding account or the nomination of an authorised/account representative must be certified as a true copy. Regarding documents issued outside the State requesting a copy, the copy must be legalised. The date of the certification and, where relevant, of the legalisation must not be more than three months prior to the date of application. Refusal to open or update an account or to nominate an authorised/account representative: A national administrator (FOEN for Switzerland) may refuse to open or to update an account or to nominate an authorised/account representative, provided that the refusal is reasonable and justifiable. The refusal shall be justified on at least one of the following grounds: — the information and documents provided are incomplete, out-of-date or otherwise inaccurate, or false; — the prospective representative is under investigation or has been convicted in the preceding five years for fraud involving allowances or Kyoto units, money laundering, terrorist financing or other serious crimes for which the account may be an instrument; — grounds set out in national or Union law. Regular review of account information: The account holders shall immediately report any change to the account or user data to the national administrator (FOEN for Switzerland), supported by information as required by the national administrator who is responsible for the approval of the update of the information in a timely manner. At least once every three years, the national administrator shall review whether the information related to an account remains complete, up-to-date, accurate and true, and shall request that the account holder notify any changes as appropriate. Suspension of Access to Account: Where any provision under Article 3 of this Agreement relating to registries is contravened or an investigation concerning a possible contravention of those provisions is pending, access to accounts may be suspended. Confidentiality and disclosure of information: Information, including the holdings of all accounts, all transactions made, the unique unit identification code of the allowances and the unique numeric value of the unit serial number of the Kyoto units held or affected by a transaction, held in the EUTL or the SSTL, the Union Registry, the Swiss registry and any other Kyoto Protocol registry shall be considered confidential. Such confidential information may be provided to relevant public entities upon their request if such requests pursue a legitimate objective and are justified, necessary and proportionate for the purposes of investigation, detection, prosecution, tax administration, enforcement, auditing and financial supervision to prevent and combat fraud, money laundering, terrorism financing, other serious crime, market manipulation or other breaches of Union or national law of an EEA Member State or Switzerland and to ensure the good functioning of the EU ETS and the ETS of Switzerland. D. Essential Criteria for Auctioning Platforms and Auction Activities Entities conducting auctions of allowances in the ETS of the Parties shall meet the following essential criteria and conduct the auctions accordingly. Essential Criteria 1 The entity conducting the auction shall be selected through a process which ensures transparency, proportionality, equal treatment, non-discrimination and competition between different potential auction platforms on the basis of Union or national procurement law. 2 The entity conducting the auction shall be authorised for this activity and shall provide the necessary safeguards in the conduct of their operations; those safeguards include, among others, arrangements to identify and manage the potential adverse consequences of any conflict of interest, to identify and manage risks to which the market is exposed, to have transparent and non-discretionary rules and procedures for fair and orderly auctioning and sufficient financial resources to facilitate the orderly functioning. 3 Access to the auctions shall be subject to minimum requirements as regards adequate customer diligence checks to ensure that participants do not undermine the operation of the auctions. 4 The auction process shall be predictable, in particular as regards the timing and sequencing of sales and the estimated volumes to be made available. The main elements of the auctioning method, including the schedule, dates and estimated volumes of sales shall be published on the website of the entity conducting the auction at least one month before the start of the auction. Any significant adjustment shall be announced as early as practicable in advance as well. 5 The auctioning of allowances shall be performed with the objective of minimising any impact on the ETS of each Party. The entity in charge of auctioning shall ensure that the auctioning prices do not deviate significantly from the relevant price for allowances in the secondary market over the auctioning period, a situation which would indicate a deficiency of the auctions. 6 All non-confidential information pertinent to the auctions, including all legislation, guidance and forms, shall be published in an open and transparent manner. The results of each auction conducted shall be published as soon as is reasonably practicable and include the relevant non-confidential information. Reports on the results of the auctions shall be published at least annually. 7 The auctioning of allowances shall be subject to adequate rules and procedures to mitigate the risk of anti-competitive behaviour, market abuse, money-laundering and terrorist financing in auctions. Such rules and procedures shall be, to the extent possible, not less stringent than those applicable to financial markets in the respective legal regimes of the Parties. In particular, the entity conducting the auction shall be responsible for putting in place measures, procedures and processes ensuring the integrity of the auctions. It shall also monitor the behaviour of market participants and notify the competent public authorities in the event of anti-competitive behaviour, market abuse, money laundering or terrorist financing. 8 The entity conducting the auctions and the auctioning of allowances shall be subject to adequate supervision by competent authorities. Designated competent authorities shall have necessary legal competences and technical arrangements to supervise: — the organisation and conduct of operators of auction platforms; — the organisation and conduct of professional intermediaries acting on behalf of clients; — the behaviour and transactions of market participants, in order to prevent insider dealing and market manipulation; — the transactions of market participants, in order to prevent money laundering and terrorist financing. To the extent possible, the supervision shall not be less stringent than the supervision on financial markets in the respective legal regimes of the Parties. Switzerland shall endeavour to make use of a private entity for the auctioning of its allowances, in accordance with public procurement rules. Until such an entity is contracted, and provided that the number of allowances to be auctioned in a year is below a fixed threshold, Switzerland may continue to use the current arrangements for auctioning, namely the auctions operated by the FOEN, under the following conditions: 1. The threshold shall be 1 000 000 allowances, including allowances to be auctioned for aviation activities. 2. The essential criteria under points 1 to 8 shall apply, with the exception of criteria 1 and 2, while the criteria 7 and 8 only apply to the FOEN to the extent possible. Essential criteria under point 3 shall apply, together with the following provision: admission to bid in auctions of Swiss allowances under the arrangements for auctioning which were in place at the time this Agreement was signed, shall be guaranteed for all entities in the EEA which are admitted to bid in auctions in the Union. Switzerland may mandate entities conducting the auction which are located in the EEA. ANNEX II LINKING TECHNICAL STANDARDS The Linking Technical Standards (LTS) shall specify: — the architecture of the communication link; — the security of data transfer; — the list of functions (transactions, reconciliation …); — the definition of the web services; — the data logging requirements; — the operational arrangements (Call desk, support); — the communication activation plan and the testing procedure; — the security testing procedure. The LTS shall specify that the administrators shall take all reasonable steps to ensure that the SSTL, the EUTL and the link are operational 24 hours a day and 7 days a week, and that any interruptions to the operation of the SSTL, the EUTL and the link are kept to the minimum. The LTS shall specify that the communications between the SSTL and the EUTL consist of secure exchanges of Simple Object Access Protocol (SOAP) messages based on the following technologies (1): — web services using SOAP; — hardware-based Virtual Private Network (VPN); — XML (Extensible Markup Language); — digital signature; and — network time protocols. The LTS shall set out additional security requirements for the Swiss registry, the SSTL, the Union registry and the EUTL and shall be documented in a ‘security management plan’. In particular, the LTS shall specify that: — if there is a suspicion that the security of the Swiss registry, the SSTL, the Union registry or the EUTL has been compromised, both Parties shall immediately inform each other and suspend the link between the SSTL and the EUTL; — in the event of a security breach, the Parties shall commit to immediately share the information with each other. To the extent that the technical details are available, a report describing the incident (date, cause, impact, remedies) shall be shared between the Swiss registry administrator and the Union central administrator within 24 hours after the security breach. The security testing procedure set out in the LTS shall be completed before the communication link between the SSTL and the EUTL is established, and whenever a new version or release of the SSTL or the EUTL is required. The LTS shall provide two testing environments in addition to the Production environment: a developer testing environment and an acceptance environment. The Parties shall provide evidence through the Swiss registry administrator and the Union central administrator that an independent security assessment of their systems has been performed in the last twelve months in accordance with the security requirements set out in the LTS. Security testing and in particular penetration testing shall be performed on all new major releases of the software in accordance with the security requirements set out in the LTS. The penetration testing shall not be performed by the software developer or by a subcontractor of the software developer. (1) Those technologies are currently used for establishing a connection between the Union Registry and the International Transaction Log as well as between the Swiss Registry and the International Transaction Log. ANNEX III SENSITIVITY LEVELS AND HANDLING INSTRUCTIONS The Parties shall make use of the following sensitivity levels to identify sensitive information that is handled and exchanged within this Agreement: — ETS Limited — ETS Sensitive — ETS Critical Information that is marked as ‘ETS Critical’ is more sensitive than information that is marked as ‘ETS Sensitive’, which in turn is more sensitive than information that is marked as ‘ETS Limited’. The Parties agree to develop handling instructions on the basis of the existing ETS information classification policy of the Union and on the basis of the Information Protection Ordinance (IPO) and the Federal Act on Data Protection (FADP) of Switzerland. The handling instructions shall be submitted to the Joint Committee for approval. Following approval, all information shall have to be handled according to its sensitivity level in compliance with the handling instructions. In case of different level assessments by the Parties, the higher level shall be applied. The legislation of each Party shall include equivalent essential security requirements for the following handling steps, taking into account the ETS sensitivity levels: — Generation of document — Resources — Sensitivity Level — Storage — Electronic document on network — Electronic document in a local environment — Physical document — Electronic transmission — Phone and mobile — Fax — E-mail — Data transmission — Physical Transmission — Oral — Personal handover — Postal system — Use — Processing with IT applications — Printing — Copying — Removal from permanent location — Information management — Regular evaluation of classification and recipients — Archiving — Deletion and destruction ANNEX IV DEFINITION OF ETS SENSITIVITY LEVELS A.1 – Confidentiality and Integrity rating ‘Confidentiality’ means the reserved nature of information or of all or part of an information system (such as algorithms, programmes and documentation) to which access is limited to authorised persons, bodies and procedures. ‘Integrity’ means the guarantee that the information system and the processed information can be altered only by deliberate and legitimate action and that the system will produce the expected result accurately and in full. For each piece of ETS information that is considered to be sensitive, the confidentiality aspect has to be considered from the potential impact at business level where this information is disclosed and the integrity aspect has to be considered from the potential impact at business level where this information is unwillingly modified, partially or totally destroyed. The level of confidentiality of information and the level of integrity of an information system shall be rated following an assessment based on the criteria contained in section A.2. Those ratings allow the global sensitivity level of the information to be evaluated by means of the mapping table provided in section A.3. A.2 – Confidentiality and Integrity rating A.2.1 – ‘Low rating’ A low rating shall be given to any information relating to the ETS the disclosure to unauthorised persons, and/or loss of integrity of which would cause moderate damage to the Parties or other institutions which, in turn, would be likely to: — moderately affect political or diplomatic relations; — cause local negative publicity to the image or reputation of the Parties or other institutions; — cause embarrassment to individuals; — affect staff morale/productivity; — cause limited financial loss or, moderately facilitate improper gain or advantage for individuals or companies; — moderately affect the effective development or operation of the Parties' policies; — moderately affect the proper management of the Parties and their operations. A.2.2 – ‘Medium rating’ A medium rating shall be given to any information relating to the ETS the disclosure to unauthorised persons, and/or loss of integrity of which would cause damage to the Parties or other institutions which, in turn, would be likely to: — cause embarrassment to political or diplomatic relations; — cause damage to the image or reputation of the Parties or other institutions; — cause distress to individuals; — cause consequential reduction in staff morale/productivity; — embarrass the Parties or other institutions in commercial or policy negotiations with others; — cause financial loss or facilitate improper gain or advantage for individuals or companies; — affect the investigation of crime; — breach legal or contractual obligations on confidentiality of information; — affect the development or operation of the Parties' policies; — affect the proper management of the Parties and their operations. A.2.3 – ‘High rating’ A high rating shall be given to any information relating to the ETS the disclosure to unauthorised persons, and/or loss of integrity of which would cause catastrophic and/or unacceptable damage to the Parties or other institutions which, in turn, would be likely to: — adversely affect diplomatic relations; — cause substantial distress to individuals; — make it more difficult to maintain the operational effectiveness or security of Parties or other contributors' forces; — cause financial loss or facilitate improper gain or advantage for individuals or companies; — breach proper undertakings to maintain the confidence of information provided by third parties; — breach statutory restrictions on disclosure of information; — prejudice the investigation or facilitate the commission of crime; — disadvantage the Parties in commercial or policy negotiations with others; — impede the effective development or operation of the Parties' policies; — undermine the proper management of the Parties and their operations. A.3 – ETS Sensitive information level assessment Based on the ratings for Confidentiality and for Integrity pursuant to section A.2, the global information sensitivity level is established using the following mapping table: Confidentiality rating Integrity rating Low Medium High Low ETS Limited ETS Sensitive (or ETS Limited (*1)) ETS Critical Medium ETS Sensitive (or ETS Limited (*1)) ETS Sensitive (or ETS Critical (*1)) ETS Critical High ETS Critical ETS Critical ETS Critical (*1) Possible variation to be assessed on a case-by-case basis.\",\n",
              "  '23.3.2011 EN Official Journal of the European Union L 77/25 COMMISSION REGULATION (EU) No 284/2011 of 22 March 2011 laying down specific conditions and detailed procedures for the import of polyamide and melamine plastic kitchenware originating in or consigned from the People’s Republic of China and Hong Kong Special Administrative Region, China THE EUROPEAN COMMISSION, Having regard to the Treaty on the Functioning of the European Union, Having regard to Regulation (EC) No 882/2004 of the European Parliament and of the Council of 29 April 2004 on official controls performed to ensure the verification of compliance with feed and food law, animal health and animal welfare rules (1), and in particular Article 48(1) thereof, Whereas: (1) Commission Directive 2002/72/EC (2) lays down specific provisions relating to plastic materials and articles intended to come into contact with foodstuffs, including compositional requirements, and restrictions and specifications for substances that may be used therein. (2) Several notifications and alerts have been received by the Rapid Alert System for Food and Feed pursuant to Article 50 of Regulation (EC) No 178/2002 of the European Parliament and of the Council (3) concerning food contact materials imported into the Union from the People’s Republic of China (hereinafter ‘China’) and Hong Kong Special Administrative Region of the People’s Republic of China (hereinafter ‘Hong Kong’), releasing into food or food simulant amounts of chemicals that are not in compliance with the Union legislation. (3) These notifications and alerts primarily concern polyamide and melamine plastic kitchenware that does not comply with the requirements concerning the release of primary aromatic amines and formaldehyde into food as laid down in Part A of Annex V and Section A of Annex II to Directive 2002/72/EC respectively. (4) Primary aromatic amines (hereinafter ‘PAA’) are a family of compounds, some of which are carcinogenic, while others of these compounds are suspected carcinogens. PAA may arise in materials intended for food contact as a result of the presence of impurities or breakdown products. (5) Polyamide kitchenware originating in or consigned from China and Hong Kong has been reported to release high level of PAA into food. (6) Directive 2002/72/EC authorises the use of formaldehyde in the manufacture of plastics, provided that these plastics do not release into food more than 15 mg/kg of formaldehyde (specific migration limit (SML) expressed as total formaldehyde and hexamethylenetetramine). (7) Melamine kitchenware originating in or consigned from China and Hong Kong has been reported to release into food levels of formaldehyde that are higher than those authorised. (8) In the past few years, in order to increase knowledge of the requirements set out in Union legislation concerning food contact materials imported into the Union, the Commission has taken several initiatives, including training sessions for Chinese control authorities and the industry concerned. (9) Despite those initiatives, the missions of the Food and Veterinary Office to China and Hong Kong in 2009 identified serious deficiencies in the official control system regarding plastic food contact materials intended for importation into the Union and large quantities of controlled polyamide and melamine plastic kitchenware originating in or consigned from China and Hong Kong still do not fulfil the requirements of Union legislation. (10) Regulation (EC) No 1935/2004 of the European Parliament and of the Council (4) lays down specific provisions relating to the materials and articles intended to come into contact directly or indirectly with food, including certain general and specific requirements that these materials and articles should fulfil. Pursuant to Article 24 thereof, Member States shall carry out official controls in order to enforce compliance with that Regulation in accordance with the relevant provisions of Union law relating to official food and feed controls. Those provisions are laid down in Regulation (EC) No 882/2004. (11) More specifically, Article 48(1) of Regulation (EC) No 882/2004 provides that in so far as Union legislation does not lay down the conditions and detailed procedures to be respected when importing goods from third countries, they may, if necessary, be laid down by the Commission. (12) Article 48(2) of Regulation (EC) No 882/2004 provides for the possibility to impose specific import conditions on particular products coming from certain third countries, taking into account the risks associated with these products. (13) In order to minimise the health risks that may arise from polyamide and melamine plastic kitchenware originating in or consigned from China or Hong Kong, each consignment of such products should be accompanied by appropriate documentation, including analytical results showing that it meets the requirements concerning the release of PAA and formaldehyde respectively, as laid down in Directive 2002/72/EC. (14) In order to ensure a more efficient organisation of the controls of polyamide and melamine plastic kitchenware originating in or consigned from China or Hong Kong, the importers or their representatives should give prior notification of the arrival and of the nature of the consignments. Likewise, Member States should have the possibility to designate specific first points of introduction through which consignments of these articles may enter the Union. This information should be publicly available. (15) In order to ensure a degree of uniformity at the Union level with regard to the controls of polyamide and melamine plastic kitchenware originating in or consigned from China or Hong Kong, the procedure for the official controls, as defined in Article 2 of Regulation (EC) No 882/2004, should be defined in this Regulation. These controls should include documentary, identity and physical checks. (16) In the event of non-compliance being identified during the physical checks, Member States should immediately inform the Commission through the Rapid Alert System for Food and Feed. (17) Member States should have the possibility, in specific cases, to authorise the onward transportation of consignments of polyamide and melamine plastic kitchenware originating in or consigned from China or Hong Kong from the first point of introduction, provided arrangements are made with the competent authority at the point of destination to ensure the traceability of the consignments pending the results of the physical checks, in order to allow the competent authority to deal with the process of importing such consignments effectively and efficiently. (18) The release into free circulation of polyamide and melamine plastic kitchenware originating in or consigned from China or Hong Kong should take place only once all the checks have been completed and the results are known. For that purpose the result of the controls should be made available to the customs authorities before the goods can be released for free circulation. (19) A procedure for recording the information obtained from these controls should be established. This information should be submitted regularly to the Commission. (20) The provisions of this Regulation should be periodically reviewed, taking into account the information received from the Member States. (21) The measures provided for in this Regulation are in accordance with the opinion of the Standing Committee on the Food Chain and Animal Health, HAS ADOPTED THIS REGULATION: Article 1 Subject matter This Regulation lays down specific conditions and detailed procedures for the import of polyamide and of melamine plastic kitchenware originating in or consigned from the People’s Republic of China (hereinafter ‘China’) and Hong Kong Special Administrative Region of the People’s Republic of China (hereinafter ‘Hong Kong’). Article 2 Definitions For the purpose of this Regulation the following definitions shall apply: (a) ‘plastic kitchenware’ means plastic materials as described in paragraphs 1 and 2 of Article 1 of Directive 2002/72/EC and falling within CN code ex 3924 10 00; (b) ‘consignment’ means a quantity of polyamide or melamine plastic kitchenware, covered by the same document(s), conveyed by the same means of transport and coming from the same third country; (c) ‘competent authorities’ means the competent authorities of the Member States designated in accordance with Article 4 of Regulation (EC) No 882/2004; (d) ‘first point of introduction’ means the point of entry of a consignment into the Union; (e) ‘documentary check’ means the checking of the documents referred to in Article 3 of this Regulation; (f) ‘identity check’ means a visual inspection to ensure that the documents accompanying the consignment tally with the contents of the consignment; (g) ‘physical check’ means the sampling for analysis and laboratory testing and any other check necessary to verify compliance with the requirements concerning the release of PAA and formaldehyde laid down in Directive 2002/72/EC. Article 3 Import conditions 1. Polyamide and melamine plastic kitchenware originating in or consigned from China and Hong Kong shall be imported into the Member States only if the importer submits to the competent authority for each consignment a declaration, duly completed, confirming that it meets the requirements concerning the release of primary aromatic amines and formaldehyde laid down in Part A of Annex V and in Section A of Annex II to Directive 2002/72/EC respectively. 2. A model of the declaration referred to in paragraph 1 is set out in the Annex to this Regulation. The declaration shall be drawn up in the official language, or in one of the official languages, of the Member State in which the consignment is imported. 3. The declaration referred to in paragraph 1 shall be accompanied by a laboratory report providing: (a) as regards polyamide kitchenware, analytical results demonstrating that they do not release into foods or food simulants primary aromatic amines in a detectable quantity. The detection limit applies to the sum of primary aromatic amines. For the purpose of the analysis the detection limit for primary aromatic amines is set at 0,01 mg/kg food or food simulants; (b) as regards melamine kitchenware, analytical results demonstrating that they do not release into foods or food simulants formaldehyde in a quantity exceeding 15 mg/kg food. 4. The competent authority shall indicate in the declaration set out in the Annex to this Regulation, whether the goods are acceptable or not for release into free circulation, depending on whether they fulfil the terms and conditions provided for in Directive 2002/72/EC as set out in paragraph 1. Article 4 Prior notification of consignments Importers or their representatives shall notify the competent authority at the first point of introduction at least two working days in advance of the estimated date and time of physical arrival of consignments originating in or consigned from China and Hong Kong. Article 5 Notification of the first point of introduction Where the Member States decide to designate specific first points of introduction for consignments originating in or consigned from China and Hong Kong, they shall publish on the Internet an up-to-date list of these points and communicate the Internet address to the Commission. The Commission shall display on its website; for information purposes, the links to the national lists of specific first points of introduction. Article 6 Controls at the first point of introduction 1. The competent authority at the first point of introduction shall carry out: (a) documentary checks on all consignments within two working days from the time of their arrival; (b) identity and physical checks, including laboratory analysis of 10 % of consignments, and in such a way that it is not possible for the importers or their representatives to predict whether any particular consignment will be subjected to such checks; the results of physical checks must be available as soon as technically possible. 2. If the laboratory analysis referred to in point (b) of paragraph 1 identifies non-compliance, the competent authorities shall immediately inform the Commission of the results through the Rapid Alert System for Food and Feed established by Article 50 of Regulation (EC) No 178/2002. Article 7 Onward transportation The competent authority at the first point of introduction may authorise the onward transportation of the consignments originating in or consigned from China and Hong Kong, pending the results of the checks referred to in point (b) of Article 6(1). If the competent authority grants the authorisation referred to in the first paragraph, it shall notify the competent authority at the point of destination and shall supply a copy of the declaration set out in the Annex, duly completed as provided in Article 3 and the results of the checks referred to in point (b) of Article 6(1), as soon as the latter are available. The Member States shall ensure that appropriate arrangements are put in place to ensure that the consignments remain under the continuous control of the competent authorities and cannot be tampered with in any way pending the results of the checks mentioned in point (b) of Article 6(1). Article 8 Release for free circulation The release for free circulation of polyamide and melamine plastic kitchenware originating in or consigned from China and Hong Kong is subject to the presentation to the customs authorities of the declaration set out in the Annex duly completed as provided for in Article 3. Article 9 Reporting to the Commission 1. When checks referred to in Article 6(1) are performed, the competent authorities shall keep records of the following information: (a) details of each consignment checked, including: (i) the size in terms of number of articles; (ii) the country of origin; (b) the number of consignments subject to sampling and analysis; (c) the results of the controls referred to in Article 6. 2. Member States shall submit to the Commission a report including the information referred to in paragraph 1, quarterly by the end of the month following each quarter. Article 10 Entry into force This Regulation shall enter into force on the 20th day following its publication in the Official Journal of the European Union. This Regulation shall apply from 1 July 2011. This Regulation shall be binding in its entirety and directly applicable in all Member States in accordance with the Treaties. Done at Brussels, 22 March 2011. For the Commission The President José Manuel BARROSO (1) OJ L 165, 30.4.2004, p. 1. (2) OJ L 220, 15.8.2002, p. 18. (3) OJ L 31, 1.2.2002, p. 1. (4) OJ L 338, 13.11.2004, p. 4. ANNEX Declaration to be provided for every consignment of polyamide and melamine plastic kitchenware originating in or consigned from the People’s Republic of China and Hong Kong Special Administrative Region, China'],\n",
              " 'summary': ['Agreement between the EU and Switzerland on the greenhouse gas emissions trading system (ETS) Agreement between the EU and Switzerland on the greenhouse gas emissions trading system (ETS) SUMMARY OF: Agreement between the EU and Swiss Confederation on the linking of their greenhouse gas emissions trading systems Decision (EU) 2017/2240 on the signing and provisional application of the agreement between the EU and the Swiss Confederation on the linking of their greenhouse gas emissions trading systems Decision (EU) 2018/219 on the conclusion of the agreement between the EU and the Swiss Confederation on the linking of their greenhouse gas emissions trading systems WHAT IS THE AIM OF THE AGREEMENT? The agreement aims to link the EU’s emissions trading system (EU ETS) with Switzerland’s ETS (CHETS). The EU considers its emissions trading system (ETS) to be a policy tool which cost-effectively reduces greenhouse gas emissions. Linking emissions trading systems to enable the trade of emission allowances between systems will help build a robust international carbon emission market and further reinforce the emission-reduction efforts of the parties who have linked their systems, thus contributing also towards the objectives of the Paris agreement on climate change. The linking of the two systems will only become fully operational once the Switzerland has brought into force all the requisite rules in its national legislation, notably on extending its ETS to aviation. However, under the terms of this agreement, the Joint Committee (JC) it set up started functioning from the signing of the agreement (November 2017) in order to ensure coordination between the parties, including on developments regarding the entry into force of the relevant Swiss rules. KEY POINTS Cap and trade: how the EU ETS works The EU ETS, set up by Directive 2003/87/EC, works on the ‘cap and trade’ principle. A cap is set on the total amount of certain greenhouse gases that can be emitted by power plants and industrial installations covered by the system. The cap is reduced over time so that total emissions fall. Besides stationary installations, the EU ETS applies to all flights between airports in the EU and the European Economic Area. Within the cap, companies receive or buy emission allowances* which they can then trade with one another as needed. Before 2021 they could also use limited amounts of international credits from emission-saving projects around the world for compliance with the system. The limit on the total number of allowances available ensures that they retain their value. Each year a company must hand over enough allowances to cover all its emissions, otherwise heavy fines are imposed. If a company reduces its emissions, it can keep the spare allowances to cover its future needs or else sell them to another company that is short of allowances. Trading brings flexibility that ensures emissions are cut where it is most cost-effective. It also promotes investment in clean, low-carbon technologies. EU-Swiss agreement The agreement sets out the key objectives and principles, as well as the institutional structure, for linking the EU and Swiss emissions trading systems. Once the link between the EU ETS and the CH ETS becomes operational, emission allowances that originate from one system are eligible for compliance with the other system. Essential criteria To ensure the 2 systems are compatible, certain essential criteria, laid down in an annex to the agreement, must be met. These criteria largely reflect the provisions of the EU ETS legislation or its implementing acts. Either system can adopt rules that are more stringent than the essential criteria. The agreement allows for the possibility of future legislative developments in the linked systems without the need for substantial renegotiation as long as the systems continue to meet the essential criteria. Information sharing and coordination The agreement establishes a process for information sharing and coordination in areas of relevance. This is to ensure its proper implementation and the ongoing integrity of the linked systems. This process permits the parties to keep each other informed of relevant legislative developments. Aviation The agreement clarifies that Switzerland will mirror the EU ETS provisions on aviation in the CH ETS for the linking of the two emissions trading systems to enter into force. Aviation operators will be administered by an EEA state or Switzerland under the ‘one-stop shop’ approach. This means that a single authority takes responsibility for the implementation of the 2 systems so that operators will only have to deal with one authority under the linked system. The special situation of the bi-national Basel airport is addressed to avoid double-counting, should Switzerland reach a bilateral agreement on the coverage of activities from Basel airport. Joint Committee The agreement establishes a JC as its main steering structure. The JC: comprises representatives of both parties and is responsible for the administration and proper implementation of the agreement; plays a key role in the information sharing and coordination process, as well as in assessing whether the parties continue to meet the essential criteria; can propose changes to articles of the agreement and make amendments to the annexes; became functional from the date of signature of the agreement under the terms of the agreement on the provisional application of certain articles. Dispute-settlement mechanism Disputes on the interpretation or application of the agreement can be referred by either party to the JC for resolution. Where the JC is unsuccessful in settling the dispute within 6 months, it can be referred to the Permanent Court of Arbitration at the request of either party. Technical rules In addition to the principles, objectives and institutional arrangements, the agreement contains technical provisions governing the operation of registries, accounting, auctioning, sensitive information and security. DATE OF ENTRY INTO FORCE The agreement entered into force on 1 January 2020. BACKGROUND For more information see: EU and Switzerland sign agreement to link emissions trading systems (European Commission) Green light for the agreement linking the EU and Swiss emissions trading systems (Council of the EU) EU emissions trading system (EU ETS) (EUR-Lex). KEY TERMS Emission allowance: an allowance to emit 1 tonne of carbon dioxide equivalent during a specified period, issued by the EU ETS or the CH ETS. MAIN DOCUMENTS Agreement between the European Union and the Swiss Confederation on the linking of their greenhouse gas emissions trading systems (OJ L 322, 7.12.2017, pp. 3-26) Council Decision (EU) 2017/2240 of 10 November 2017 on the signing, on behalf of the Union, and provisional application of the Agreement between the European Union and the Swiss Confederation on the linking of their greenhouse gas emissions trading systems (OJ L 322, 7.12.2017, pp. 1-2) Council Decision (EU) 2018/219 of 23 January 2018 on the conclusion of the Agreement between the European Union and the Swiss Confederation on the linking of their greenhouse gas emissions trading systems (OJ L 43, 16.2.2018, pp. 1-2) RELATED DOCUMENTS Notice concerning the entry into force of the Agreement between the European Union and the Swiss Confederation on the linking of their greenhouse gas emissions trading systems (OJ L 330, 20.12.2019, p. 1) Council Decision (EU) 2018/1279 of 18 September 2018 on the position to be taken on behalf of the European Union within the Joint Committee established by the Agreement between the European Union and the Swiss Confederation on the linking of their greenhouse gas emissions trading systems regarding the adoption of its Rules of Procedure (OJ L 239, 24.9.2018, pp. 8-13) Directive 2003/87/EC of the European Parliament and of the Council of 13 October 2003 establishing a scheme for greenhouse gas emission allowance trading within the Community and amending Council Directive 96/61/EC (OJ L 275, 25.10.2003, pp. 32-46) Successive amendments to Directive 2003/87/EC have been incorporated in the original text. This consolidated version is of documentary value only. Council Decision (EU) 2015/1339 of 13 July 2015 on the conclusion, on behalf of the European Union, of the Doha Amendment to the Kyoto Protocol to the United Nations Framework Convention on Climate Change and the joint fulfilment of commitments thereunder (OJ L 207, 4.8.2015, pp. 1-5) Doha Amendment to the Kyoto Protocol (OJ L 207, 4.8.2015, pp. 6-14) United Nations Framework Convention on Climate Change (OJ L 33, 7.2.1994, pp. 13-28) Paris Agreement (OJ L 282, 19.10.2016, pp. 4-18) Council Decision (EU) 2016/1841 of 5 October 2016 on the conclusion, on behalf of the European Union, of the Paris Agreement adopted under the United Nations Framework Convention on Climate Change (OJ L 282, 19.10.2016, pp. 1-3) last update 17.01.2020',\n",
              "  'Import of plastic kitchenware from China Import of plastic kitchenware from China SUMMARY OF: Regulation (EU) 284/2011 — conditions and procedures for the import of plastic kitchenware from China and Hong Kong WHAT IS THE AIM OF THE REGULATION? It sets out specific conditions and procedures for the import into the EU of the macromolecule polyamide and melamine plastic kitchenware originating or in consignment from China or Hong Kong. KEY POINTS Import conditions The competent authority at the first point of introduction into the EU must carry out documentary checks on all consignments and identity and physical checks on 10% of consignments. Only then may the goods be released onto the market. To demonstrate compliance and to facilitate the checks, an importer must submit a declaration for each consignment to the competent national authority. This confirms that the consignment meets requirements concerning the release of the organic compounds primary aromatic amines and formaldehyde. The declaration must include a laboratory report showing that: polyamide kitchenware does not release primary aromatic amines into foods or food simulants in a detectable quantity (the detection limit must be 0.01 mg/kg);melamine kitchenware does not release formaldehyde into foods or food simulants in a quantity exceeding 15 mg/kg. The authority must complete the physical checks as soon as technically feasible; from then on transportation is allowed but only when certain conditions are met. The authority must indicate in the declaration whether the goods are acceptable or not for free circulation within the EU. If the laboratory analysis reveals that a consignment does not comply with the import conditions, the European Commission must be immediately informed through the Rapid Alert System for Food and Feed. Regulation (EU) No 10/2011 also applies to this kitchenware. Notification Importers must notify the authority at the first point of entry into the EU at least 2 working days in advance of the estimated date and time of the physical arrival of their consignments. If an EU country designates specific first points of entry, an up-to-date list must be published online and the internet address must be sent to the Commission. A link to national lists of first points of entry is displayed on the Commission website for information purposes. Reporting Competent authorities must record: the country of origin of the consignment,the number of articles in each consignment,the number of consignments checked,the results of the checks performed. A report with this information must be sent to the Commission on a quarterly basis. FROM WHEN DOES THE REGULATION APPLY? It has applied since 1 July 2011. BACKGROUND For more information, see: Food contact materials — Legislation (European Commission). MAIN DOCUMENT Commission Regulation (EU) No 284/2011 of 22 March 2011 laying down specific conditions and detailed procedures for the import of polyamide and melamine plastic kitchenware originating in or consigned from the People’s Republic of China and Hong Kong Special Administrative Region, China (OJ L 77, 23.3.2011, pp. 25-29) RELATED DOCUMENTS Regulation (EU) 2017/625 of the European Parliament and of the Council of 15 March 2017 on official controls and other official activities performed to ensure the application of food and feed law, rules on animal health and welfare, plant health and plant protection products, amending Regulations (EC) No 999/2001, (EC) No 396/2005, (EC) No 1069/2009, (EC) No 1107/2009, (EU) No 1151/2012, (EU) No 652/2014, (EU) 2016/429 and (EU) 2016/2031 of the European Parliament and of the Council, Council Regulations (EC) No 1/2005 and (EC) No 1099/2009 and Council Directives 98/58/EC, 1999/74/EC, 2007/43/EC, 2008/119/EC and 2008/120/EC, and repealing Regulations (EC) No 854/2004 and (EC) No 882/2004 of the European Parliament and of the Council, Council Directives 89/608/EEC, 89/662/EEC, 90/425/EEC, 91/496/EEC, 96/23/EC, 96/93/EC and 97/78/EC and Council Decision 92/438/EEC (official controls regulation) (OJ L 95, 7.4.2017, pp. 1-142) See consolidated version Commission Regulation (EU) No 10/2011 of 14 January 2011 on plastic materials and articles intended to come into contact with food (OJ L 12, 15.1.2011, pp. 1-89) Successive amendments to Regulation (EC) No 10/2011 have been incorporated into the original text. This consolidated version is of documentary value only. Regulation (EC) No 1935/2004 of the European Parliament and of the Council of 27 October 2004 on materials and articles intended to come into contact with food and repealing Directives 80/590/EEC and 89/109/EEC See consolidated version. Regulation (EC) No 882/2004 of the European Parliament and of the Council of 29 April 2004 on official controls performed to ensure the verification of compliance with feed and food law, animal health and animal welfare rules (OJ L 165, 30.4.2004, pp. 1–141). Text republished in corrigendum (OJ L 191, 28.5.2004, pp. 1–52) See consolidated version. EU guidelines for the import of polyamide and melamine kitchenware from China and Hong Kong Technical guidelines concerning polyamide and melamine kitchenware including sampling and analytical methods last update 11.11.2017'],\n",
              " 'input_ids': tensor([[21603,    10,  4306,  ...,  1413,     3,     1],\n",
              "         [21603,    10,   204,  ...,   188,    11,     1]]),\n",
              " 'attention_mask': tensor([[1, 1, 1,  ..., 1, 1, 1],\n",
              "         [1, 1, 1,  ..., 1, 1, 1]]),\n",
              " 'labels': tensor([[ 7139,   344,     8,  3371,    11, 12527,    30,     8, 17572,  1807,\n",
              "           9830,  3415,   358,    41,  7969,   134,    61,  7139,   344,     8,\n",
              "           3371,    11, 12527,    30,     8, 17572,  1807,  9830,  3415,   358,\n",
              "             41,  7969,   134,    61,     3,  4138,  8257, 24721,  3347,    10,\n",
              "           7139,   344,     8,  3371,    11, 11541,  1193, 16812,   257,    30,\n",
              "              8, 17988,    13,    70, 17572,  1807,  9830,  3415,  1002, 25006,\n",
              "             41, 12062,    61,  1233, 13311, 11944,    30,     8,  8097,    11,\n",
              "           6537,   138,   917,    13,     8,  2791,   344,     8,  3371,    11,\n",
              "              8, 11541,  1193, 16812,   257,    30,     8, 17988,    13,    70,\n",
              "          17572,  1807,  9830,  3415,  1002, 25006,    41, 12062,    61,   846,\n",
              "          13311,  2294,    30,     8,  7489,    13,     8,  2791,   344,     8,\n",
              "           3371,    11,     8, 11541,  1193, 16812,   257,    30,     8, 17988,\n",
              "             13,    70, 17572,  1807,  9830,  3415,  1002,     1],\n",
              "         [ 1318,  1493,    13,  2343,  1228,  3404,    45,  1473,  1318,  1493,\n",
              "             13,  2343,  1228,  3404,    45,  1473,     3,  4138,  8257, 24721,\n",
              "           3347,    10, 13683,    41, 12062,    61,   204,  4608,    87, 13907,\n",
              "              3,   318,  1124,    11,  4293,    21,     8,  4830,    13,  2343,\n",
              "           1228,  3404,    45,  1473,    11,  7764,  7807, 21665,  6827,  1853,\n",
              "             71,  5166,  3347,  1853,  4083,   517,  4254,  8015,    58,    94,\n",
              "           3369,    91,   806,  1124,    11,  4293,    21,     8,  4830,   139,\n",
              "              8,  3371,    13,     8, 11663, 23098,  4251, 24216,    11,     3,\n",
              "           2341,  8721,  2343,  1228,  3404,     3, 31433,    42,    16,   975,\n",
              "           6732,   297,    45,  1473,    42,  7764,  7807,     5,     3,  9914,\n",
              "            476,  9915, 13777,   134,  1318,  1493,  1124,    37, 11766,  5015,\n",
              "             44,     8,   166,   500,    13,  5302,   139,     8,  3371,   398,\n",
              "           2331,    91, 12481, 11642,    30,    66,   975,     1]]),\n",
              " 'decoder_input_ids': tensor([[ 7139,   344,     8,  3371,    11, 12527,    30,     8, 17572,  1807,\n",
              "           9830,  3415,   358,    41,  7969,   134,    61,  7139,   344,     8,\n",
              "           3371,    11, 12527,    30,     8, 17572,  1807,  9830,  3415,   358,\n",
              "             41,  7969,   134,    61,     3,  4138,  8257, 24721,  3347,    10,\n",
              "           7139,   344,     8,  3371,    11, 11541,  1193, 16812,   257,    30,\n",
              "              8, 17988,    13,    70, 17572,  1807,  9830,  3415,  1002, 25006,\n",
              "             41, 12062,    61,  1233, 13311, 11944,    30,     8,  8097,    11,\n",
              "           6537,   138,   917,    13,     8,  2791,   344,     8,  3371,    11,\n",
              "              8, 11541,  1193, 16812,   257,    30,     8, 17988,    13,    70,\n",
              "          17572,  1807,  9830,  3415,  1002, 25006,    41, 12062,    61,   846,\n",
              "          13311,  2294,    30,     8,  7489,    13,     8,  2791,   344,     8,\n",
              "           3371,    11,     8, 11541,  1193, 16812,   257,    30,     8, 17988,\n",
              "             13,    70, 17572,  1807,  9830,  3415,  1002,     1],\n",
              "         [ 1318,  1493,    13,  2343,  1228,  3404,    45,  1473,  1318,  1493,\n",
              "             13,  2343,  1228,  3404,    45,  1473,     3,  4138,  8257, 24721,\n",
              "           3347,    10, 13683,    41, 12062,    61,   204,  4608,    87, 13907,\n",
              "              3,   318,  1124,    11,  4293,    21,     8,  4830,    13,  2343,\n",
              "           1228,  3404,    45,  1473,    11,  7764,  7807, 21665,  6827,  1853,\n",
              "             71,  5166,  3347,  1853,  4083,   517,  4254,  8015,    58,    94,\n",
              "           3369,    91,   806,  1124,    11,  4293,    21,     8,  4830,   139,\n",
              "              8,  3371,    13,     8, 11663, 23098,  4251, 24216,    11,     3,\n",
              "           2341,  8721,  2343,  1228,  3404,     3, 31433,    42,    16,   975,\n",
              "           6732,   297,    45,  1473,    42,  7764,  7807,     5,     3,  9914,\n",
              "            476,  9915, 13777,   134,  1318,  1493,  1124,    37, 11766,  5015,\n",
              "             44,     8,   166,   500,    13,  5302,   139,     8,  3371,   398,\n",
              "           2331,    91, 12481, 11642,    30,    66,   975,     1]])}"
            ]
          },
          "metadata": {},
          "execution_count": 68
        }
      ]
    },
    {
      "cell_type": "code",
      "source": [
        "tokenized_eurLexSum['test'][0]['summary']"
      ],
      "metadata": {
        "colab": {
          "base_uri": "https://localhost:8080/",
          "height": 123
        },
        "id": "zpqDiAANKUdd",
        "outputId": "e70582ca-d54d-4389-81c4-9f5c3e437b48"
      },
      "id": "zpqDiAANKUdd",
      "execution_count": 69,
      "outputs": [
        {
          "output_type": "execute_result",
          "data": {
            "text/plain": [
              "\"European Partnership with Bosnia and Herzegovina European Partnership with Bosnia and Herzegovina The European Partnership – an instrument of the Stabilisation and Association Process – is intended to provide additional, tailored support to the Government of Bosnia and Herzegovina in order to realise the country’s European perspective. Its aim is to identify priority areas where further efforts and reforms are required, calling in particular for Bosnia and Herzegovina to bring its legislation into line with that of the Community. It also provides a reference framework for Community aid. ACT Council Decision 2008/211/EC of 18 February 2008 on the principles, priorities and conditions contained in the European Partnership with Bosnia and Herzegovina and repealing Decision 2006/55/EC. SUMMARY The European Partnership with Bosnia and Herzegovina is the main instrument for assisting the authorities of Bosnia and Herzegovina in realising their country’s European perspective, confirmed at the Zagreb summit in 2000 and reinforced at the Thessaloniki summit in 2003. The European Partnership with Bosnia and Herzegovina is an instrument of the Stabilisation and Association Process, which was introduced for the countries of the western Balkans concerned under the Thessaloniki agenda (2003). The European Partnerships are modelled on the accession partnerships with the candidate countries. The partnerships for the Western Balkan countries have Regulation (EC) No 533/2004 as their legal basis. OBJECTIVE The objective of the European Partnership is to register in a single framework: the priority areas for reform where efforts are required; these are identified according to the country’s requirements and relate to the adoption and implementation of legislation; guidelines for determining the various areas for the allocation of financial assistance in accordance with the priorities identified; the principles and conditions governing implementation of the partnership. The Council of the European Union adopts the European Partnership, and its subsequent amendments, by a qualified majority on the basis of a proposal from the Commission. The current Partnership updates and adapts the previous Partnership, adopted in 2006. European Partnerships are flexible instruments designed to reflect the progress made by the countries concerned. They highlight the efforts still required in other areas as identified by the Commission’s evaluations. With a view to achieving the objectives identified in the European Partnership, Bosnia and Herzegovina must adopt a national plan setting out procedures and a programme for implementing the priorities of the Partnership. Implementation of the Partnership is monitored within the framework of the Stabilisation and Association Process and its mechanisms, particularly through the Commission's annual progress report, which evaluates the progress made and the work that remains to be done. PRIORITIES The European Partnership establishes priorities which are both realistic and attainable goals. In this regard, a distinction is made between short-term and medium-term priorities, which are expected to be achieved within one to two years and within three to four years respectively. The main priorities identified for Bosnia and Herzegovina relate primarily to its capacity to meet: the Copenhagen criteria defined in 1993; the conditions set for the Stabilisation and Association Process (Council conclusions of 29 April 1997 and of 21 and 22 June 1999); the 2000 Zagreb declaration; and the Thessaloniki Agenda of 2003. The short- and medium-term priorities are classified as follows: the key priorities are short-term priorities. They entail the reform of the police forces; full cooperation with the International Criminal Tribunal for the former Yugoslavia (ICTY); reform of public broadcasting; implementation of the public-administration reform strategy adopted in 2006; reinforcement of administrative capacities in order to implement the Stabilisation and Association Agreement (SAA); settlement of bilateral issues; creation of an internal single economic space; correction of structural rigidities impeding the functioning of the labour market; and improvement of the functioning and viability of institutional structures; and respect of human rights and fundamental freedoms, including, if necessary, by reforming the constitutional framework; the political criteria, which include democracy and the rule of law (constitution; governance, electoral legislation, public administration and service, the judicial system and anti-corruption policy), human rights and the protection of minorities (repeal of the death penalty in the constitution of the Republika Srpska; compliance with international standards and conventions, including those of the Council of Europe; access to justice; reform of the prison system; social inclusion; and the rights and protection of minorities, including the Roma), regional issues and international obligations; the economic criteria, which include macroeconomic and financial stability, the acceleration and completion of privatisations, budgetary supervision mechanisms, the quality of public finances, the reconciliation of domestic claims, greater legal certainty for economic operators, better corporate governance and a better (legal, regulatory, tax, judicial, etc) environment for companies and business, and preparations for membership of the World Trade Organisation (WTO); European standards relating to the Community acquis as regards the internal market, EU sectoral policies and the area of justice, freedom and security. Bosnia and Herzegovina must endeavour to bring its legislation into line with the Community acquis in these areas and ensure its implementation. The Commission's assessments of developments in Bosnia and Herzegovina are based in particular on the priorities identified by the Partnership. FINANCIAL FRAMEWORK The Instrument for Pre-Accession Assistance (IPA) is the basis for financial assistance to Bosnia and Herzegovina in the period 2007-2013. In the period 2000-2006, this assistance totalled EUR 502.8 million (CARDS programme). Under the Multiannual Indicative Financial Framework for 2009‑2011, EUR 440.1 million in financial assistance for national programmes is expected to be provided under the IPA in the period 2007‑2011. The European Partnership with Bosnia and Herzegovina serves as a reference point in this process for determining the different areas where funds are allocated (according to priorities). The programming documents provide the actual legal framework for the financial assistance. Nonetheless, financial assistance is conditional upon recipient countries abiding by the essential elements which govern their relations with the EU, particularly the effective implementation of reforms. Under the European Partnership, Bosnia and Herzegovina is under an obligation to comply with the Copenhagen criteria and the priorities defined by the Partnership. Apart from other donors, Bosnia and Herzegovina is also eligible for funding from the European Investment Bank (EIB), principally under its mandate for granting regional loans to the EU’s south-eastern neighbours. This mandate covers the candidate countries for EU accession and the countries of the Western Balkans. The financing provided by the EIB takes the form of grants and loans. References Act Entry into force Deadline for transposition in the Member States Official Journal Decision 2008/211/EC 22.3.2008 - OJ L 80 of 19.3.2008 RELATED ACTS Communication of from the Commission to the Council and the European Parliament 5 March 2008 - Western Balkans: enhancing the European Perspective [COM(2008) 127 final – Not published in the Official Journal]. Communication from the Commission of 27 January 2006 – The Western Balkans on the road to the EU: consolidating stability and raising prosperity [COM(2006) 27 – Not published in the Official Journal]. BILATERAL RELATIONS Proposal for a Council and Commission Decision of 8 April 2008 concerning the conclusion of the Stabilisation and Association Agreement between the European Communities and their Member States, of the one part, and Bosnia and Herzegovina, of the other part [COM(2008) 182 final – Not published in the Official Journal]. Council Decision of 16 June 2008 concerning the signing and conclusion of the Interim Agreement on trade and trade-related matters between the European Community, of the one part, and Bosnia and Herzegovina, of the other part [OJ L 169, 30.6.2008]. Council Regulation (EC) No 594/2008 of 16 June 2008 on certain procedures for applying the Stabilisation and Association Agreement between the European Communities and their Member States, of the one part, and Bosnia and Herzegovina, of the other part, and for applying the Interim Agreement on trade and trade-related matters between the European Community, of the one part, and Bosnia and Herzegovina, of the other part [OJ L 169, 30.6.2008]. FINANCIAL ASSISTANCE Council Regulation (EC) No 1085/2006 of 17 July 2006 establishing an Instrument for Pre-Accession Assistance (IPA) [Official Journal L 210 of 31 July 2006]. Multiannual Indicative Financial Framework (MIFF) for: 2008‑2010 [COM(2006) 672 final – Not published in the Official Journal]; 2009‑2011 [COM(2007) 689 final – Not published in the Official Journal]. Multiannual Indicative Planning Document 2007‑2009 for Bosnia and Herzegovina. EVALUATION Reports for previous years are available on the website of the European Commission's Directorate-General for Enlargement. Last updated: 16.06.2010\""
            ],
            "application/vnd.google.colaboratory.intrinsic+json": {
              "type": "string"
            }
          },
          "metadata": {},
          "execution_count": 69
        }
      ]
    },
    {
      "cell_type": "code",
      "source": [
        "from transformers import DataCollatorForSeq2Seq\n",
        "\n",
        "data_collator = DataCollatorForSeq2Seq(tokenizer=tokenizer, model=\"t5-small\")"
      ],
      "metadata": {
        "id": "uMkC_yFuMfHv"
      },
      "id": "uMkC_yFuMfHv",
      "execution_count": 70,
      "outputs": []
    },
    {
      "cell_type": "code",
      "source": [
        "import evaluate\n",
        "\n",
        "rouge = evaluate.load(\"rouge\")"
      ],
      "metadata": {
        "id": "TrjXDA4zYmZs"
      },
      "id": "TrjXDA4zYmZs",
      "execution_count": 71,
      "outputs": []
    },
    {
      "cell_type": "code",
      "source": [
        "import numpy as np\n",
        "\n",
        "def postprocess_text(preds, labels):\n",
        "    preds = [pred.strip() for pred in preds]\n",
        "    labels = [[label.strip()] for label in labels]\n",
        "    return preds, labels\n",
        "\n",
        "def compute_metrics(eval_pred):\n",
        "\n",
        "    predictions, labels = eval_pred\n",
        "    if isinstance(predictions, tuple):\n",
        "        predictions = predictions[0]\n",
        "\n",
        "    decoded_preds = tokenizer.batch_decode(predictions, skip_special_tokens=True)\n",
        "    labels = np.where(labels != -100, labels, tokenizer.pad_token_id)\n",
        "\n",
        "    decoded_labels = tokenizer.batch_decode(labels, skip_special_tokens=True)\n",
        "\n",
        "    decoded_preds, decoded_labels = postprocess_text(decoded_preds, decoded_labels)\n",
        "\n",
        "    result = rouge.compute(predictions=decoded_preds, references=decoded_labels, use_stemmer=True)\n",
        "    prediction_lens = [np.count_nonzero(pred != tokenizer.pad_token_id) for pred in predictions]\n",
        "\n",
        "    result[\"gen_len\"] = np.mean(prediction_lens)\n",
        "\n",
        "    return {k: round(v, 4) for k, v in result.items()}"
      ],
      "metadata": {
        "id": "l6fWS-73YzWs"
      },
      "id": "l6fWS-73YzWs",
      "execution_count": 72,
      "outputs": []
    },
    {
      "cell_type": "code",
      "execution_count": 73,
      "metadata": {
        "id": "FEmERCu_-X9B",
        "scrolled": true
      },
      "outputs": [],
      "source": [
        "from transformers import AutoModelForSeq2SeqLM, Seq2SeqTrainingArguments, Seq2SeqTrainer\n",
        "\n",
        "model = AutoModelForSeq2SeqLM.from_pretrained(\"t5-small\")\n",
        "\n",
        "arguments = Seq2SeqTrainingArguments(\n",
        "    output_dir=\"fine_tuned_t5small\",\n",
        "    per_device_train_batch_size=16,\n",
        "    per_device_eval_batch_size=16,\n",
        "    num_train_epochs=3,\n",
        "    weight_decay=0.01,\n",
        "    evaluation_strategy=\"epoch\", # run validation at the end of each epoch\n",
        "    #save_strategy=\"epoch\",\n",
        "    save_total_limit=3,\n",
        "    learning_rate=2e-5,\n",
        "    predict_with_generate=True,\n",
        "    fp16=True\n",
        ")\n",
        "\n",
        "\n",
        "trainer = Seq2SeqTrainer(\n",
        "    model=model,\n",
        "    args=arguments,\n",
        "    train_dataset=tokenized_eurLexSum['train'],\n",
        "    eval_dataset=tokenized_eurLexSum['test'],\n",
        "    tokenizer=tokenizer,\n",
        "    data_collator=data_collator,\n",
        "    compute_metrics=compute_metrics\n",
        ")\n",
        "\n"
      ],
      "id": "FEmERCu_-X9B"
    },
    {
      "cell_type": "code",
      "source": [
        "trainer.train()"
      ],
      "metadata": {
        "id": "0o_MDIWOhLxH",
        "colab": {
          "base_uri": "https://localhost:8080/",
          "height": 259
        },
        "outputId": "9ac47059-3540-4c42-bf0d-e9f20b6d0ac2"
      },
      "id": "0o_MDIWOhLxH",
      "execution_count": 74,
      "outputs": [
        {
          "output_type": "display_data",
          "data": {
            "text/plain": [
              "<IPython.core.display.HTML object>"
            ],
            "text/html": [
              "\n",
              "    <div>\n",
              "      \n",
              "      <progress value='24' max='24' style='width:300px; height:20px; vertical-align: middle;'></progress>\n",
              "      [24/24 00:25, Epoch 3/3]\n",
              "    </div>\n",
              "    <table border=\"1\" class=\"dataframe\">\n",
              "  <thead>\n",
              " <tr style=\"text-align: left;\">\n",
              "      <th>Epoch</th>\n",
              "      <th>Training Loss</th>\n",
              "      <th>Validation Loss</th>\n",
              "      <th>Rouge1</th>\n",
              "      <th>Rouge2</th>\n",
              "      <th>Rougel</th>\n",
              "      <th>Rougelsum</th>\n",
              "      <th>Gen Len</th>\n",
              "    </tr>\n",
              "  </thead>\n",
              "  <tbody>\n",
              "    <tr>\n",
              "      <td>1</td>\n",
              "      <td>No log</td>\n",
              "      <td>7.736926</td>\n",
              "      <td>0.149200</td>\n",
              "      <td>0.066000</td>\n",
              "      <td>0.131800</td>\n",
              "      <td>0.131000</td>\n",
              "      <td>19.000000</td>\n",
              "    </tr>\n",
              "    <tr>\n",
              "      <td>2</td>\n",
              "      <td>No log</td>\n",
              "      <td>7.515732</td>\n",
              "      <td>0.150300</td>\n",
              "      <td>0.066800</td>\n",
              "      <td>0.132000</td>\n",
              "      <td>0.131000</td>\n",
              "      <td>19.000000</td>\n",
              "    </tr>\n",
              "    <tr>\n",
              "      <td>3</td>\n",
              "      <td>No log</td>\n",
              "      <td>7.384882</td>\n",
              "      <td>0.149800</td>\n",
              "      <td>0.066900</td>\n",
              "      <td>0.132100</td>\n",
              "      <td>0.131100</td>\n",
              "      <td>19.000000</td>\n",
              "    </tr>\n",
              "  </tbody>\n",
              "</table><p>"
            ]
          },
          "metadata": {}
        },
        {
          "output_type": "stream",
          "name": "stderr",
          "text": [
            "/usr/local/lib/python3.10/dist-packages/transformers/generation/utils.py:1141: UserWarning: Using the model-agnostic default `max_length` (=20) to control the generation length. We recommend setting `max_new_tokens` to control the maximum length of the generation.\n",
            "  warnings.warn(\n"
          ]
        },
        {
          "output_type": "execute_result",
          "data": {
            "text/plain": [
              "TrainOutput(global_step=24, training_loss=7.627909978230794, metrics={'train_runtime': 26.8198, 'train_samples_per_second': 14.318, 'train_steps_per_second': 0.895, 'total_flos': 103942503530496.0, 'train_loss': 7.627909978230794, 'epoch': 3.0})"
            ]
          },
          "metadata": {},
          "execution_count": 74
        }
      ]
    },
    {
      "cell_type": "code",
      "source": [
        "trainer.save_model(\"fine_tuned_t5small\")"
      ],
      "metadata": {
        "id": "qbzNSy4Evz_X"
      },
      "id": "qbzNSy4Evz_X",
      "execution_count": 75,
      "outputs": []
    },
    {
      "cell_type": "code",
      "source": [
        "text = eurLexSum_dataset_2 ['test'][30][\"article\"]\n",
        "text = \"summarize: \"+ text"
      ],
      "metadata": {
        "id": "jtZhRYS0yXNh"
      },
      "id": "jtZhRYS0yXNh",
      "execution_count": 59,
      "outputs": []
    },
    {
      "cell_type": "code",
      "source": [
        "from transformers import pipeline\n",
        "\n",
        "#testing the finetune model\n",
        "summarizer = pipeline(\"summarization\", model=\"fine_tuned_t5small\")\n",
        "pred = summarizer(text)\n",
        "pred\n"
      ],
      "metadata": {
        "colab": {
          "base_uri": "https://localhost:8080/"
        },
        "id": "OEOokucr03e4",
        "outputId": "dc763472-4166-49d8-a21a-e79ea6048cdf"
      },
      "id": "OEOokucr03e4",
      "execution_count": 76,
      "outputs": [
        {
          "output_type": "stream",
          "name": "stderr",
          "text": [
            "Token indices sequence length is longer than the specified maximum sequence length for this model (1187 > 512). Running this sequence through the model will result in indexing errors\n"
          ]
        },
        {
          "output_type": "execute_result",
          "data": {
            "text/plain": [
              "[{'summary_text': 'federal agencies should not acquire private land, other than by exchange, unless the acquisition is clearly in the national interest . it is the policy of Congress that a federal agency should minimize the impact of federal acquisition on units of local government . if for any reason the head of an agency fails to make a payment required under subsection (a), the agency may file civil action against the agency .'}]"
            ]
          },
          "metadata": {},
          "execution_count": 76
        }
      ]
    }
  ],
  "metadata": {
    "colab": {
      "provenance": [],
      "gpuType": "T4",
      "include_colab_link": true
    },
    "kernelspec": {
      "display_name": "Python 3",
      "name": "python3"
    },
    "language_info": {
      "codemirror_mode": {
        "name": "ipython",
        "version": 3
      },
      "file_extension": ".py",
      "mimetype": "text/x-python",
      "name": "python",
      "nbconvert_exporter": "python",
      "pygments_lexer": "ipython3",
      "version": "3.7.6"
    },
    "widgets": {
      "application/vnd.jupyter.widget-state+json": {
        "811af48478b14958952bef1aec6655fb": {
          "model_module": "@jupyter-widgets/controls",
          "model_name": "HBoxModel",
          "model_module_version": "1.5.0",
          "state": {
            "_dom_classes": [],
            "_model_module": "@jupyter-widgets/controls",
            "_model_module_version": "1.5.0",
            "_model_name": "HBoxModel",
            "_view_count": null,
            "_view_module": "@jupyter-widgets/controls",
            "_view_module_version": "1.5.0",
            "_view_name": "HBoxView",
            "box_style": "",
            "children": [
              "IPY_MODEL_ab5ed01c1db142e8b099d56b8a47c163",
              "IPY_MODEL_777a334498dd4327b6aea53e10c6679a",
              "IPY_MODEL_83bf9c891da7485582754233c77605c7"
            ],
            "layout": "IPY_MODEL_cb5092d28e3c4f68b024146be036655c"
          }
        },
        "ab5ed01c1db142e8b099d56b8a47c163": {
          "model_module": "@jupyter-widgets/controls",
          "model_name": "HTMLModel",
          "model_module_version": "1.5.0",
          "state": {
            "_dom_classes": [],
            "_model_module": "@jupyter-widgets/controls",
            "_model_module_version": "1.5.0",
            "_model_name": "HTMLModel",
            "_view_count": null,
            "_view_module": "@jupyter-widgets/controls",
            "_view_module_version": "1.5.0",
            "_view_name": "HTMLView",
            "description": "",
            "description_tooltip": null,
            "layout": "IPY_MODEL_0e53f0f3c8c44fa2a5712af513393c77",
            "placeholder": "​",
            "style": "IPY_MODEL_5f3bc6af2c7e46a4bf26edb00cbd3c10",
            "value": "Map: 100%"
          }
        },
        "777a334498dd4327b6aea53e10c6679a": {
          "model_module": "@jupyter-widgets/controls",
          "model_name": "FloatProgressModel",
          "model_module_version": "1.5.0",
          "state": {
            "_dom_classes": [],
            "_model_module": "@jupyter-widgets/controls",
            "_model_module_version": "1.5.0",
            "_model_name": "FloatProgressModel",
            "_view_count": null,
            "_view_module": "@jupyter-widgets/controls",
            "_view_module_version": "1.5.0",
            "_view_name": "ProgressView",
            "bar_style": "success",
            "description": "",
            "description_tooltip": null,
            "layout": "IPY_MODEL_b89ac10a688d46a494a42237936b9d73",
            "max": 128,
            "min": 0,
            "orientation": "horizontal",
            "style": "IPY_MODEL_a7c2d15b913847c781faefb48f3e5933",
            "value": 128
          }
        },
        "83bf9c891da7485582754233c77605c7": {
          "model_module": "@jupyter-widgets/controls",
          "model_name": "HTMLModel",
          "model_module_version": "1.5.0",
          "state": {
            "_dom_classes": [],
            "_model_module": "@jupyter-widgets/controls",
            "_model_module_version": "1.5.0",
            "_model_name": "HTMLModel",
            "_view_count": null,
            "_view_module": "@jupyter-widgets/controls",
            "_view_module_version": "1.5.0",
            "_view_name": "HTMLView",
            "description": "",
            "description_tooltip": null,
            "layout": "IPY_MODEL_03ee942c2a624ef6bfe25e3eb043ad06",
            "placeholder": "​",
            "style": "IPY_MODEL_c5bdeb5e6f784894803cc767a6c3be52",
            "value": " 128/128 [00:09&lt;00:00, 13.46 examples/s]"
          }
        },
        "cb5092d28e3c4f68b024146be036655c": {
          "model_module": "@jupyter-widgets/base",
          "model_name": "LayoutModel",
          "model_module_version": "1.2.0",
          "state": {
            "_model_module": "@jupyter-widgets/base",
            "_model_module_version": "1.2.0",
            "_model_name": "LayoutModel",
            "_view_count": null,
            "_view_module": "@jupyter-widgets/base",
            "_view_module_version": "1.2.0",
            "_view_name": "LayoutView",
            "align_content": null,
            "align_items": null,
            "align_self": null,
            "border": null,
            "bottom": null,
            "display": null,
            "flex": null,
            "flex_flow": null,
            "grid_area": null,
            "grid_auto_columns": null,
            "grid_auto_flow": null,
            "grid_auto_rows": null,
            "grid_column": null,
            "grid_gap": null,
            "grid_row": null,
            "grid_template_areas": null,
            "grid_template_columns": null,
            "grid_template_rows": null,
            "height": null,
            "justify_content": null,
            "justify_items": null,
            "left": null,
            "margin": null,
            "max_height": null,
            "max_width": null,
            "min_height": null,
            "min_width": null,
            "object_fit": null,
            "object_position": null,
            "order": null,
            "overflow": null,
            "overflow_x": null,
            "overflow_y": null,
            "padding": null,
            "right": null,
            "top": null,
            "visibility": null,
            "width": null
          }
        },
        "0e53f0f3c8c44fa2a5712af513393c77": {
          "model_module": "@jupyter-widgets/base",
          "model_name": "LayoutModel",
          "model_module_version": "1.2.0",
          "state": {
            "_model_module": "@jupyter-widgets/base",
            "_model_module_version": "1.2.0",
            "_model_name": "LayoutModel",
            "_view_count": null,
            "_view_module": "@jupyter-widgets/base",
            "_view_module_version": "1.2.0",
            "_view_name": "LayoutView",
            "align_content": null,
            "align_items": null,
            "align_self": null,
            "border": null,
            "bottom": null,
            "display": null,
            "flex": null,
            "flex_flow": null,
            "grid_area": null,
            "grid_auto_columns": null,
            "grid_auto_flow": null,
            "grid_auto_rows": null,
            "grid_column": null,
            "grid_gap": null,
            "grid_row": null,
            "grid_template_areas": null,
            "grid_template_columns": null,
            "grid_template_rows": null,
            "height": null,
            "justify_content": null,
            "justify_items": null,
            "left": null,
            "margin": null,
            "max_height": null,
            "max_width": null,
            "min_height": null,
            "min_width": null,
            "object_fit": null,
            "object_position": null,
            "order": null,
            "overflow": null,
            "overflow_x": null,
            "overflow_y": null,
            "padding": null,
            "right": null,
            "top": null,
            "visibility": null,
            "width": null
          }
        },
        "5f3bc6af2c7e46a4bf26edb00cbd3c10": {
          "model_module": "@jupyter-widgets/controls",
          "model_name": "DescriptionStyleModel",
          "model_module_version": "1.5.0",
          "state": {
            "_model_module": "@jupyter-widgets/controls",
            "_model_module_version": "1.5.0",
            "_model_name": "DescriptionStyleModel",
            "_view_count": null,
            "_view_module": "@jupyter-widgets/base",
            "_view_module_version": "1.2.0",
            "_view_name": "StyleView",
            "description_width": ""
          }
        },
        "b89ac10a688d46a494a42237936b9d73": {
          "model_module": "@jupyter-widgets/base",
          "model_name": "LayoutModel",
          "model_module_version": "1.2.0",
          "state": {
            "_model_module": "@jupyter-widgets/base",
            "_model_module_version": "1.2.0",
            "_model_name": "LayoutModel",
            "_view_count": null,
            "_view_module": "@jupyter-widgets/base",
            "_view_module_version": "1.2.0",
            "_view_name": "LayoutView",
            "align_content": null,
            "align_items": null,
            "align_self": null,
            "border": null,
            "bottom": null,
            "display": null,
            "flex": null,
            "flex_flow": null,
            "grid_area": null,
            "grid_auto_columns": null,
            "grid_auto_flow": null,
            "grid_auto_rows": null,
            "grid_column": null,
            "grid_gap": null,
            "grid_row": null,
            "grid_template_areas": null,
            "grid_template_columns": null,
            "grid_template_rows": null,
            "height": null,
            "justify_content": null,
            "justify_items": null,
            "left": null,
            "margin": null,
            "max_height": null,
            "max_width": null,
            "min_height": null,
            "min_width": null,
            "object_fit": null,
            "object_position": null,
            "order": null,
            "overflow": null,
            "overflow_x": null,
            "overflow_y": null,
            "padding": null,
            "right": null,
            "top": null,
            "visibility": null,
            "width": null
          }
        },
        "a7c2d15b913847c781faefb48f3e5933": {
          "model_module": "@jupyter-widgets/controls",
          "model_name": "ProgressStyleModel",
          "model_module_version": "1.5.0",
          "state": {
            "_model_module": "@jupyter-widgets/controls",
            "_model_module_version": "1.5.0",
            "_model_name": "ProgressStyleModel",
            "_view_count": null,
            "_view_module": "@jupyter-widgets/base",
            "_view_module_version": "1.2.0",
            "_view_name": "StyleView",
            "bar_color": null,
            "description_width": ""
          }
        },
        "03ee942c2a624ef6bfe25e3eb043ad06": {
          "model_module": "@jupyter-widgets/base",
          "model_name": "LayoutModel",
          "model_module_version": "1.2.0",
          "state": {
            "_model_module": "@jupyter-widgets/base",
            "_model_module_version": "1.2.0",
            "_model_name": "LayoutModel",
            "_view_count": null,
            "_view_module": "@jupyter-widgets/base",
            "_view_module_version": "1.2.0",
            "_view_name": "LayoutView",
            "align_content": null,
            "align_items": null,
            "align_self": null,
            "border": null,
            "bottom": null,
            "display": null,
            "flex": null,
            "flex_flow": null,
            "grid_area": null,
            "grid_auto_columns": null,
            "grid_auto_flow": null,
            "grid_auto_rows": null,
            "grid_column": null,
            "grid_gap": null,
            "grid_row": null,
            "grid_template_areas": null,
            "grid_template_columns": null,
            "grid_template_rows": null,
            "height": null,
            "justify_content": null,
            "justify_items": null,
            "left": null,
            "margin": null,
            "max_height": null,
            "max_width": null,
            "min_height": null,
            "min_width": null,
            "object_fit": null,
            "object_position": null,
            "order": null,
            "overflow": null,
            "overflow_x": null,
            "overflow_y": null,
            "padding": null,
            "right": null,
            "top": null,
            "visibility": null,
            "width": null
          }
        },
        "c5bdeb5e6f784894803cc767a6c3be52": {
          "model_module": "@jupyter-widgets/controls",
          "model_name": "DescriptionStyleModel",
          "model_module_version": "1.5.0",
          "state": {
            "_model_module": "@jupyter-widgets/controls",
            "_model_module_version": "1.5.0",
            "_model_name": "DescriptionStyleModel",
            "_view_count": null,
            "_view_module": "@jupyter-widgets/base",
            "_view_module_version": "1.2.0",
            "_view_name": "StyleView",
            "description_width": ""
          }
        },
        "a39018c811004c49a4f030e55a5a0924": {
          "model_module": "@jupyter-widgets/controls",
          "model_name": "HBoxModel",
          "model_module_version": "1.5.0",
          "state": {
            "_dom_classes": [],
            "_model_module": "@jupyter-widgets/controls",
            "_model_module_version": "1.5.0",
            "_model_name": "HBoxModel",
            "_view_count": null,
            "_view_module": "@jupyter-widgets/controls",
            "_view_module_version": "1.5.0",
            "_view_name": "HBoxView",
            "box_style": "",
            "children": [
              "IPY_MODEL_d8e4e7164b9a465da966c23a3d4126ab",
              "IPY_MODEL_02f4522364e2427b805a2fddc5622a90",
              "IPY_MODEL_da82dd870c4e441f953efedc1e942f1b"
            ],
            "layout": "IPY_MODEL_2c3303cca3214a35843039d1dbb482fe"
          }
        },
        "d8e4e7164b9a465da966c23a3d4126ab": {
          "model_module": "@jupyter-widgets/controls",
          "model_name": "HTMLModel",
          "model_module_version": "1.5.0",
          "state": {
            "_dom_classes": [],
            "_model_module": "@jupyter-widgets/controls",
            "_model_module_version": "1.5.0",
            "_model_name": "HTMLModel",
            "_view_count": null,
            "_view_module": "@jupyter-widgets/controls",
            "_view_module_version": "1.5.0",
            "_view_name": "HTMLView",
            "description": "",
            "description_tooltip": null,
            "layout": "IPY_MODEL_d35a4b8fda284b3c876776936e12a7bc",
            "placeholder": "​",
            "style": "IPY_MODEL_a4c2fbd249a943a59ea1c5834eca9cc2",
            "value": "Map: 100%"
          }
        },
        "02f4522364e2427b805a2fddc5622a90": {
          "model_module": "@jupyter-widgets/controls",
          "model_name": "FloatProgressModel",
          "model_module_version": "1.5.0",
          "state": {
            "_dom_classes": [],
            "_model_module": "@jupyter-widgets/controls",
            "_model_module_version": "1.5.0",
            "_model_name": "FloatProgressModel",
            "_view_count": null,
            "_view_module": "@jupyter-widgets/controls",
            "_view_module_version": "1.5.0",
            "_view_name": "ProgressView",
            "bar_style": "success",
            "description": "",
            "description_tooltip": null,
            "layout": "IPY_MODEL_b0dc19c7662b458c96bd7d283eb96715",
            "max": 32,
            "min": 0,
            "orientation": "horizontal",
            "style": "IPY_MODEL_a2e624f374d34c62b02596ff4426b110",
            "value": 32
          }
        },
        "da82dd870c4e441f953efedc1e942f1b": {
          "model_module": "@jupyter-widgets/controls",
          "model_name": "HTMLModel",
          "model_module_version": "1.5.0",
          "state": {
            "_dom_classes": [],
            "_model_module": "@jupyter-widgets/controls",
            "_model_module_version": "1.5.0",
            "_model_name": "HTMLModel",
            "_view_count": null,
            "_view_module": "@jupyter-widgets/controls",
            "_view_module_version": "1.5.0",
            "_view_name": "HTMLView",
            "description": "",
            "description_tooltip": null,
            "layout": "IPY_MODEL_c11c1d87990f414aaacd298496c07aaf",
            "placeholder": "​",
            "style": "IPY_MODEL_3e0f540f047a446aac46055a156f8df8",
            "value": " 32/32 [00:04&lt;00:00,  6.68 examples/s]"
          }
        },
        "2c3303cca3214a35843039d1dbb482fe": {
          "model_module": "@jupyter-widgets/base",
          "model_name": "LayoutModel",
          "model_module_version": "1.2.0",
          "state": {
            "_model_module": "@jupyter-widgets/base",
            "_model_module_version": "1.2.0",
            "_model_name": "LayoutModel",
            "_view_count": null,
            "_view_module": "@jupyter-widgets/base",
            "_view_module_version": "1.2.0",
            "_view_name": "LayoutView",
            "align_content": null,
            "align_items": null,
            "align_self": null,
            "border": null,
            "bottom": null,
            "display": null,
            "flex": null,
            "flex_flow": null,
            "grid_area": null,
            "grid_auto_columns": null,
            "grid_auto_flow": null,
            "grid_auto_rows": null,
            "grid_column": null,
            "grid_gap": null,
            "grid_row": null,
            "grid_template_areas": null,
            "grid_template_columns": null,
            "grid_template_rows": null,
            "height": null,
            "justify_content": null,
            "justify_items": null,
            "left": null,
            "margin": null,
            "max_height": null,
            "max_width": null,
            "min_height": null,
            "min_width": null,
            "object_fit": null,
            "object_position": null,
            "order": null,
            "overflow": null,
            "overflow_x": null,
            "overflow_y": null,
            "padding": null,
            "right": null,
            "top": null,
            "visibility": null,
            "width": null
          }
        },
        "d35a4b8fda284b3c876776936e12a7bc": {
          "model_module": "@jupyter-widgets/base",
          "model_name": "LayoutModel",
          "model_module_version": "1.2.0",
          "state": {
            "_model_module": "@jupyter-widgets/base",
            "_model_module_version": "1.2.0",
            "_model_name": "LayoutModel",
            "_view_count": null,
            "_view_module": "@jupyter-widgets/base",
            "_view_module_version": "1.2.0",
            "_view_name": "LayoutView",
            "align_content": null,
            "align_items": null,
            "align_self": null,
            "border": null,
            "bottom": null,
            "display": null,
            "flex": null,
            "flex_flow": null,
            "grid_area": null,
            "grid_auto_columns": null,
            "grid_auto_flow": null,
            "grid_auto_rows": null,
            "grid_column": null,
            "grid_gap": null,
            "grid_row": null,
            "grid_template_areas": null,
            "grid_template_columns": null,
            "grid_template_rows": null,
            "height": null,
            "justify_content": null,
            "justify_items": null,
            "left": null,
            "margin": null,
            "max_height": null,
            "max_width": null,
            "min_height": null,
            "min_width": null,
            "object_fit": null,
            "object_position": null,
            "order": null,
            "overflow": null,
            "overflow_x": null,
            "overflow_y": null,
            "padding": null,
            "right": null,
            "top": null,
            "visibility": null,
            "width": null
          }
        },
        "a4c2fbd249a943a59ea1c5834eca9cc2": {
          "model_module": "@jupyter-widgets/controls",
          "model_name": "DescriptionStyleModel",
          "model_module_version": "1.5.0",
          "state": {
            "_model_module": "@jupyter-widgets/controls",
            "_model_module_version": "1.5.0",
            "_model_name": "DescriptionStyleModel",
            "_view_count": null,
            "_view_module": "@jupyter-widgets/base",
            "_view_module_version": "1.2.0",
            "_view_name": "StyleView",
            "description_width": ""
          }
        },
        "b0dc19c7662b458c96bd7d283eb96715": {
          "model_module": "@jupyter-widgets/base",
          "model_name": "LayoutModel",
          "model_module_version": "1.2.0",
          "state": {
            "_model_module": "@jupyter-widgets/base",
            "_model_module_version": "1.2.0",
            "_model_name": "LayoutModel",
            "_view_count": null,
            "_view_module": "@jupyter-widgets/base",
            "_view_module_version": "1.2.0",
            "_view_name": "LayoutView",
            "align_content": null,
            "align_items": null,
            "align_self": null,
            "border": null,
            "bottom": null,
            "display": null,
            "flex": null,
            "flex_flow": null,
            "grid_area": null,
            "grid_auto_columns": null,
            "grid_auto_flow": null,
            "grid_auto_rows": null,
            "grid_column": null,
            "grid_gap": null,
            "grid_row": null,
            "grid_template_areas": null,
            "grid_template_columns": null,
            "grid_template_rows": null,
            "height": null,
            "justify_content": null,
            "justify_items": null,
            "left": null,
            "margin": null,
            "max_height": null,
            "max_width": null,
            "min_height": null,
            "min_width": null,
            "object_fit": null,
            "object_position": null,
            "order": null,
            "overflow": null,
            "overflow_x": null,
            "overflow_y": null,
            "padding": null,
            "right": null,
            "top": null,
            "visibility": null,
            "width": null
          }
        },
        "a2e624f374d34c62b02596ff4426b110": {
          "model_module": "@jupyter-widgets/controls",
          "model_name": "ProgressStyleModel",
          "model_module_version": "1.5.0",
          "state": {
            "_model_module": "@jupyter-widgets/controls",
            "_model_module_version": "1.5.0",
            "_model_name": "ProgressStyleModel",
            "_view_count": null,
            "_view_module": "@jupyter-widgets/base",
            "_view_module_version": "1.2.0",
            "_view_name": "StyleView",
            "bar_color": null,
            "description_width": ""
          }
        },
        "c11c1d87990f414aaacd298496c07aaf": {
          "model_module": "@jupyter-widgets/base",
          "model_name": "LayoutModel",
          "model_module_version": "1.2.0",
          "state": {
            "_model_module": "@jupyter-widgets/base",
            "_model_module_version": "1.2.0",
            "_model_name": "LayoutModel",
            "_view_count": null,
            "_view_module": "@jupyter-widgets/base",
            "_view_module_version": "1.2.0",
            "_view_name": "LayoutView",
            "align_content": null,
            "align_items": null,
            "align_self": null,
            "border": null,
            "bottom": null,
            "display": null,
            "flex": null,
            "flex_flow": null,
            "grid_area": null,
            "grid_auto_columns": null,
            "grid_auto_flow": null,
            "grid_auto_rows": null,
            "grid_column": null,
            "grid_gap": null,
            "grid_row": null,
            "grid_template_areas": null,
            "grid_template_columns": null,
            "grid_template_rows": null,
            "height": null,
            "justify_content": null,
            "justify_items": null,
            "left": null,
            "margin": null,
            "max_height": null,
            "max_width": null,
            "min_height": null,
            "min_width": null,
            "object_fit": null,
            "object_position": null,
            "order": null,
            "overflow": null,
            "overflow_x": null,
            "overflow_y": null,
            "padding": null,
            "right": null,
            "top": null,
            "visibility": null,
            "width": null
          }
        },
        "3e0f540f047a446aac46055a156f8df8": {
          "model_module": "@jupyter-widgets/controls",
          "model_name": "DescriptionStyleModel",
          "model_module_version": "1.5.0",
          "state": {
            "_model_module": "@jupyter-widgets/controls",
            "_model_module_version": "1.5.0",
            "_model_name": "DescriptionStyleModel",
            "_view_count": null,
            "_view_module": "@jupyter-widgets/base",
            "_view_module_version": "1.2.0",
            "_view_name": "StyleView",
            "description_width": ""
          }
        }
      }
    },
    "accelerator": "GPU"
  },
  "nbformat": 4,
  "nbformat_minor": 5
}